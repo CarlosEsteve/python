{
 "cells": [
  {
   "cell_type": "markdown",
   "metadata": {},
   "source": [
    "Ejercicios Control y funciones"
   ]
  },
  {
   "cell_type": "code",
   "execution_count": 3,
   "metadata": {},
   "outputs": [
    {
     "name": "stdout",
     "output_type": "stream",
     "text": [
      "Números divisibles por 7 y múltiplos de 5 entre 1500 y 2700:\n",
      "[1505, 1540, 1575, 1610, 1645, 1680, 1715, 1750, 1785, 1820, 1855, 1890, 1925, 1960, 1995, 2030, 2065, 2100, 2135, 2170, 2205, 2240, 2275, 2310, 2345, 2380, 2415, 2450, 2485, 2520, 2555, 2590, 2625, 2660, 2695]\n"
     ]
    }
   ],
   "source": [
    "# 1. Escribe una función para encontrar los números que son divisibles por 7 y múltiplos de 5, entre 1500 y 2700 (ambos incluidos).\n",
    "\n",
    "def encontrar_numeros():\n",
    "    # Lista para almacenar los números que cumplen la condición\n",
    "    numeros = []\n",
    "    # Recorrer el rango de 1500 a 2700 (ambos incluidos)\n",
    "    for numero in range(1500, 2701):\n",
    "        # Verificar si el número es divisible por 7 y múltiplo de 5\n",
    "        if numero % 7 == 0 and numero % 5 == 0:\n",
    "            numeros.append(numero)\n",
    "    return numeros\n",
    "\n",
    "numeros_encontrados = encontrar_numeros()\n",
    "print(\"Números divisibles por 7 y múltiplos de 5 entre 1500 y 2700:\")\n",
    "print(numeros_encontrados)    \n",
    "\n"
   ]
  },
  {
   "cell_type": "code",
   "execution_count": 9,
   "metadata": {},
   "outputs": [
    {
     "name": "stdout",
     "output_type": "stream",
     "text": [
      "60 °C es 140.0 en grados Fahrenheit\n",
      "45 °F es 7.22 en grados Celsius\n"
     ]
    }
   ],
   "source": [
    "#   2. Escribe una función para convertir temperaturas entre Celsius y Fahrenheit.\n",
    "#      [Fórmula: c/5 = f-32/9 [donde c = temperatura en grados Celsius y f = temperatura en grados Fahrenheit]\n",
    "#      Resultado esperado:\n",
    "#      60 °C es 140 en grados Fahrenheit\n",
    "#      45 °F es 7 en grados Celsius\n",
    "\n",
    "# Función para convertir de Celsius a Fahrenheit\n",
    "def celsius_a_fahrenheit(celsius):\n",
    "    fahrenheit = (celsius * 9/5) + 32\n",
    "    return fahrenheit\n",
    "\n",
    "# Función para convertir de Fahrenheit a Celsius\n",
    "def fahrenheit_a_celsius(fahrenheit):\n",
    "    celsius = round((fahrenheit - 32) * 5/9, 2)\n",
    "    return celsius\n",
    "\n",
    "# Ejemplo de uso\n",
    "celsius = int(input())\n",
    "fahrenheit = celsius_a_fahrenheit(celsius)\n",
    "print(f\"{celsius} °C es {fahrenheit} en grados Fahrenheit\")\n",
    "\n",
    "fahrenheit = int(input())\n",
    "celsius = fahrenheit_a_celsius(fahrenheit)\n",
    "print(f\"{fahrenheit} °F es {celsius} en grados Celsius\")"
   ]
  },
  {
   "cell_type": "code",
   "execution_count": null,
   "metadata": {},
   "outputs": [],
   "source": [
    "#   3. Escribe una función para adivinar un número entre 1 y 9.\n",
    "#      Nota: Se le solicita al usuario que ingrese una hipótesis (número).\n",
    "#      Si la hipótesis es incorrecta, el mensaje aparece nuevamente hasta que la hipótesis sea correcta. \n",
    "#      Si la hipótesis es correcta, el usuario recibirá un mensaje que indica \"¡Bien adivinado!\" y el programa se cerrará.\n",
    "\n",
    "import random\n",
    "\n",
    "def adivinar_numero():\n",
    "    # Generar un número aleatorio entre 1 y 9\n",
    "    numero_correcto = random.randint(1, 9)\n",
    "    \n",
    "    while True:\n",
    "        # Solicitar al usuario que ingrese un número\n",
    "        intento = input(\"Adivina un número entre 1 y 9: \")\n",
    "        \n",
    "        try:\n",
    "            # Convertir la entrada a un número entero\n",
    "            intento = int(intento)\n",
    "            \n",
    "            # Verificar si el número está en el rango correcto\n",
    "            if intento < 1 or intento > 9:\n",
    "                print(\"Por favor, ingresa un número entre 1 y 9.\")\n",
    "                continue\n",
    "            \n",
    "            # Verificar si el intento es correcto\n",
    "            if intento == numero_correcto:\n",
    "                print(\"¡Bien adivinado!\")\n",
    "                break\n",
    "            else:\n",
    "                print(\"Incorrecto, intenta de nuevo.\")\n",
    "        \n",
    "        except ValueError:\n",
    "            print(\"Entrada no válida. Por favor, ingresa un número.\")\n",
    "\n",
    "# Ejecutar la función\n",
    "adivinar_numero()\n"
   ]
  },
  {
   "cell_type": "code",
   "execution_count": null,
   "metadata": {},
   "outputs": [],
   "source": [
    "#   4. Escribe una función para construir el siguiente patrón, utilizando un bucle for anidado.\n",
    "\n",
    "#   *\n",
    "#   * *\n",
    "#   * * *\n",
    "#   * * * *\n",
    "#   * * * * *\n",
    "#   * * * *\n",
    "#   * * *\n",
    "#   * *\n",
    "#   *\n",
    "\n",
    "def construir_patron():\n",
    "    # Número máximo de estrellas en la fila más larga\n",
    "    max_estrellas = 15\n",
    "    \n",
    "    # Construir la parte ascendente del patrón\n",
    "    for i in range(1, max_estrellas + 1):\n",
    "        print('* ' * i)\n",
    "    \n",
    "    # Construir la parte descendente del patrón\n",
    "    for i in range(max_estrellas - 1, 0, -1):\n",
    "        print('* ' * i)\n",
    "\n",
    "# Ejecutar la función\n",
    "construir_patron()"
   ]
  },
  {
   "cell_type": "code",
   "execution_count": 16,
   "metadata": {},
   "outputs": [
    {
     "name": "stdout",
     "output_type": "stream",
     "text": [
      "La palabra invertida es: atordnilap\n"
     ]
    }
   ],
   "source": [
    "#   5. Escribe una función que acepte una palabra del usuario y la invierta.\n",
    "\n",
    "def invertir_palabra():\n",
    "    # Solicitar al usuario que ingrese una palabra\n",
    "    palabra = input(\"Introduce una palabra: \")\n",
    "    # Invertir la palabra\n",
    "    palabra_invertida = palabra[::-1]\n",
    "    # Mostrar la palabra invertida\n",
    "    print(f\"La palabra invertida es: {palabra_invertida}\")\n",
    "\n",
    "# Ejecutar la función\n",
    "invertir_palabra()"
   ]
  },
  {
   "cell_type": "code",
   "execution_count": 17,
   "metadata": {},
   "outputs": [
    {
     "name": "stdout",
     "output_type": "stream",
     "text": [
      "Número de números pares: 4\n",
      "Número de números impares: 5\n"
     ]
    }
   ],
   "source": [
    "#   6.  Escribe una función para contar la cantidad de números pares e impares en una serie de números\n",
    "#       Números de ejemplo: números = (1, 2, 3, 4, 5, 6, 7, 8, 9)\n",
    "#       Resultado esperado:\n",
    "#       Número de números pares: 5\n",
    "#       Número de números impares: 4\n",
    "\n",
    "def contar_pares_impares(numeros):\n",
    "    # Inicializar contadores\n",
    "    contador_pares = 0\n",
    "    contador_impares = 0\n",
    "    \n",
    "    # Recorrer la lista de números\n",
    "    for numero in numeros:\n",
    "        # Verificar si el número es par\n",
    "        if numero % 2 == 0:\n",
    "            contador_pares += 1\n",
    "        else:\n",
    "            contador_impares += 1\n",
    "    \n",
    "    return contador_pares, contador_impares\n",
    "\n",
    "# Ejemplo de uso\n",
    "numeros = (1, 2, 3, 4, 5, 6, 7, 8, 9)\n",
    "pares, impares = contar_pares_impares(numeros)\n",
    "print(f\"Número de números pares: {pares}\")\n",
    "print(f\"Número de números impares: {impares}\")"
   ]
  },
  {
   "cell_type": "code",
   "execution_count": 18,
   "metadata": {},
   "outputs": [
    {
     "name": "stdout",
     "output_type": "stream",
     "text": [
      "Elemento: 1452, Tipo: <class 'int'>\n",
      "Elemento: 11.23, Tipo: <class 'float'>\n",
      "Elemento: (1+2j), Tipo: <class 'complex'>\n",
      "Elemento: True, Tipo: <class 'bool'>\n",
      "Elemento: w3resource, Tipo: <class 'str'>\n",
      "Elemento: (0, -1), Tipo: <class 'tuple'>\n",
      "Elemento: [5, 12], Tipo: <class 'list'>\n",
      "Elemento: {'class': 'V', 'section': 'A'}, Tipo: <class 'dict'>\n"
     ]
    }
   ],
   "source": [
    "#   7.  Escribe una función que imprima cada elemento y su tipo correspondiente de la siguiente lista.\n",
    "#       Lista de ejemplo: datalist = [1452, 11.23, 1+2j, True, 'w3resource', (0, -1), [5, 12], {\"class\":'V', \"section\":'A'}]\n",
    "\n",
    "def imprimir_elementos_y_tipos(datalist):\n",
    "    for elemento in datalist:\n",
    "        print(f\"Elemento: {elemento}, Tipo: {type(elemento)}\")\n",
    "\n",
    "# Lista de ejemplo\n",
    "datalist = [1452, 11.23, 1+2j, True, 'w3resource', (0, -1), [5, 12], {\"class\":'V', \"section\":'A'}]\n",
    "\n",
    "# Ejecutar la función\n",
    "imprimir_elementos_y_tipos(datalist)"
   ]
  },
  {
   "cell_type": "code",
   "execution_count": 19,
   "metadata": {},
   "outputs": [
    {
     "name": "stdout",
     "output_type": "stream",
     "text": [
      "0 1 2 4 5 "
     ]
    }
   ],
   "source": [
    "#     8.  Escriba una función que imprima todos los números del 0 al 6 excepto el 3 y el 6.\n",
    "#         Nota: utilice la instrucción \"continue\".\n",
    "#         Resultado esperado: 0 1 2 4 5\n",
    "\n",
    "def imprimir_numeros():\n",
    "    for numero in range(7):\n",
    "        if numero == 3 or numero == 6:\n",
    "            continue\n",
    "        print(numero, end=\" \")\n",
    "\n",
    "# Ejecutar la función\n",
    "imprimir_numeros()"
   ]
  },
  {
   "cell_type": "code",
   "execution_count": 20,
   "metadata": {},
   "outputs": [
    {
     "name": "stdout",
     "output_type": "stream",
     "text": [
      "[1, 1, 2, 3, 5, 8, 13, 21, 34]\n"
     ]
    }
   ],
   "source": [
    "#   9.  Escriba una función para obtener la serie de Fibonacci entre 0 y 50.\n",
    "#       Nota: la secuencia de Fibonacci es la serie de números:\n",
    "#       0, 1, 1, 2, 3, 5, 8, 13, 21, ....\n",
    "#       Cada número siguiente se obtiene sumando los dos números anteriores.\n",
    "#       Resultado esperado: 1 1 2 3 5 8 13 21 34\n",
    "\n",
    "def fibonacci_series(limit):\n",
    "    fib_series = []\n",
    "    a, b = 0, 1\n",
    "    while b <= limit:\n",
    "        fib_series.append(b)\n",
    "        a, b = b, a + b\n",
    "    return fib_series\n",
    "\n",
    "# Llamada a la función con el límite 50\n",
    "result = fibonacci_series(50)\n",
    "print(result)"
   ]
  },
  {
   "cell_type": "code",
   "execution_count": null,
   "metadata": {},
   "outputs": [],
   "source": [
    "#   10. Escriba un programa Python que itere los números enteros del 1 al 50. Para los múltiplos de tres, imprima \"Fizz\" en lugar del número y para los múltiplos de cinco, imprima \"Buzz\". Para los números que sean múltiplos de tres y cinco, imprima \"FizzBuzz\".\n",
    "#       Resultado de ejemplo:\n",
    "#       fizzbuzz\n",
    "#       1\n",
    "#       2\n",
    "#       fizz\n",
    "#       4\n",
    "#       buzz\n",
    "\n",
    "for i in range(1, 51):\n",
    "    if i % 3 == 0 and i % 5 == 0:\n",
    "        print(\"FizzBuzz\")\n",
    "    elif i % 3 == 0:\n",
    "        print(\"Fizz\")\n",
    "    elif i % 5 == 0:\n",
    "        print(\"Buzz\")\n",
    "    else:\n",
    "        print(i)"
   ]
  }
 ],
 "metadata": {
  "kernelspec": {
   "display_name": "Python 3.8 - AzureML",
   "language": "python",
   "name": "python38-azureml"
  },
  "language_info": {
   "codemirror_mode": {
    "name": "ipython",
    "version": 3
   },
   "file_extension": ".py",
   "mimetype": "text/x-python",
   "name": "python",
   "nbconvert_exporter": "python",
   "pygments_lexer": "ipython3",
   "version": "3.10.11"
  }
 },
 "nbformat": 4,
 "nbformat_minor": 2
}
