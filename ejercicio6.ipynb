{
 "cells": [
  {
   "cell_type": "markdown",
   "metadata": {},
   "source": [
    "## EJERCICIOS 6\n",
    "1 - Procesa el fichero notas.csv para completarlo con la nota media y varianza de cada alumno, usando funciones estadísticas. Luego actualiza el fichero original.\n",
    "\t+ https://raw.githubusercontent.com/ricardoahumada/pythonfundamentals/refs/heads/main/data/notas.csv\n",
    "2 - Escribe una función que copie el contenido de un archivo textual \"{ruta_a}/sample.txt\" en otro \"{ruta_a}/new.txt\". Luego muestra el contenido de new.txt línea por línea. Por último, elimina new.txt"
   ]
  },
  {
   "cell_type": "code",
   "execution_count": null,
   "metadata": {},
   "outputs": [],
   "source": [
    "#   1 - Procesa el fichero notas.csv para completarlo con la nota media y varianza de cada alumno, usando funciones estadísticas.\n",
    "#       Luego actualiza el fichero original.\n",
    "\n",
    "import statistics\n",
    "\n",
    "base_path = os.getcwd()\n",
    "raiz = '/home/azureuser/cloudfiles/code/Users/cesteves.netmind/python/ficheros/'\n",
    "\n",
    "\n",
    "def generate_new_data(filename):\n",
    "    if not os.path.isfile(filename):\n",
    "        return None\n",
    "\n",
    "    fobj_in = open(filename)\n",
    "\n",
    "    idx = 0\n",
    "    new_data = []\n",
    "    for line in fobj_in:\n",
    "        alumno = line.rstrip().split(',')\n",
    "        # print(alumno)\n",
    "        new_line = list(alumno)\n",
    "        mean = 'media'\n",
    "        stdv = 'stdv'\n",
    "\n",
    "        if idx > 0:\n",
    "            notas = (int(alumno[1]), int(alumno[2]))\n",
    "            mean = statistics.mean(notas)\n",
    "            stdv = statistics.stdev(notas)\n",
    "\n",
    "        new_line.append(mean)\n",
    "        new_line.append(stdv)\n",
    "\n",
    "        new_data.append(new_line)\n",
    "        idx += 1\n",
    "\n",
    "    fobj_in.close()\n",
    "\n",
    "    return new_data\n",
    "\n",
    "\n",
    "def write_new_data(filename, aList):\n",
    "    if aList and len(aList) > 0:\n",
    "        with open(filename, 'w') as f:\n",
    "            for line in aList:\n",
    "                linea = ','.join(map(lambda l: str(l), line))\n",
    "                f.write(linea + '\\n')\n",
    "            f.close()\n",
    "    else:\n",
    "        print('Lista vacia')\n",
    "\n",
    "\n",
    "data = generate_new_data(raiz + \"../data/notas.csv\")\n",
    "print(data)\n",
    "\n",
    "write_new_data(raiz + '../data/notas_new.csv', data)\n",
    "\n",
    "\n",
    "\n"
   ]
  },
  {
   "cell_type": "code",
   "execution_count": 1,
   "metadata": {},
   "outputs": [
    {
     "name": "stdout",
     "output_type": "stream",
     "text": [
      "Este es una prueba222\n",
      "y sigue\n",
      "y siguemas\n",
      "y mas\n"
     ]
    },
    {
     "name": "stdout",
     "output_type": "stream",
     "text": [
      "Borrado\n"
     ]
    }
   ],
   "source": [
    "#   2 - Escribe una función que copie el contenido de un archivo textual \"{ruta_a}/sample.txt\" en otro \"{ruta_a}/new.txt\".\n",
    "#       Luego muestra el contenido de new.txt línea por línea. Por último, elimina new.txt\n",
    "\n",
    "import os\n",
    "\n",
    "base_path = os.getcwd()\n",
    "raiz = '/home/azureuser/cloudfiles/code/Users/cesteves.netmind/python/ficheros/'\n",
    "\n",
    "def copia_archivo(origen, destino):\n",
    "    if not os.path.isfile(origen):\n",
    "        return None\n",
    "\n",
    "    contenido = open(origen).read()\n",
    "\n",
    "    fobj_out = open(destino, \"w\")\n",
    "    fobj_out.write(contenido)\n",
    "    fobj_out.close()\n",
    "\n",
    "\n",
    "def muestra_contenido_archivo(filename):\n",
    "    if not os.path.isfile(filename):\n",
    "        return None\n",
    "\n",
    "    fobj_in = open(filename)\n",
    "\n",
    "    for line in fobj_in:\n",
    "        print(line.rstrip())\n",
    "\n",
    "    fobj_in.close()\n",
    "\n",
    "\n",
    "def elimina_archivo(filename):\n",
    "    isFile = os.path.isfile(filename)\n",
    "    if isFile:\n",
    "        os.remove(filename)\n",
    "        print('Borrado')\n",
    "    else:\n",
    "        print('No existe')\n",
    "\n",
    "\n",
    "sample_path = raiz + 'sample.txt'\n",
    "new_path = raiz + 'new.txt'\n",
    "\n",
    "copia_archivo(sample_path, new_path)\n",
    "muestra_contenido_archivo(new_path)\n",
    "input('seguir...')\n",
    "elimina_archivo(new_path)\n",
    "\n"
   ]
  }
 ],
 "metadata": {
  "kernelspec": {
   "display_name": "Python 3 (ipykernel)",
   "language": "python",
   "name": "python3"
  },
  "language_info": {
   "codemirror_mode": {
    "name": "ipython",
    "version": 3
   },
   "file_extension": ".py",
   "mimetype": "text/x-python",
   "name": "python",
   "nbconvert_exporter": "python",
   "pygments_lexer": "ipython3",
   "version": "3.10.11"
  }
 },
 "nbformat": 4,
 "nbformat_minor": 2
}
