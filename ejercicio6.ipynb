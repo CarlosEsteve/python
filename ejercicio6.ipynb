{
 "cells": [
  {
   "cell_type": "markdown",
   "metadata": {},
   "source": [
    "## EJERCICIOS 6\n",
    "1 - Procesa el fichero notas.csv para completarlo con la nota media y varianza de cada alumno, usando funciones estadísticas. Luego actualiza el fichero original.\n",
    "\t+ https://raw.githubusercontent.com/ricardoahumada/pythonfundamentals/refs/heads/main/data/notas.csv\n",
    "2 - Escribe una función que copie el contenido de un archivo textual \"{ruta_a}/sample.txt\" en otro \"{ruta_a}/new.txt\". Luego muestra el contenido de new.txt línea por línea. Por último, elimina new.txt"
   ]
  },
  {
   "cell_type": "code",
   "execution_count": 4,
   "metadata": {},
   "outputs": [
    {
     "name": "stdout",
     "output_type": "stream",
     "text": [
      "[['Name', 'maths', 'lang', 'media', 'stdv'], ['Sosanna', '4', '5', 4.5, 0.7071], ['Rosalind', '8', '5', 6.5, 2.1213], ['Gaspar', '1', '5', 3, 2.8284], ['Herve', '2', '2', 2, 0.0], ['Jayme', '5', '7', 6, 1.4142], ['Dasya', '5', '2', 3.5, 2.1213], ['Christean', '2', '6', 4, 2.8284], ['Risa', '9', '7', 8, 1.4142], ['Florenza', '10', '5', 7.5, 3.5355], ['Donella', '10', '3', 6.5, 4.9497], ['Cesaro', '2', '7', 4.5, 3.5355], ['Beatrisa', '9', '5', 7, 2.8284], ['Thain', '1', '3', 2, 1.4142], ['Shaylah', '6', '1', 3.5, 3.5355], ['Anne-marie', '4', '3', 3.5, 0.7071], ['Swen', '8', '6', 7, 1.4142], ['Vaclav', '1', '10', 5.5, 6.364], ['Hermine', '2', '1', 1.5, 0.7071], ['Sybyl', '10', '10', 10, 0.0], ['Ynes', '6', '2', 4, 2.8284], ['Antonie', '9', '9', 9, 0.0], ['Trixie', '9', '4', 6.5, 3.5355], ['Mathilde', '4', '1', 2.5, 2.1213], ['Merlina', '6', '6', 6, 0.0], ['Zared', '1', '3', 2, 1.4142], ['Brandais', '3', '1', 2, 1.4142], ['Reggie', '10', '8', 9, 1.4142], ['Burk', '8', '5', 6.5, 2.1213], ['Seymour', '5', '3', 4, 1.4142], ['Fergus', '2', '5', 3.5, 2.1213], ['Jeanette', '1', '4', 2.5, 2.1213], ['Arther', '5', '5', 5, 0.0], ['Avictor', '9', '5', 7, 2.8284], ['Lynette', '7', '6', 6.5, 0.7071], ['Briano', '2', '6', 4, 2.8284], ['Daveta', '4', '9', 6.5, 3.5355], ['Devonne', '10', '8', 9, 1.4142], ['Chiarra', '6', '3', 4.5, 2.1213], ['Torrey', '2', '3', 2.5, 0.7071], ['Hattie', '2', '2', 2, 0.0], ['Florenza', '10', '4', 7, 4.2426], ['Veronica', '8', '4', 6, 2.8284], ['Jared', '6', '3', 4.5, 2.1213], ['Lori', '6', '10', 8, 2.8284], ['Kristopher', '1', '9', 5, 5.6569], ['Jeanne', '1', '4', 2.5, 2.1213], ['Maximilian', '3', '9', 6, 4.2426], ['Merrily', '5', '3', 4, 1.4142], ['Skipton', '9', '9', 9, 0.0], ['Tom', '10', '7', 8.5, 2.1213], ['Cirilo', '2', '6', 4, 2.8284], ['Warde', '8', '5', 6.5, 2.1213], ['Woodie', '10', '1', 5.5, 6.364], ['Odetta', '3', '9', 6, 4.2426], ['Cordelie', '2', '1', 1.5, 0.7071], ['Wilow', '10', '6', 8, 2.8284], ['Charissa', '5', '10', 7.5, 3.5355], ['Ralina', '10', '2', 6, 5.6569], ['Charisse', '6', '9', 7.5, 2.1213], ['Huntley', '8', '3', 5.5, 3.5355], ['Ella', '4', '8', 6, 2.8284], ['Nelli', '2', '10', 6, 5.6569], ['Gearalt', '4', '4', 4, 0.0], ['Zahara', '2', '4', 3, 1.4142], ['Dilan', '8', '6', 7, 1.4142], ['Frederique', '5', '8', 6.5, 2.1213], ['Saba', '9', '9', 9, 0.0], ['Natalya', '1', '2', 1.5, 0.7071], ['Myrah', '3', '5', 4, 1.4142], ['Magnum', '7', '9', 8, 1.4142], ['Grace', '9', '6', 7.5, 2.1213], ['Ilysa', '10', '8', 9, 1.4142], ['Clerkclaude', '7', '2', 4.5, 3.5355], ['Yetty', '8', '4', 6, 2.8284], ['Cassandre', '6', '5', 5.5, 0.7071], ['Olympie', '3', '3', 3, 0.0], ['Joshuah', '7', '2', 4.5, 3.5355], ['Kristine', '3', '7', 5, 2.8284], ['Dean', '8', '10', 9, 1.4142], ['Ilyssa', '9', '3', 6, 4.2426], ['Nannie', '6', '10', 8, 2.8284], ['Feodor', '5', '7', 6, 1.4142], ['Guglielma', '10', '6', 8, 2.8284], ['Alla', '9', '7', 8, 1.4142], ['Rowland', '4', '7', 5.5, 2.1213], ['Miquela', '7', '7', 7, 0.0], ['Sapphira', '4', '2', 3, 1.4142], ['Zorina', '3', '9', 6, 4.2426], ['Rosemonde', '10', '9', 9.5, 0.7071], ['Alisa', '1', '5', 3, 2.8284], ['Ginger', '3', '2', 2.5, 0.7071], ['Karlis', '9', '1', 5, 5.6569], ['Robbin', '7', '8', 7.5, 0.7071], ['Kimberly', '3', '1', 2, 1.4142], ['Udale', '7', '7', 7, 0.0], ['Isidor', '8', '3', 5.5, 3.5355], ['Farlee', '5', '9', 7, 2.8284], ['Katleen', '8', '3', 5.5, 3.5355], ['Nanine', '5', '9', 7, 2.8284], ['Marlow', '2', '2', 2, 0.0]]\n"
     ]
    }
   ],
   "source": [
    "#   1 - Procesa el fichero notas.csv para completarlo con la nota media y varianza de cada alumno, usando funciones estadísticas.\n",
    "#       Luego actualiza el fichero original.\n",
    "\n",
    "import statistics\n",
    "\n",
    "base_path = os.getcwd()\n",
    "raiz = '/home/azureuser/cloudfiles/code/Users/cesteves.netmind/python/ficheros/'\n",
    "\n",
    "\n",
    "def generate_new_data(filename):\n",
    "    if not os.path.isfile(filename):\n",
    "        return None\n",
    "\n",
    "    fobj_in = open(filename)\n",
    "\n",
    "    idx = 0\n",
    "    new_data = []\n",
    "    for line in fobj_in:\n",
    "        alumno = line.rstrip().split(',')\n",
    "        # print(alumno)\n",
    "        new_line = list(alumno)\n",
    "        mean = 'media'\n",
    "        stdv = 'stdv'\n",
    "\n",
    "        if idx > 0:\n",
    "            notas = (int(alumno[1]), int(alumno[2]))\n",
    "            mean = statistics.mean(notas)\n",
    "            stdv = round(statistics.stdev(notas), 4)\n",
    "\n",
    "        new_line.append(mean)\n",
    "        new_line.append(stdv)\n",
    "\n",
    "        new_data.append(new_line)\n",
    "        idx += 1\n",
    "\n",
    "    fobj_in.close()\n",
    "\n",
    "    return new_data\n",
    "\n",
    "\n",
    "def write_new_data(filename, aList):\n",
    "    if aList and len(aList) > 0:\n",
    "        with open(filename, 'w') as f:\n",
    "            for line in aList:\n",
    "                linea = ','.join(map(lambda l: str(l), line))\n",
    "                f.write(linea + '\\n')\n",
    "            f.close()\n",
    "    else:\n",
    "        print('Lista vacia')\n",
    "\n",
    "\n",
    "data = generate_new_data(raiz + \"notas.csv\")\n",
    "print(data)\n",
    "\n",
    "write_new_data(raiz + 'notas_new.csv', data)\n",
    "\n",
    "\n",
    "\n"
   ]
  },
  {
   "cell_type": "code",
   "execution_count": 7,
   "metadata": {},
   "outputs": [
    {
     "name": "stdout",
     "output_type": "stream",
     "text": [
      "Este es una prueba222\n",
      "y sigue\n",
      "y siguemas\n",
      "y mas\n"
     ]
    },
    {
     "name": "stdout",
     "output_type": "stream",
     "text": [
      "Borrado\n"
     ]
    }
   ],
   "source": [
    "#   2 - Escribe una función que copie el contenido de un archivo textual \"{ruta_a}/sample.txt\" en otro \"{ruta_a}/new.txt\".\n",
    "#       Luego muestra el contenido de new.txt línea por línea. Por último, elimina new.txt\n",
    "\n",
    "import os\n",
    "\n",
    "base_path = os.getcwd()\n",
    "raiz = '/home/azureuser/cloudfiles/code/Users/cesteves.netmind/python/ficheros/'\n",
    "\n",
    "def copia_archivo(origen, destino):\n",
    "    if not os.path.isfile(origen):\n",
    "        return None\n",
    "\n",
    "    contenido = open(origen).read()\n",
    "\n",
    "    fobj_out = open(destino, \"w\")\n",
    "    fobj_out.write(contenido)\n",
    "    fobj_out.close()\n",
    "\n",
    "\n",
    "def muestra_contenido_archivo(filename):\n",
    "    if not os.path.isfile(filename):\n",
    "        return None\n",
    "\n",
    "    fobj_in = open(filename)\n",
    "\n",
    "    for line in fobj_in:\n",
    "        print(line.rstrip())\n",
    "\n",
    "    fobj_in.close()\n",
    "\n",
    "\n",
    "def elimina_archivo(filename):\n",
    "    isFile = os.path.isfile(filename)\n",
    "    if isFile:\n",
    "        os.remove(filename)\n",
    "        print('Borrado')\n",
    "    else:\n",
    "        print('No existe')\n",
    "\n",
    "\n",
    "sample_path = raiz + 'sample.txt'\n",
    "new_path = raiz + 'new.txt'\n",
    "\n",
    "copia_archivo(sample_path, new_path)\n",
    "muestra_contenido_archivo(new_path)\n",
    "input('seguir...')\n",
    "elimina_archivo(new_path)\n",
    "\n"
   ]
  }
 ],
 "metadata": {
  "kernelspec": {
   "display_name": "Python 3.8 - AzureML",
   "language": "python",
   "name": "python38-azureml"
  },
  "language_info": {
   "codemirror_mode": {
    "name": "ipython",
    "version": 3
   },
   "file_extension": ".py",
   "mimetype": "text/x-python",
   "name": "python",
   "nbconvert_exporter": "python",
   "pygments_lexer": "ipython3",
   "version": "3.10.11"
  }
 },
 "nbformat": 4,
 "nbformat_minor": 2
}
