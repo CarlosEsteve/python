{
 "cells": [
  {
   "cell_type": "code",
   "execution_count": null,
   "metadata": {},
   "outputs": [
    {
     "name": "stdout",
     "output_type": "stream",
     "text": [
      "Estas son unas palabras!!!\n",
      "32\n"
     ]
    }
   ],
   "source": [
    "texto = 'Estas son unas palabras'\n",
    "num = 22\n",
    "\n",
    "\n",
    "def ImprimeText(texto, num):      # Defines una funcion cuyas variables son internas de la función. Cuidado con nombrarlas igual que las de fuera de la función\n",
    "    texto = texto + '!!!'\n",
    "    print(texto)\n",
    "    num += 10\n",
    "    print(num)\n",
    "    \n",
    "\n",
    "\n",
    "ImprimeText(texto, num)          # Así se invoca pasandole información\n"
   ]
  },
  {
   "cell_type": "code",
   "execution_count": 23,
   "metadata": {},
   "outputs": [
    {
     "name": "stdout",
     "output_type": "stream",
     "text": [
      "350.0\n",
      "Informe con: 350.0\n",
      "1200.0\n",
      "Informe con: 1200.0\n",
      "6070.0\n",
      "Informe con: 6070.0\n",
      "550.4\n",
      "Informe con: 550.4\n"
     ]
    }
   ],
   "source": [
    "def calculo_comision(lista_ventas, porc):     # Estas son las variables que espera recibir la función pero que no se ejecuta hasta que se llama a la función\n",
    "    suma = 0\n",
    "    for venta in lista_ventas:\n",
    "        suma += venta\n",
    "    \n",
    "    comision = suma*porc/100\n",
    "    print(comision)\n",
    "    return comision\n",
    "\n",
    "ventas_reales = [100, 3000, 400]\n",
    "porcentaje = 10\n",
    "\n",
    "valor_comision = calculo_comision(ventas_reales, porcentaje)\n",
    "\n",
    "print('Informe con:', valor_comision)    # Llama a la función pasándole los valores\n",
    "\n",
    "todas_las_ventas = [\n",
    "    [1000, 5000, 6000],\n",
    "    [200, 500, 60000],\n",
    "    [300, 550, 4654]\n",
    "]\n",
    "\n",
    "for unas_ventas in todas_las_ventas:\n",
    "    valor_comision = calculo_comision(unas_ventas, porcentaje)\n",
    "    print('Informe con:', valor_comision)\n"
   ]
  },
  {
   "cell_type": "code",
   "execution_count": 24,
   "metadata": {},
   "outputs": [
    {
     "data": {
      "text/plain": [
       "3"
      ]
     },
     "execution_count": 24,
     "metadata": {},
     "output_type": "execute_result"
    }
   ],
   "source": [
    "def suma(a, b):\n",
    "    return a+b\n",
    "\n",
    "\n",
    "val = suma(b=1, a=2)\n",
    "val"
   ]
  },
  {
   "cell_type": "code",
   "execution_count": 29,
   "metadata": {},
   "outputs": [
    {
     "name": "stdout",
     "output_type": "stream",
     "text": [
      "(1, 2, 3, 4)\n",
      "1 2 3 4\n",
      "2 4 6 8\n"
     ]
    }
   ],
   "source": [
    "def suma2(*args):   # Al poner * te deja pasarle argumentos\n",
    "    (a, b, c, d)=args\n",
    "    print(args)\n",
    "    print(a, b, c, d)\n",
    "    return(a*2, b*2, c*2, d*2)\n",
    "\n",
    "\n",
    "w, x, y, z = suma2(1,2,3,4)\n",
    "\n",
    "print(w, x, y, z)"
   ]
  },
  {
   "cell_type": "code",
   "execution_count": null,
   "metadata": {},
   "outputs": [
    {
     "name": "stdout",
     "output_type": "stream",
     "text": [
      "{'a': 1, 'b': 2, 'c': 3}\n"
     ]
    }
   ],
   "source": [
    "def suma4(**args):  # El * permite acceder a parametros como tupla y el ** le pasas valores con una clave asociada (diccionario)\n",
    "    print(args)\n",
    "\n",
    "suma4(a=1, b=2, c=3)\n"
   ]
  },
  {
   "cell_type": "code",
   "execution_count": 38,
   "metadata": {},
   "outputs": [
    {
     "name": "stdout",
     "output_type": "stream",
     "text": [
      "3\n",
      "1\n"
     ]
    }
   ],
   "source": [
    "def suma5(a, b=0, c=0):  # Le predefines un valor, siempre se pone al final\n",
    "    if b:\n",
    "        sum = a + b\n",
    "    elif c:\n",
    "        sum += c\n",
    "    else:\n",
    "        sum=a\n",
    "    \n",
    "    print(sum)\n",
    "\n",
    "suma5(1, 2)\n",
    "suma5(1)"
   ]
  },
  {
   "cell_type": "code",
   "execution_count": null,
   "metadata": {},
   "outputs": [],
   "source": []
  }
 ],
 "metadata": {
  "kernelspec": {
   "display_name": "Python 3 (ipykernel)",
   "language": "python",
   "name": "python3"
  }
 },
 "nbformat": 4,
 "nbformat_minor": 2
}
