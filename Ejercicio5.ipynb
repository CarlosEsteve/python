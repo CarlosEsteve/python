{
 "cells": [
  {
   "cell_type": "markdown",
   "metadata": {},
   "source": [
    "## EJERCICIOS 5\n",
    "\n",
    "1 - Implementa una función que verifique si una palabra dada es un palíndromo (se lee igual adelante o atrás).\n",
    "2 - Implementa un función que reciba una serie de números como parámetro y determine cuantos impares hay en ella.\n",
    "3 - Dada una lista de alumnos, donde cada alumno es un dictionario con \"nombre, direccion y edad\"; implementa una solución basada en funciones que transforme la letra intermedia (o más cercana al centro) del nombre de cada alumno en mayúscula y el resto en minúsculas.\n",
    "\t+ Pedro > peDro, Luis > luIs\n",
    "4 - Dada una lista de alumnos anterior, donde cada alumno es un dictionario con nombre, direccion y edad; implementa una solución basada en funciones que transforme la lista en dos listas de tuplas del tipo (nombre, direccion), (nombre, edad).\n",
    "5 - Escribe una expresión lambda que eleve al cubo todos los números de la lista siguiente: [1,2,3,4,5,6,7,8], usando la función map\n",
    " "
   ]
  },
  {
   "cell_type": "code",
   "execution_count": 1,
   "metadata": {},
   "outputs": [
    {
     "name": "stdout",
     "output_type": "stream",
     "text": [
      "No es un palíndromo\n"
     ]
    }
   ],
   "source": [
    "# 1 - Implementa una función que verifique si una palabra dada es un palíndromo (se lee igual adelante o atrás).\n",
    "\n",
    "def funcion1(palabra):\n",
    "    palabra = palabra.lower()\n",
    "    if palabra == palabra[::-1]:\n",
    "        print('Es un palíndromo')\n",
    "    else:\n",
    "        print('No es un palíndromo')\n",
    "    \n",
    "\n",
    "palabra_dada = input()\n",
    "\n",
    "funcion1(palabra_dada)\n",
    "\n",
    "    \n"
   ]
  },
  {
   "cell_type": "code",
   "execution_count": 47,
   "metadata": {},
   "outputs": [
    {
     "data": {
      "text/plain": [
       "5"
      ]
     },
     "execution_count": 47,
     "metadata": {},
     "output_type": "execute_result"
    }
   ],
   "source": [
    "# 2 - Implementa un función que reciba una serie de números como parámetro y determine cuantos impares hay en ella.\n",
    "\n",
    "def funcion2(param):\n",
    "    contador=0\n",
    "    # Recorrer la lista de números\n",
    "    for numero in param:\n",
    "        # Verificar si el número es impar\n",
    "        if numero % 2 != 0:\n",
    "            contador += 1\n",
    "    return contador\n",
    "\n",
    "\n",
    "parametros = (1, 2, 3, 4, 5, 6 , 7, 8, 9, 10)\n",
    "\n",
    "funcion2(parametros)\n"
   ]
  },
  {
   "cell_type": "code",
   "execution_count": 51,
   "metadata": {},
   "outputs": [
    {
     "data": {
      "text/plain": [
       "[{'Nombre': 'anNa', 'direccion': 'Calle x', 'edad': 22},\n",
       " {'Nombre': 'luiIs', 'direccion': 'Calle y', 'edad': 24},\n",
       " {'Nombre': 'juanNna', 'direccion': 'Calle z', 'edad': 43},\n",
       " {'Nombre': 'meteEoro', 'direccion': 'Calle a', 'edad': 16}]"
      ]
     },
     "execution_count": 51,
     "metadata": {},
     "output_type": "execute_result"
    }
   ],
   "source": [
    "# 3 - Dada una lista de alumnos, donde cada alumno es un dictionario con \"nombre, direccion y edad\"; implementa una solución basada en funciones que transforme la letra intermedia (o más cercana al centro) del nombre de cada alumno en mayúscula y el resto en minúsculas.\n",
    "\n",
    "def transformaNombres(students):\n",
    "\tfor un_alumno in students:\n",
    "\t\tnombre_mod = un_alumno['Nombre'].lower()\n",
    "\t\tl_nombre_mod = list(nombre_mod)\n",
    "\t\tmedio = len(l_nombre_mod)//2\n",
    "\t\tl_nombre_mod[medio] += l_nombre_mod[medio].upper()\n",
    "\t\tun_alumno['Nombre'] = ''.join(l_nombre_mod)\n",
    "\n",
    "\treturn students\n",
    "\n",
    "alumnos = [\n",
    "\t{'Nombre': 'Ana', 'direccion': 'Calle x', 'edad': 22},\n",
    "\t{'Nombre': 'Luis', 'direccion': 'Calle y', 'edad': 24},\n",
    "\t{'Nombre': 'Juanna', 'direccion': 'Calle z', 'edad': 43},\n",
    "\t{'Nombre': 'Meteoro', 'direccion': 'Calle a', 'edad': 16}\n",
    "]\n",
    "\n",
    "transformaNombres(alumnos)\n"
   ]
  },
  {
   "cell_type": "code",
   "execution_count": 54,
   "metadata": {},
   "outputs": [
    {
     "name": "stdout",
     "output_type": "stream",
     "text": [
      "[('anNa', 'Calle x'), ('luiIs', 'Calle y'), ('juanNna', 'Calle z'), ('meteEoro', 'Calle a')]\n",
      "[('anNa', 22), ('luiIs', 24), ('juanNna', 43), ('meteEoro', 16)]\n"
     ]
    }
   ],
   "source": [
    "# 4 - Dada una lista de alumnos anterior, donde cada alumno es un dictionario con nombre, direccion y edad;\n",
    "#     implementa una solución basada en funciones que transforme la lista en dos listas de tuplas del tipo (nombre, direccion), (nombre, edad).\n",
    "\n",
    "def transformaEnTuplas(students):\n",
    "\n",
    "    nueva_lista1 = []\n",
    "    nueva_lista2 = []\n",
    "\n",
    "    for un_alumno in students:\n",
    "        nueva_lista1.append((un_alumno['Nombre'], un_alumno['direccion']))\n",
    "        nueva_lista2.append((un_alumno['Nombre'], un_alumno['edad']))\n",
    "\n",
    "    return nueva_lista1, nueva_lista2\n",
    "\n",
    "\n",
    "l1, l2 =transformaEnTuplas(alumnos)\n",
    "\n",
    "print(l1)\n",
    "print(l2)"
   ]
  },
  {
   "cell_type": "code",
   "execution_count": 52,
   "metadata": {},
   "outputs": [
    {
     "data": {
      "text/plain": [
       "[1, 8, 27, 64, 125, 216, 343, 512]"
      ]
     },
     "execution_count": 52,
     "metadata": {},
     "output_type": "execute_result"
    }
   ],
   "source": [
    "# 5 - Escribe una expresión lambda que eleve al cubo todos los números de la lista siguiente: [1,2,3,4,5,6,7,8], usando la función map\n",
    "\n",
    "lista = [1, 2, 3, 4, 5, 6, 7, 8]\n",
    "\n",
    "result = map(lambda x: x**3, lista)\n",
    "\n",
    "list(result)"
   ]
  }
 ],
 "metadata": {
  "kernelspec": {
   "display_name": "Python 3 (ipykernel)",
   "language": "python",
   "name": "python3"
  },
  "microsoft": {
   "ms_spell_check": {
    "ms_spell_check_language": "es"
   }
  },
  "nteract": {
   "version": "nteract-front-end@1.0.0"
  }
 },
 "nbformat": 4,
 "nbformat_minor": 2
}
