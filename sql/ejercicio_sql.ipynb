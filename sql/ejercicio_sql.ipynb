{
 "cells": [
  {
   "cell_type": "markdown",
   "metadata": {},
   "source": [
    "- Queremos buscar los clientes que hayan completado una compra y extraer*:\n",
    "\n",
    "    - El número total de pedidos únicos.\n",
    "    - La cantidad media de items que se pidió.\n",
    "    - Aquellos clientes que tienen un crédito superior a 1000.\n",
    "    - Para el grupo anterior, cuál era la media y varianza del crédito.\n",
    "    - Aquellos clientes que tienen un crédito inferior o igual a 1000.\n",
    "    - Para el grupo anterior, cuál era la media y varianza del crédito."
   ]
  },
  {
   "cell_type": "code",
   "execution_count": 21,
   "metadata": {},
   "outputs": [
    {
     "name": "stdout",
     "output_type": "stream",
     "text": [
      "Database conn successful\n"
     ]
    }
   ],
   "source": [
    "import psycopg2\n",
    "\n",
    "def create_server_connection():\n",
    "\n",
    "    conn = None\n",
    "    try:\n",
    "        conn = psycopg2.connect(database=PGDATABASE, user=PGUSER, password=PGPASSWORD, host=PGHOST, port=5432)\n",
    "        print(\"Database conn successful\")\n",
    "    except Error as err:\n",
    "        print(f\"Error: '{err}'\")\n",
    "\n",
    "    return conn\n",
    "\n",
    "connection = create_server_connection()\n",
    "connection.close()"
   ]
  },
  {
   "cell_type": "code",
   "execution_count": 31,
   "metadata": {},
   "outputs": [
    {
     "name": "stdout",
     "output_type": "stream",
     "text": [
      "Database conn successful\n",
      "(259,)\n"
     ]
    }
   ],
   "source": [
    "#   - El número total de pedidos únicos.\n",
    "# SELECT\n",
    "\n",
    "conn = create_server_connection()\n",
    "\n",
    "cur = conn.cursor()\n",
    "cur.execute('SELECT COUNT(DiSTINCT checkNumber) FROM payments;')\n",
    "resultados = cur.fetchall()\n",
    "conn.commit()\n",
    "cur.close()\n",
    "conn.close()\n",
    "\n",
    "for fila in resultados:\n",
    "    print(fila)\n"
   ]
  },
  {
   "cell_type": "code",
   "execution_count": 28,
   "metadata": {},
   "outputs": [
    {
     "ename": "ModuleNotFoundError",
     "evalue": "No module named 'my_sql_module'",
     "output_type": "error",
     "traceback": [
      "\u001b[0;31m---------------------------------------------------------------------------\u001b[0m",
      "\u001b[0;31mModuleNotFoundError\u001b[0m                       Traceback (most recent call last)",
      "Cell \u001b[0;32mIn[28], line 1\u001b[0m\n\u001b[0;32m----> 1\u001b[0m \u001b[38;5;28;01mimport\u001b[39;00m \u001b[38;5;21;01mmy_sql_module\u001b[39;00m \u001b[38;5;28;01mas\u001b[39;00m \u001b[38;5;21;01mmsm\u001b[39;00m\n\u001b[1;32m      3\u001b[0m conn \u001b[38;5;241m=\u001b[39m msm\u001b[38;5;241m.\u001b[39mcreate_server_connection(PGHOST, PGDATABASE, PGUSER, PGPASSWORD)\n\u001b[1;32m      5\u001b[0m \u001b[38;5;28;01mdef\u001b[39;00m \u001b[38;5;21mtotal_de_pedidos_unicos\u001b[39m():\n",
      "\u001b[0;31mModuleNotFoundError\u001b[0m: No module named 'my_sql_module'"
     ]
    }
   ],
   "source": [
    "import my_sql_module as msm\n",
    "\n",
    "conn = msm.create_server_connection(PGHOST, PGDATABASE, PGUSER, PGPASSWORD)\n",
    "\n",
    "def total_de_pedidos_unicos():\n",
    "\n",
    "    cur = None\n",
    "\n",
    "    data = None\n",
    "\n",
    "    SQL = 'SELECT COUNT(DiSTINCT checkNumber) FROM payments'\n",
    "    print('SQL:', SQL)\n",
    "\n",
    "    try:\n",
    "        cur = conn.cursor()\n",
    "        cur.execute(SQL)\n",
    "        data = cur.fetchall()\n",
    "    except Exception as err:\n",
    "        print(f\"Error: '{err}'\")\n",
    "        if conn: conn.rollback()\n",
    "    finally:\n",
    "        if cur:\n",
    "            cur.close()\n",
    "\n",
    "    return data[0][0]\n",
    "\n",
    "\n",
    "resultado = total_de_pedidos_unicos()\n",
    "\n",
    "print(resultado)"
   ]
  }
 ],
 "metadata": {
  "kernelspec": {
   "display_name": "Python 3.8 - AzureML",
   "language": "python",
   "name": "python38-azureml"
  },
  "language_info": {
   "codemirror_mode": {
    "name": "ipython",
    "version": 3
   },
   "file_extension": ".py",
   "mimetype": "text/x-python",
   "name": "python",
   "nbconvert_exporter": "python",
   "pygments_lexer": "ipython3",
   "version": "3.10.11"
  }
 },
 "nbformat": 4,
 "nbformat_minor": 2
}
