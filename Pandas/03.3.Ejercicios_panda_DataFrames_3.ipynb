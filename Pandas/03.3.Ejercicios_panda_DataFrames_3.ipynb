{
 "cells": [
  {
   "cell_type": "markdown",
   "metadata": {},
   "source": [
    "# Ejercicios Pandas DataFrames 03"
   ]
  },
  {
   "cell_type": "markdown",
   "metadata": {},
   "source": [
    "Carga el dataset del titanic"
   ]
  },
  {
   "cell_type": "markdown",
   "metadata": {},
   "source": [
    "1. Escribe un programa Pandas para dividir los pasajeros en cuatro categorías según su edad: (0, 10), (10, 30), (30, 60), (60, 80)"
   ]
  },
  {
   "cell_type": "code",
   "execution_count": 6,
   "metadata": {},
   "outputs": [
    {
     "data": {
      "text/html": [
       "<div>\n",
       "<style scoped>\n",
       "    .dataframe tbody tr th:only-of-type {\n",
       "        vertical-align: middle;\n",
       "    }\n",
       "\n",
       "    .dataframe tbody tr th {\n",
       "        vertical-align: top;\n",
       "    }\n",
       "\n",
       "    .dataframe thead th {\n",
       "        text-align: right;\n",
       "    }\n",
       "</style>\n",
       "<table border=\"1\" class=\"dataframe\">\n",
       "  <thead>\n",
       "    <tr style=\"text-align: right;\">\n",
       "      <th></th>\n",
       "      <th>survived</th>\n",
       "      <th>sex</th>\n",
       "      <th>age</th>\n",
       "      <th>sibsp</th>\n",
       "      <th>parch</th>\n",
       "      <th>fare</th>\n",
       "      <th>embarked</th>\n",
       "      <th>class</th>\n",
       "      <th>who</th>\n",
       "      <th>adult_male</th>\n",
       "      <th>deck</th>\n",
       "      <th>embark_town</th>\n",
       "      <th>alive</th>\n",
       "      <th>alone</th>\n",
       "      <th>Unnamed: 15</th>\n",
       "    </tr>\n",
       "    <tr>\n",
       "      <th>pclass</th>\n",
       "      <th></th>\n",
       "      <th></th>\n",
       "      <th></th>\n",
       "      <th></th>\n",
       "      <th></th>\n",
       "      <th></th>\n",
       "      <th></th>\n",
       "      <th></th>\n",
       "      <th></th>\n",
       "      <th></th>\n",
       "      <th></th>\n",
       "      <th></th>\n",
       "      <th></th>\n",
       "      <th></th>\n",
       "      <th></th>\n",
       "    </tr>\n",
       "  </thead>\n",
       "  <tbody>\n",
       "    <tr>\n",
       "      <th>3</th>\n",
       "      <td>0</td>\n",
       "      <td>male</td>\n",
       "      <td>22.0</td>\n",
       "      <td>1</td>\n",
       "      <td>0</td>\n",
       "      <td>7.2500</td>\n",
       "      <td>S</td>\n",
       "      <td>Third</td>\n",
       "      <td>man</td>\n",
       "      <td>True</td>\n",
       "      <td>NaN</td>\n",
       "      <td>Southampton</td>\n",
       "      <td>no</td>\n",
       "      <td>False</td>\n",
       "      <td>NaN</td>\n",
       "    </tr>\n",
       "    <tr>\n",
       "      <th>1</th>\n",
       "      <td>1</td>\n",
       "      <td>female</td>\n",
       "      <td>38.0</td>\n",
       "      <td>1</td>\n",
       "      <td>0</td>\n",
       "      <td>71.2833</td>\n",
       "      <td>C</td>\n",
       "      <td>First</td>\n",
       "      <td>woman</td>\n",
       "      <td>False</td>\n",
       "      <td>C</td>\n",
       "      <td>Cherbourg</td>\n",
       "      <td>yes</td>\n",
       "      <td>False</td>\n",
       "      <td>NaN</td>\n",
       "    </tr>\n",
       "    <tr>\n",
       "      <th>3</th>\n",
       "      <td>1</td>\n",
       "      <td>female</td>\n",
       "      <td>26.0</td>\n",
       "      <td>0</td>\n",
       "      <td>0</td>\n",
       "      <td>7.9250</td>\n",
       "      <td>S</td>\n",
       "      <td>Third</td>\n",
       "      <td>woman</td>\n",
       "      <td>False</td>\n",
       "      <td>NaN</td>\n",
       "      <td>Southampton</td>\n",
       "      <td>yes</td>\n",
       "      <td>True</td>\n",
       "      <td>NaN</td>\n",
       "    </tr>\n",
       "    <tr>\n",
       "      <th>1</th>\n",
       "      <td>1</td>\n",
       "      <td>female</td>\n",
       "      <td>35.0</td>\n",
       "      <td>1</td>\n",
       "      <td>0</td>\n",
       "      <td>53.1000</td>\n",
       "      <td>S</td>\n",
       "      <td>First</td>\n",
       "      <td>woman</td>\n",
       "      <td>False</td>\n",
       "      <td>C</td>\n",
       "      <td>Southampton</td>\n",
       "      <td>yes</td>\n",
       "      <td>False</td>\n",
       "      <td>NaN</td>\n",
       "    </tr>\n",
       "    <tr>\n",
       "      <th>3</th>\n",
       "      <td>0</td>\n",
       "      <td>male</td>\n",
       "      <td>35.0</td>\n",
       "      <td>0</td>\n",
       "      <td>0</td>\n",
       "      <td>8.0500</td>\n",
       "      <td>S</td>\n",
       "      <td>Third</td>\n",
       "      <td>man</td>\n",
       "      <td>True</td>\n",
       "      <td>NaN</td>\n",
       "      <td>Southampton</td>\n",
       "      <td>no</td>\n",
       "      <td>True</td>\n",
       "      <td>NaN</td>\n",
       "    </tr>\n",
       "  </tbody>\n",
       "</table>\n",
       "</div>"
      ],
      "text/plain": [
       "        survived     sex   age  sibsp  parch     fare embarked  class    who  \\\n",
       "pclass                                                                         \n",
       "3              0    male  22.0      1      0   7.2500        S  Third    man   \n",
       "1              1  female  38.0      1      0  71.2833        C  First  woman   \n",
       "3              1  female  26.0      0      0   7.9250        S  Third  woman   \n",
       "1              1  female  35.0      1      0  53.1000        S  First  woman   \n",
       "3              0    male  35.0      0      0   8.0500        S  Third    man   \n",
       "\n",
       "        adult_male deck  embark_town alive  alone  Unnamed: 15  \n",
       "pclass                                                          \n",
       "3             True  NaN  Southampton    no  False          NaN  \n",
       "1            False    C    Cherbourg   yes  False          NaN  \n",
       "3            False  NaN  Southampton   yes   True          NaN  \n",
       "1            False    C  Southampton   yes  False          NaN  \n",
       "3             True  NaN  Southampton    no   True          NaN  "
      ]
     },
     "execution_count": 6,
     "metadata": {},
     "output_type": "execute_result"
    }
   ],
   "source": [
    "import pandas as pd\n",
    "\n",
    "df = pd.read_csv(\"./datos/titanic.csv\", index_col=1)\n",
    "df.head()"
   ]
  },
  {
   "cell_type": "markdown",
   "metadata": {},
   "source": [
    "2. Escribe un programa Pandas para contar la supervivencia por género, categorías y edad de varias clases. Siendo las categorías de edad: (0, 10), (10, 30), (30, 60), (60, 80)"
   ]
  },
  {
   "cell_type": "code",
   "execution_count": 7,
   "metadata": {},
   "outputs": [
    {
     "name": "stdout",
     "output_type": "stream",
     "text": [
      "       sex  pclass age_category  survival_count\n",
      "0   female       1         0-10               0\n",
      "1   female       1        10-30              28\n",
      "2   female       1        30-60              51\n",
      "3   female       1        60-80               3\n",
      "4   female       2         0-10               8\n",
      "5   female       2        10-30              30\n",
      "6   female       2        30-60              30\n",
      "7   female       2        60-80               0\n",
      "8   female       3         0-10              11\n",
      "9   female       3        10-30              28\n",
      "10  female       3        30-60               7\n",
      "11  female       3        60-80               1\n",
      "12    male       1         0-10               2\n",
      "13    male       1        10-30              11\n",
      "14    male       1        30-60              25\n",
      "15    male       1        60-80               1\n",
      "16    male       2         0-10               9\n",
      "17    male       2        10-30               1\n",
      "18    male       2        30-60               4\n",
      "19    male       2        60-80               1\n",
      "20    male       3         0-10               8\n",
      "21    male       3        10-30              20\n",
      "22    male       3        30-60              10\n",
      "23    male       3        60-80               0\n"
     ]
    }
   ],
   "source": [
    "# Definir las categorías de edad\n",
    "age_bins = [0, 10, 30, 60, 80]\n",
    "age_labels = ['0-10', '10-30', '30-60', '60-80']\n",
    "\n",
    "# Crear una nueva columna 'age_category' basada en las categorías de edad\n",
    "df['age_category'] = pd.cut(df['age'], bins=age_bins, labels=age_labels, right=False)\n",
    "\n",
    "# Agrupar por 'sex', 'pclass' y 'age_category' y contar el número de supervivientes\n",
    "survival_counts = df[df['survived'] == 1].groupby(['sex', 'pclass', 'age_category']).size().reset_index(name='survival_count')\n",
    "\n",
    "print(survival_counts)"
   ]
  },
  {
   "cell_type": "markdown",
   "metadata": {},
   "source": [
    "3. Escribe un programa Pandas para encontrar la tasa de supervivencia por género y edad de las diferentes categorías de varias clases. \n",
    "Agregar la tarifa como una dimensión de columnas y dividir la columna de tarifa en 2 categorías según los valores presentes en las columnas de tarifa."
   ]
  },
  {
   "cell_type": "code",
   "execution_count": 8,
   "metadata": {},
   "outputs": [
    {
     "name": "stdout",
     "output_type": "stream",
     "text": [
      "       sex  pclass age_category fare_category  survived\n",
      "0   female       1         0-10      Low Fare       NaN\n",
      "1   female       1         0-10     High Fare  0.000000\n",
      "2   female       1        10-30      Low Fare       NaN\n",
      "3   female       1        10-30     High Fare  0.965517\n",
      "4   female       1        30-60      Low Fare       NaN\n",
      "5   female       1        30-60     High Fare  0.980769\n",
      "6   female       1        60-80      Low Fare       NaN\n",
      "7   female       1        60-80     High Fare  1.000000\n",
      "8   female       2         0-10      Low Fare       NaN\n",
      "9   female       2         0-10     High Fare  1.000000\n",
      "10  female       2        10-30      Low Fare  0.923077\n",
      "11  female       2        10-30     High Fare  0.900000\n",
      "12  female       2        30-60      Low Fare  0.866667\n",
      "13  female       2        30-60     High Fare  0.944444\n",
      "14  female       2        60-80      Low Fare       NaN\n",
      "15  female       2        60-80     High Fare       NaN\n",
      "16  female       3         0-10      Low Fare  0.800000\n",
      "17  female       3         0-10     High Fare  0.437500\n",
      "18  female       3        10-30      Low Fare  0.571429\n",
      "19  female       3        10-30     High Fare  0.307692\n",
      "20  female       3        30-60      Low Fare  0.222222\n",
      "21  female       3        30-60     High Fare  0.312500\n",
      "22  female       3        60-80      Low Fare  1.000000\n",
      "23  female       3        60-80     High Fare       NaN\n",
      "24    male       1         0-10      Low Fare       NaN\n",
      "25    male       1         0-10     High Fare  1.000000\n",
      "26    male       1        10-30      Low Fare       NaN\n",
      "27    male       1        10-30     High Fare  0.478261\n",
      "28    male       1        30-60      Low Fare  0.000000\n",
      "29    male       1        30-60     High Fare  0.431034\n",
      "30    male       1        60-80      Low Fare       NaN\n",
      "31    male       1        60-80     High Fare  0.076923\n",
      "32    male       2         0-10      Low Fare       NaN\n",
      "33    male       2         0-10     High Fare  1.000000\n",
      "34    male       2        10-30      Low Fare  0.040000\n",
      "35    male       2        10-30     High Fare  0.000000\n",
      "36    male       2        30-60      Low Fare  0.111111\n",
      "37    male       2        30-60     High Fare  0.047619\n",
      "38    male       2        60-80      Low Fare  0.333333\n",
      "39    male       2        60-80     High Fare  0.000000\n",
      "40    male       3         0-10      Low Fare  1.000000\n",
      "41    male       3         0-10     High Fare  0.277778\n",
      "42    male       3        10-30      Low Fare  0.140496\n",
      "43    male       3        10-30     High Fare  0.130435\n",
      "44    male       3        30-60      Low Fare  0.112676\n",
      "45    male       3        30-60     High Fare  0.153846\n",
      "46    male       3        60-80      Low Fare  0.000000\n",
      "47    male       3        60-80     High Fare       NaN\n"
     ]
    }
   ],
   "source": [
    "# Definir las categorías de edad\n",
    "age_bins = [0, 10, 30, 60, 80]\n",
    "age_labels = ['0-10', '10-30', '30-60', '60-80']\n",
    "\n",
    "# Crear una nueva columna 'age_category' basada en las categorías de edad\n",
    "df['age_category'] = pd.cut(df['age'], bins=age_bins, labels=age_labels, right=False)\n",
    "\n",
    "# Dividir la columna de tarifa en 2 categorías\n",
    "fare_median = df['fare'].median()\n",
    "df['fare_category'] = pd.cut(df['fare'], bins=[-1, fare_median, df['fare'].max()], labels=['Low Fare', 'High Fare'])\n",
    "\n",
    "# Calcular la tasa de supervivencia por género, clase, categoría de edad y categoría de tarifa\n",
    "survival_rate = df.groupby(['sex', 'pclass', 'age_category', 'fare_category'])['survived'].mean().reset_index()\n",
    "\n",
    "print(survival_rate)"
   ]
  },
  {
   "cell_type": "markdown",
   "metadata": {},
   "source": [
    "4. Escribe un programa Pandas para calcular la cantidad de mujeres y hombres que había en cada clase de cabina."
   ]
  },
  {
   "cell_type": "code",
   "execution_count": null,
   "metadata": {},
   "outputs": [],
   "source": []
  },
  {
   "cell_type": "markdown",
   "metadata": {},
   "source": [
    "5. Escribe un programa Pandas para separar el género según si viajaron solos o no y obtener la probabilidad de supervivencia."
   ]
  },
  {
   "cell_type": "code",
   "execution_count": null,
   "metadata": {},
   "outputs": [],
   "source": []
  },
  {
   "cell_type": "markdown",
   "metadata": {},
   "source": [
    "6. Escribe un programa Pandas para crear encontrar la probabilidad de supervivencia por clase, género, embarque en solitario y puerto de embarque."
   ]
  },
  {
   "cell_type": "code",
   "execution_count": null,
   "metadata": {},
   "outputs": [],
   "source": []
  }
 ],
 "metadata": {
  "kernelspec": {
   "display_name": "Python 3.8 - AzureML",
   "language": "python",
   "name": "python38-azureml"
  },
  "language_info": {
   "codemirror_mode": {
    "name": "ipython",
    "version": 3
   },
   "file_extension": ".py",
   "mimetype": "text/x-python",
   "name": "python",
   "nbconvert_exporter": "python",
   "pygments_lexer": "ipython3",
   "version": "3.10.11"
  }
 },
 "nbformat": 4,
 "nbformat_minor": 2
}
