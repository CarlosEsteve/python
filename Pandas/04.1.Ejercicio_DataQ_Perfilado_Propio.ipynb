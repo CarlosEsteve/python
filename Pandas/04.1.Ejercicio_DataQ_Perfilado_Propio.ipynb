{
 "cells": [
  {
   "cell_type": "markdown",
   "metadata": {},
   "source": [
    "# Ejercicio Data Quality - Perfilado\n",
    "## Evaluar la calidad de datos de las ventas de productos"
   ]
  },
  {
   "cell_type": "markdown",
   "metadata": {},
   "source": [
    "Se quiere hacer una evaluación de calidad de datos sobre las ventas (sales) y pagos (payments). Para ello se requiere hacer un análisis de los siguientes puntos:\n",
    "- Calidad de los datos\n",
    "- Selección de clave principal\n",
    "- Identificación de cardinalidad\n",
    "- Obtener media, varianza y desviacion Estandar, covarianza, correlacion\n",
    "- Mejorar la calidad.\n",
    "\n",
    "**Referencia**: “Estadística Descriptiva con Python y Pandas”: https://coderhook.github.io/Descriptive%20Statistics\n",
    "\n",
    "- Columnas sales:, orderNumber, orderLineNumber, orderDate, shippedDate, requiredDate, customerNumber, employeeNumber, productCode, status, comments, quantityOrdered, priceEach, sales_amount, origin\n",
    "\n",
    "- Columnas payments:, customerNumber, checkNumber, paymentDate, amount"
   ]
  },
  {
   "cell_type": "code",
   "execution_count": 25,
   "metadata": {},
   "outputs": [],
   "source": [
    "import pandas as pd\n",
    "import numpy as np\n",
    "from tabulate import tabulate\n",
    "import warnings\n",
    "warnings.filterwarnings('ignore')"
   ]
  },
  {
   "cell_type": "markdown",
   "metadata": {},
   "source": [
    "## Cargar archivos"
   ]
  },
  {
   "cell_type": "code",
   "execution_count": 2,
   "metadata": {},
   "outputs": [],
   "source": [
    "sales_df = pd.read_csv('../Pandas/datos/company_sales/sales.csv')"
   ]
  },
  {
   "cell_type": "code",
   "execution_count": 3,
   "metadata": {},
   "outputs": [],
   "source": [
    "payments_df = pd.read_csv('../Pandas/datos/company_sales/payments.csv')"
   ]
  },
  {
   "cell_type": "code",
   "execution_count": 14,
   "metadata": {},
   "outputs": [
    {
     "data": {
      "text/plain": [
       "(       0  0.1  0000-00-00 0000-00-00.1 0000-00-00.2  0.2   0.3 productCode  \\\n",
       " 0  10100    1  0000-00-00   0000-00-00   0000-00-00  363  1216    S24_3969   \n",
       " 1  10100    2  0000-00-00   0000-00-00   0000-00-00  363  1216    S18_2248   \n",
       " 2  10100    3  0000-00-00   0000-00-00   0000-00-00  363  1216    S18_1749   \n",
       " 3  10100    4  0000-00-00   0000-00-00   0000-00-00  363  1216    S18_4409   \n",
       " 4  10101    1  0000-00-00   0000-00-00   0000-00-00  128  1504    S18_2795   \n",
       " \n",
       "     status                comments  0.4    0.00   0.00.1 origin  \n",
       " 0  Shipped                     NaN   49   35.29  1729.21  spain  \n",
       " 1  Shipped                     NaN   50   55.09  2754.50  spain  \n",
       " 2  Shipped                     NaN   30  136.00  4080.00  spain  \n",
       " 3  Shipped                     NaN   22   75.46  1660.12  spain  \n",
       " 4  Shipped  Check on availability.   26  167.06  4343.56  spain  ,\n",
       "      0 checkNumber  0000-00-00      0.00\n",
       " 0  103    HQ336336  2004-10-19   6066.78\n",
       " 1  103    JM555205  2003-06-05  14571.44\n",
       " 2  103    OM314933  2004-12-18   1676.14\n",
       " 3  112    BO864823  2004-12-17  14191.12\n",
       " 4  112     HQ55022  2003-06-06  32641.98)"
      ]
     },
     "execution_count": 14,
     "metadata": {},
     "output_type": "execute_result"
    }
   ],
   "source": [
    "# Mostrar las primeras filas de cada dataset\n",
    "sales_df.head(), payments_df.head()"
   ]
  },
  {
   "cell_type": "code",
   "execution_count": 22,
   "metadata": {},
   "outputs": [
    {
     "data": {
      "text/plain": [
       "(   orderNumber  orderLineNumber   orderDate shippedDate requiredDate  \\\n",
       " 0        10100                1  0000-00-00  0000-00-00   0000-00-00   \n",
       " 1        10100                2  0000-00-00  0000-00-00   0000-00-00   \n",
       " 2        10100                3  0000-00-00  0000-00-00   0000-00-00   \n",
       " 3        10100                4  0000-00-00  0000-00-00   0000-00-00   \n",
       " 4        10101                1  0000-00-00  0000-00-00   0000-00-00   \n",
       " \n",
       "    customerNumber  EmployeeNumber productCode   status  \\\n",
       " 0             363            1216    S24_3969  Shipped   \n",
       " 1             363            1216    S18_2248  Shipped   \n",
       " 2             363            1216    S18_1749  Shipped   \n",
       " 3             363            1216    S18_4409  Shipped   \n",
       " 4             128            1504    S18_2795  Shipped   \n",
       " \n",
       "                  comments  quantityOrdered  priceEach  sales_amount origin  \n",
       " 0                     NaN               49      35.29       1729.21  spain  \n",
       " 1                     NaN               50      55.09       2754.50  spain  \n",
       " 2                     NaN               30     136.00       4080.00  spain  \n",
       " 3                     NaN               22      75.46       1660.12  spain  \n",
       " 4  Check on availability.               26     167.06       4343.56  spain  ,\n",
       "    customerNumber checkNumber paymentDate    amount\n",
       " 0             103    HQ336336  2004-10-19   6066.78\n",
       " 1             103    JM555205  2003-06-05  14571.44\n",
       " 2             103    OM314933  2004-12-18   1676.14\n",
       " 3             112    BO864823  2004-12-17  14191.12\n",
       " 4             112     HQ55022  2003-06-06  32641.98)"
      ]
     },
     "execution_count": 22,
     "metadata": {},
     "output_type": "execute_result"
    }
   ],
   "source": [
    "# Renombrar columnas con nombres más adecuados para sales.csv\n",
    "sales_df.columns = [\n",
    "\"orderNumber\", \"orderLineNumber\", \"orderDate\", \"shippedDate\", \"requiredDate\",\n",
    "\"customerNumber\", \"EmployeeNumber\", \"productCode\", \"status\", \"comments\",\n",
    "\"quantityOrdered\", \"priceEach\", \"sales_amount\", \"origin\"\n",
    "]\n",
    "# Renombrar columnas para payments.csv\n",
    "payments_df.columns = [\"customerNumber\", \"checkNumber\", \"paymentDate\", \"amount\"]\n",
    "\n",
    "sales_df.head(), payments_df.head()"
   ]
  },
  {
   "cell_type": "code",
   "execution_count": 23,
   "metadata": {},
   "outputs": [
    {
     "data": {
      "text/plain": [
       "(orderNumber          int64\n",
       " orderLineNumber      int64\n",
       " orderDate           object\n",
       " shippedDate         object\n",
       " requiredDate        object\n",
       " customerNumber       int64\n",
       " EmployeeNumber       int64\n",
       " productCode         object\n",
       " status              object\n",
       " comments            object\n",
       " quantityOrdered      int64\n",
       " priceEach          float64\n",
       " sales_amount       float64\n",
       " origin              object\n",
       " dtype: object,\n",
       " customerNumber      int64\n",
       " checkNumber        object\n",
       " paymentDate        object\n",
       " amount            float64\n",
       " dtype: object)"
      ]
     },
     "execution_count": 23,
     "metadata": {},
     "output_type": "execute_result"
    }
   ],
   "source": [
    "# Revisar tipos de datos\n",
    "sales_info = sales_df.dtypes\n",
    "payments_info = payments_df.dtypes\n",
    "sales_info, payments_info"
   ]
  },
  {
   "cell_type": "code",
   "execution_count": 26,
   "metadata": {},
   "outputs": [
    {
     "name": "stdout",
     "output_type": "stream",
     "text": [
      "<class 'pandas.core.frame.DataFrame'>\n",
      "RangeIndex: 3001 entries, 0 to 3000\n",
      "Data columns (total 14 columns):\n",
      " #   Column           Non-Null Count  Dtype         \n",
      "---  ------           --------------  -----         \n",
      " 0   orderNumber      3001 non-null   int64         \n",
      " 1   orderLineNumber  3001 non-null   int64         \n",
      " 2   orderDate        0 non-null      datetime64[ns]\n",
      " 3   shippedDate      3 non-null      datetime64[ns]\n",
      " 4   requiredDate     3 non-null      datetime64[ns]\n",
      " 5   customerNumber   3001 non-null   int64         \n",
      " 6   EmployeeNumber   3001 non-null   int64         \n",
      " 7   productCode      3001 non-null   object        \n",
      " 8   status           3001 non-null   object        \n",
      " 9   comments         759 non-null    object        \n",
      " 10  quantityOrdered  3001 non-null   int64         \n",
      " 11  priceEach        3001 non-null   float64       \n",
      " 12  sales_amount     3001 non-null   float64       \n",
      " 13  origin           3001 non-null   object        \n",
      "dtypes: datetime64[ns](3), float64(2), int64(5), object(4)\n",
      "memory usage: 328.4+ KB\n",
      "<class 'pandas.core.frame.DataFrame'>\n",
      "RangeIndex: 278 entries, 0 to 277\n",
      "Data columns (total 4 columns):\n",
      " #   Column          Non-Null Count  Dtype         \n",
      "---  ------          --------------  -----         \n",
      " 0   customerNumber  278 non-null    int64         \n",
      " 1   checkNumber     278 non-null    object        \n",
      " 2   paymentDate     278 non-null    datetime64[ns]\n",
      " 3   amount          278 non-null    float64       \n",
      "dtypes: datetime64[ns](1), float64(1), int64(1), object(1)\n",
      "memory usage: 8.8+ KB\n"
     ]
    },
    {
     "data": {
      "text/plain": [
       "(None, None)"
      ]
     },
     "execution_count": 26,
     "metadata": {},
     "output_type": "execute_result"
    }
   ],
   "source": [
    "# Convertir las columnas numéricas y fechas al tipo correcto\n",
    "sales_df[\"orderNumber\"] = pd.to_numeric(sales_df[\"orderNumber\"],\n",
    "errors=\"coerce\")\n",
    "sales_df[\"orderLineNumber\"] = pd.to_numeric(sales_df[\"orderLineNumber\"],\n",
    "errors=\"coerce\")\n",
    "sales_df[\"customerNumber\"] = pd.to_numeric(sales_df[\"customerNumber\"],\n",
    "errors=\"coerce\")\n",
    "sales_df[\"EmployeeNumber\"] = pd.to_numeric(sales_df[\"EmployeeNumber\"],\n",
    "errors=\"coerce\")\n",
    "sales_df[\"quantityOrdered\"] = pd.to_numeric(sales_df[\"quantityOrdered\"],\n",
    "errors=\"coerce\")\n",
    "sales_df[\"priceEach\"] = pd.to_numeric(sales_df[\"priceEach\"], errors=\"coerce\")\n",
    "sales_df[\"sales_amount\"] = pd.to_numeric(sales_df[\"sales_amount\"], errors=\"coerce\")\n",
    "\n",
    "sales_df[\"orderDate\"] = pd.to_datetime(sales_df[\"orderDate\"], errors=\"coerce\")\n",
    "sales_df[\"requiredDate\"] = pd.to_datetime(sales_df[\"requiredDate\"], errors=\"coerce\")\n",
    "sales_df[\"shippedDate\"] = pd.to_datetime(sales_df[\"shippedDate\"], errors=\"coerce\")\n",
    "payments_df[\"customerNumber\"] = pd.to_numeric(payments_df[\"customerNumber\"],\n",
    "errors=\"coerce\")\n",
    "payments_df[\"amount\"] = pd.to_numeric(payments_df[\"amount\"], errors=\"coerce\")\n",
    "payments_df[\"paymentDate\"] = pd.to_datetime(payments_df[\"paymentDate\"],\n",
    "errors=\"coerce\")\n",
    "# Mostrar la información corregida\n",
    "sales_df.info(), payments_df.info()"
   ]
  },
  {
   "cell_type": "code",
   "execution_count": 34,
   "metadata": {},
   "outputs": [
    {
     "data": {
      "text/plain": [
       "(orderDate       3001\n",
       " shippedDate     2998\n",
       " requiredDate    2998\n",
       " dtype: int64,\n",
       " np.int64(0))"
      ]
     },
     "execution_count": 34,
     "metadata": {},
     "output_type": "execute_result"
    }
   ],
   "source": [
    "# Convertir fechas en sales.csv\n",
    "date_columns_sales = [\"orderDate\", \"shippedDate\", \"requiredDate\"]\n",
    "for col in date_columns_sales:\n",
    "    sales_df[col] = pd.to_datetime(sales_df[col], errors='coerce') # Convierte y pone NaT en valores inválidos\n",
    "\n",
    "# Convertir fecha en payments.csv\n",
    "payments_df[\"paymentDate\"] = pd.to_datetime(payments_df[\"paymentDate\"],\n",
    "errors='coerce')\n",
    "\n",
    "missing_dates_sales = sales_df[date_columns_sales].isnull().sum()\n",
    "missing_dates_payments = payments_df[\"paymentDate\"].isnull().sum()\n",
    "\n",
    "missing_dates_sales, missing_dates_payments"
   ]
  },
  {
   "cell_type": "code",
   "execution_count": 37,
   "metadata": {},
   "outputs": [
    {
     "name": "stdout",
     "output_type": "stream",
     "text": [
      "326 5 273 5\n"
     ]
    }
   ],
   "source": [
    "# Evaluar unicidad de posibles claves primarias en cada dataset\n",
    "\n",
    "# Para sales.csv, posibles claves: orderNumber, orderLineNumber (combinación)\n",
    "sales_unique_order = sales_df[\"orderNumber\"].nunique()\n",
    "sales_total_rows = len(sales_df)\n",
    "sales_unique_combination = sales_df[[\"orderNumber\",\n",
    "\"orderLineNumber\"]].duplicated().sum() # Chequear duplicados\n",
    "\n",
    "# Para payments.csv, posibles claves: checkNumber (supuestamente única)\n",
    "payments_unique_check = payments_df[\"checkNumber\"].nunique()\n",
    "payments_total_rows = len(payments_df)\n",
    "payments_duplicated_checks = payments_total_rows - payments_unique_check\n",
    "\n",
    "print(sales_unique_order, sales_unique_combination, payments_unique_check,\n",
    "payments_duplicated_checks)"
   ]
  },
  {
   "cell_type": "code",
   "execution_count": 38,
   "metadata": {},
   "outputs": [
    {
     "data": {
      "text/plain": [
       "(98, 98, 98)"
      ]
     },
     "execution_count": 38,
     "metadata": {},
     "output_type": "execute_result"
    }
   ],
   "source": [
    "# Evaluar la relación entre sales y payments a través de customerNumber\n",
    "\n",
    "# Contar clientes únicos en cada dataset\n",
    "unique_customers_sales = sales_df[\"customerNumber\"].nunique()\n",
    "unique_customers_payments = payments_df[\"customerNumber\"].nunique()\n",
    "\n",
    "# Contar clientes comunes entre ambos datasets\n",
    "common_customers = len(set(sales_df[\"customerNumber\"]).intersection(set(payments_df[\"customerNumber\"])))\n",
    "unique_customers_sales, unique_customers_payments, common_customers"
   ]
  },
  {
   "cell_type": "code",
   "execution_count": 39,
   "metadata": {},
   "outputs": [
    {
     "name": "stdout",
     "output_type": "stream",
     "text": [
      "=== Estadísticas de Sales ===\n",
      "                  count         mean          std     min     25%      50%  \\\n",
      "quantityOrdered  3001.0    35.211929     9.828957    6.00    27.0    35.00   \n",
      "priceEach        3001.0    90.765831    36.579368   26.55    62.0    85.76   \n",
      "sales_amount     3001.0  3204.908437  1631.356967  481.50  1988.7  2880.48   \n",
      "\n",
      "                     75%       max  \n",
      "quantityOrdered    43.00     97.00  \n",
      "priceEach         114.65    214.30  \n",
      "sales_amount     4093.60  11503.14  \n",
      "\n",
      "=== Estadísticas de Payments ===\n",
      "        count          mean           std     min        25%       50%  \\\n",
      "amount  278.0  31827.944281  21096.143249  615.45  15144.135  31369.15   \n",
      "\n",
      "             75%        max  \n",
      "amount  45036.97  120166.58  \n",
      "\n",
      "=== Covarianza en Sales ===\n",
      "                 quantityOrdered     priceEach  sales_amount\n",
      "quantityOrdered        96.608404      8.892374  9.220015e+03\n",
      "priceEach               8.892374   1338.050184  4.793471e+04\n",
      "sales_amount         9220.015265  47934.709695  2.661326e+06\n",
      "\n",
      "=== Correlación en Sales ===\n",
      "                 quantityOrdered  priceEach  sales_amount\n",
      "quantityOrdered         1.000000   0.024733      0.575010\n",
      "priceEach               0.024733   1.000000      0.803276\n",
      "sales_amount            0.575010   0.803276      1.000000\n"
     ]
    }
   ],
   "source": [
    "# Calcular estadísticas descriptivas en variables numéricas\n",
    "stats_sales = sales_df[[\"quantityOrdered\", \"priceEach\", \"sales_amount\"]].describe().T\n",
    "stats_payments = payments_df[[\"amount\"]].describe().T\n",
    "\n",
    "# Calcular varianza y desviación estándar\n",
    "variance_sales = sales_df[[\"quantityOrdered\", \"priceEach\", \"sales_amount\"]].var()\n",
    "std_dev_sales = sales_df[[\"quantityOrdered\", \"priceEach\", \"sales_amount\"]].std()\n",
    "variance_payments = payments_df[[\"amount\"]].var()\n",
    "std_dev_payments = payments_df[[\"amount\"]].std()\n",
    "\n",
    "# Calcular covarianza entre variables en sales.csv\n",
    "covariance_sales = sales_df[[\"quantityOrdered\", \"priceEach\", \"sales_amount\"]].cov()\n",
    "\n",
    "# Calcular correlación entre variables en sales.csv\n",
    "correlation_sales = sales_df[[\"quantityOrdered\", \"priceEach\", \"sales_amount\"]].corr()\n",
    "\n",
    "# Mostrar los resultados en consola usando print\n",
    "print(\"=== Estadísticas de Sales ===\")\n",
    "print(stats_sales)\n",
    "print(\"\\n=== Estadísticas de Payments ===\")\n",
    "print(stats_payments)\n",
    "print(\"\\n=== Covarianza en Sales ===\")\n",
    "print(covariance_sales)\n",
    "print(\"\\n=== Correlación en Sales ===\")\n",
    "print(correlation_sales)"
   ]
  }
 ],
 "metadata": {
  "kernelspec": {
   "display_name": "Python 3",
   "language": "python",
   "name": "python3"
  },
  "language_info": {
   "codemirror_mode": {
    "name": "ipython",
    "version": 3
   },
   "file_extension": ".py",
   "mimetype": "text/x-python",
   "name": "python",
   "nbconvert_exporter": "python",
   "pygments_lexer": "ipython3",
   "version": "3.13.1"
  }
 },
 "nbformat": 4,
 "nbformat_minor": 2
}
