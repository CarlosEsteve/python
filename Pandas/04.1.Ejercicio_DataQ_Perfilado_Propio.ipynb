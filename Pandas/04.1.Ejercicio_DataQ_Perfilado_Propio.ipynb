{
 "cells": [
  {
   "cell_type": "markdown",
   "metadata": {},
   "source": [
    "# Ejercicio Data Quality - Perfilado\n",
    "## Evaluar la calidad de datos de las ventas de productos"
   ]
  },
  {
   "cell_type": "markdown",
   "metadata": {},
   "source": [
    "Se quiere hacer una evaluación de calidad de datos sobre las ventas (sales) y pagos (payments). Para ello se requiere hacer un análisis de los siguientes puntos:\n",
    "- Calidad de los datos\n",
    "- Selección de clave principal\n",
    "- Identificación de cardinalidad\n",
    "- Obtener media, varianza y desviacion Estandar, covarianza, correlacion\n",
    "- Mejorar la calidad.\n",
    "\n",
    "**Referencia**: “Estadística Descriptiva con Python y Pandas”: https://coderhook.github.io/Descriptive%20Statistics\n",
    "\n",
    "- Columnas sales:, orderNumber, orderLineNumber, orderDate, shippedDate, requiredDate, customerNumber, employeeNumber, productCode, status, comments, quantityOrdered, priceEach, sales_amount, origin\n",
    "\n",
    "- Columnas payments:, customerNumber, checkNumber, paymentDate, amount"
   ]
  },
  {
   "cell_type": "code",
   "execution_count": 96,
   "metadata": {},
   "outputs": [],
   "source": [
    "import pandas as pd\n",
    "import numpy as np\n",
    "from tabulate import tabulate\n",
    "import warnings\n",
    "warnings.filterwarnings('ignore')"
   ]
  },
  {
   "cell_type": "markdown",
   "metadata": {},
   "source": [
    "## Cargar archivos"
   ]
  },
  {
   "cell_type": "code",
   "execution_count": 97,
   "metadata": {},
   "outputs": [],
   "source": [
    "sales_df = pd.read_csv('../Pandas/datos/company_sales/sales.csv')"
   ]
  },
  {
   "cell_type": "code",
   "execution_count": 98,
   "metadata": {},
   "outputs": [],
   "source": [
    "payments_df = pd.read_csv('../Pandas/datos/company_sales/payments.csv')"
   ]
  },
  {
   "cell_type": "code",
   "execution_count": 100,
   "metadata": {},
   "outputs": [
    {
     "data": {
      "text/plain": [
       "(       0  0.1  0000-00-00 0000-00-00.1 0000-00-00.2  0.2   0.3 productCode  \\\n",
       " 0  10100    1  0000-00-00   0000-00-00   0000-00-00  363  1216    S24_3969   \n",
       " 1  10100    2  0000-00-00   0000-00-00   0000-00-00  363  1216    S18_2248   \n",
       " 2  10100    3  0000-00-00   0000-00-00   0000-00-00  363  1216    S18_1749   \n",
       " 3  10100    4  0000-00-00   0000-00-00   0000-00-00  363  1216    S18_4409   \n",
       " 4  10101    1  0000-00-00   0000-00-00   0000-00-00  128  1504    S18_2795   \n",
       " \n",
       "     status                comments  0.4    0.00   0.00.1 origin  \n",
       " 0  Shipped                     NaN   49   35.29  1729.21  spain  \n",
       " 1  Shipped                     NaN   50   55.09  2754.50  spain  \n",
       " 2  Shipped                     NaN   30  136.00  4080.00  spain  \n",
       " 3  Shipped                     NaN   22   75.46  1660.12  spain  \n",
       " 4  Shipped  Check on availability.   26  167.06  4343.56  spain  ,\n",
       "      0 checkNumber  0000-00-00      0.00\n",
       " 0  103    HQ336336  2004-10-19   6066.78\n",
       " 1  103    JM555205  2003-06-05  14571.44\n",
       " 2  103    OM314933  2004-12-18   1676.14\n",
       " 3  112    BO864823  2004-12-17  14191.12\n",
       " 4  112     HQ55022  2003-06-06  32641.98)"
      ]
     },
     "execution_count": 100,
     "metadata": {},
     "output_type": "execute_result"
    }
   ],
   "source": [
    "# Mostrar las primeras filas de cada dataset\n",
    "sales_df.head(), payments_df.head()"
   ]
  },
  {
   "cell_type": "code",
   "execution_count": 101,
   "metadata": {},
   "outputs": [
    {
     "data": {
      "text/plain": [
       "(   orderNumber  orderLineNumber   orderDate shippedDate requiredDate  \\\n",
       " 0        10100                1  0000-00-00  0000-00-00   0000-00-00   \n",
       " 1        10100                2  0000-00-00  0000-00-00   0000-00-00   \n",
       " 2        10100                3  0000-00-00  0000-00-00   0000-00-00   \n",
       " 3        10100                4  0000-00-00  0000-00-00   0000-00-00   \n",
       " 4        10101                1  0000-00-00  0000-00-00   0000-00-00   \n",
       " \n",
       "    customerNumber  EmployeeNumber productCode   status  \\\n",
       " 0             363            1216    S24_3969  Shipped   \n",
       " 1             363            1216    S18_2248  Shipped   \n",
       " 2             363            1216    S18_1749  Shipped   \n",
       " 3             363            1216    S18_4409  Shipped   \n",
       " 4             128            1504    S18_2795  Shipped   \n",
       " \n",
       "                  comments  quantityOrdered  priceEach  sales_amount origin  \n",
       " 0                     NaN               49      35.29       1729.21  spain  \n",
       " 1                     NaN               50      55.09       2754.50  spain  \n",
       " 2                     NaN               30     136.00       4080.00  spain  \n",
       " 3                     NaN               22      75.46       1660.12  spain  \n",
       " 4  Check on availability.               26     167.06       4343.56  spain  ,\n",
       "    customerNumber checkNumber paymentDate    amount\n",
       " 0             103    HQ336336  2004-10-19   6066.78\n",
       " 1             103    JM555205  2003-06-05  14571.44\n",
       " 2             103    OM314933  2004-12-18   1676.14\n",
       " 3             112    BO864823  2004-12-17  14191.12\n",
       " 4             112     HQ55022  2003-06-06  32641.98)"
      ]
     },
     "execution_count": 101,
     "metadata": {},
     "output_type": "execute_result"
    }
   ],
   "source": [
    "# Renombrar columnas con nombres más adecuados para sales.csv\n",
    "sales_df.columns = [\n",
    "\"orderNumber\", \"orderLineNumber\", \"orderDate\", \"shippedDate\", \"requiredDate\",\n",
    "\"customerNumber\", \"EmployeeNumber\", \"productCode\", \"status\", \"comments\",\n",
    "\"quantityOrdered\", \"priceEach\", \"sales_amount\", \"origin\"\n",
    "]\n",
    "# Renombrar columnas para payments.csv\n",
    "payments_df.columns = [\"customerNumber\", \"checkNumber\", \"paymentDate\", \"amount\"]\n",
    "\n",
    "sales_df.head(), payments_df.head()"
   ]
  },
  {
   "cell_type": "code",
   "execution_count": 102,
   "metadata": {},
   "outputs": [
    {
     "data": {
      "text/plain": [
       "(orderNumber          int64\n",
       " orderLineNumber      int64\n",
       " orderDate           object\n",
       " shippedDate         object\n",
       " requiredDate        object\n",
       " customerNumber       int64\n",
       " EmployeeNumber       int64\n",
       " productCode         object\n",
       " status              object\n",
       " comments            object\n",
       " quantityOrdered      int64\n",
       " priceEach          float64\n",
       " sales_amount       float64\n",
       " origin              object\n",
       " dtype: object,\n",
       " customerNumber      int64\n",
       " checkNumber        object\n",
       " paymentDate        object\n",
       " amount            float64\n",
       " dtype: object)"
      ]
     },
     "execution_count": 102,
     "metadata": {},
     "output_type": "execute_result"
    }
   ],
   "source": [
    "# Revisar tipos de datos\n",
    "sales_info = sales_df.dtypes\n",
    "payments_info = payments_df.dtypes\n",
    "sales_info, payments_info"
   ]
  },
  {
   "cell_type": "code",
   "execution_count": 103,
   "metadata": {},
   "outputs": [
    {
     "name": "stdout",
     "output_type": "stream",
     "text": [
      "orderNumber           0\n",
      "orderLineNumber       0\n",
      "orderDate             0\n",
      "shippedDate         142\n",
      "requiredDate          0\n",
      "customerNumber        0\n",
      "EmployeeNumber        0\n",
      "productCode           0\n",
      "status                0\n",
      "comments           2242\n",
      "quantityOrdered       0\n",
      "priceEach             0\n",
      "sales_amount          0\n",
      "origin                0\n",
      "dtype: int64\n",
      "customerNumber    0\n",
      "checkNumber       0\n",
      "paymentDate       0\n",
      "amount            0\n",
      "dtype: int64\n"
     ]
    }
   ],
   "source": [
    "# Datos vacios\n",
    "print(sales_df.isna().sum())\n",
    "print(payments_df.isna().sum())"
   ]
  },
  {
   "cell_type": "code",
   "execution_count": 104,
   "metadata": {},
   "outputs": [
    {
     "name": "stdout",
     "output_type": "stream",
     "text": [
      "\n",
      "orderDate: ['0000-00-00' '2038-09-00']\n",
      "\n",
      "shippedDate: ['0000-00-00' nan '2038-00-06' '2038-09-07']\n",
      "\n",
      "requiredDate: ['0000-00-00' '2038-00-08' '2038-09-07']\n"
     ]
    }
   ],
   "source": [
    "# Verificamos fechas únicas en sales\n",
    "print('\\norderDate:',sales_df['orderDate'].unique())\n",
    "print('\\nshippedDate:',sales_df['shippedDate'].unique())\n",
    "print('\\nrequiredDate:',sales_df['requiredDate'].unique())"
   ]
  },
  {
   "cell_type": "code",
   "execution_count": 105,
   "metadata": {},
   "outputs": [
    {
     "name": "stdout",
     "output_type": "stream",
     "text": [
      "orderDate: orderDate\n",
      "0000-00-00    2998\n",
      "2038-09-00       3\n",
      "Name: count, dtype: int64\n",
      "\n",
      "shippedDate: shippedDate\n",
      "0000-00-00    2839\n",
      "2038-00-06      17\n",
      "2038-09-07       3\n",
      "Name: count, dtype: int64\n",
      "\n",
      "requiredDate: requiredDate\n",
      "0000-00-00    2981\n",
      "2038-00-08      17\n",
      "2038-09-07       3\n",
      "Name: count, dtype: int64\n"
     ]
    }
   ],
   "source": [
    "# Contamos cuantas fechas hay de cada fecha única\n",
    "print('orderDate:', sales_df['orderDate'].value_counts())\n",
    "print('\\nshippedDate:', sales_df['shippedDate'].value_counts())\n",
    "print('\\nrequiredDate:', sales_df['requiredDate'].value_counts())"
   ]
  },
  {
   "cell_type": "code",
   "execution_count": null,
   "metadata": {},
   "outputs": [],
   "source": [
    "# Verificamos comments únicos en sales\n",
    "print('\\ncomments:',sales_df['comments'].unique())"
   ]
  },
  {
   "cell_type": "code",
   "execution_count": null,
   "metadata": {},
   "outputs": [],
   "source": [
    "# Contamos comments hay de cada comments único\n",
    "print('comments:', sales_df['comments'].value_counts())"
   ]
  },
  {
   "cell_type": "code",
   "execution_count": 108,
   "metadata": {},
   "outputs": [
    {
     "data": {
      "text/plain": [
       "orderNumber           0\n",
       "orderLineNumber       0\n",
       "customerNumber        0\n",
       "EmployeeNumber        0\n",
       "productCode           0\n",
       "status                0\n",
       "comments           2242\n",
       "quantityOrdered       0\n",
       "priceEach             0\n",
       "sales_amount          0\n",
       "origin                0\n",
       "dtype: int64"
      ]
     },
     "execution_count": 108,
     "metadata": {},
     "output_type": "execute_result"
    }
   ],
   "source": [
    "# Comprobamos valores nulos\n",
    "sales_df_clean.isna().sum()"
   ]
  },
  {
   "cell_type": "code",
   "execution_count": 109,
   "metadata": {},
   "outputs": [
    {
     "name": "stdout",
     "output_type": "stream",
     "text": [
      "<class 'pandas.core.frame.DataFrame'>\n",
      "RangeIndex: 3001 entries, 0 to 3000\n",
      "Data columns (total 10 columns):\n",
      " #   Column           Non-Null Count  Dtype  \n",
      "---  ------           --------------  -----  \n",
      " 0   orderNumber      3001 non-null   int64  \n",
      " 1   orderLineNumber  3001 non-null   int64  \n",
      " 2   customerNumber   3001 non-null   int64  \n",
      " 3   EmployeeNumber   3001 non-null   int64  \n",
      " 4   productCode      3001 non-null   object \n",
      " 5   status           3001 non-null   object \n",
      " 6   quantityOrdered  3001 non-null   int64  \n",
      " 7   priceEach        3001 non-null   float64\n",
      " 8   sales_amount     3001 non-null   float64\n",
      " 9   origin           3001 non-null   object \n",
      "dtypes: float64(2), int64(5), object(3)\n",
      "memory usage: 234.6+ KB\n"
     ]
    }
   ],
   "source": [
    "# Elimino columnas de fecha y comments ya que no tienen sentido\n",
    "\n",
    "sales_df_clean = sales_df.drop(columns=['orderDate', 'shippedDate', 'requiredDate', 'comments'])\n",
    "sales_df_clean.info()"
   ]
  },
  {
   "cell_type": "code",
   "execution_count": null,
   "metadata": {},
   "outputs": [],
   "source": [
    "# Convertir las columnas numéricas y fechas al tipo correcto\n",
    "sales_df[\"orderNumber\"] = pd.to_numeric(sales_df[\"orderNumber\"],\n",
    "errors=\"coerce\")\n",
    "sales_df[\"orderLineNumber\"] = pd.to_numeric(sales_df[\"orderLineNumber\"],\n",
    "errors=\"coerce\")\n",
    "sales_df[\"customerNumber\"] = pd.to_numeric(sales_df[\"customerNumber\"],\n",
    "errors=\"coerce\")\n",
    "sales_df[\"EmployeeNumber\"] = pd.to_numeric(sales_df[\"EmployeeNumber\"],\n",
    "errors=\"coerce\")\n",
    "sales_df[\"quantityOrdered\"] = pd.to_numeric(sales_df[\"quantityOrdered\"],\n",
    "errors=\"coerce\")\n",
    "sales_df[\"priceEach\"] = pd.to_numeric(sales_df[\"priceEach\"], errors=\"coerce\")\n",
    "sales_df[\"sales_amount\"] = pd.to_numeric(sales_df[\"sales_amount\"], errors=\"coerce\")\n",
    "\n",
    "sales_df[\"orderDate\"] = pd.to_datetime(sales_df[\"orderDate\"], errors=\"coerce\")\n",
    "sales_df[\"requiredDate\"] = pd.to_datetime(sales_df[\"requiredDate\"], errors=\"coerce\")\n",
    "sales_df[\"shippedDate\"] = pd.to_datetime(sales_df[\"shippedDate\"], errors=\"coerce\")\n",
    "payments_df[\"customerNumber\"] = pd.to_numeric(payments_df[\"customerNumber\"],\n",
    "errors=\"coerce\")\n",
    "payments_df[\"amount\"] = pd.to_numeric(payments_df[\"amount\"], errors=\"coerce\")\n",
    "payments_df[\"paymentDate\"] = pd.to_datetime(payments_df[\"paymentDate\"],\n",
    "errors=\"coerce\")\n",
    "# Mostrar la información corregida\n",
    "sales_df.info(), payments_df.info()"
   ]
  },
  {
   "cell_type": "code",
   "execution_count": null,
   "metadata": {},
   "outputs": [],
   "source": [
    "# # Convertir fechas en sales.csv\n",
    "# date_columns_sales = [\"orderDate\", \"shippedDate\", \"requiredDate\"]\n",
    "# for col in date_columns_sales:\n",
    "#     sales_df[col] = pd.to_datetime(sales_df[col], errors='coerce') # Convierte y pone NaT en valores inválidos\n",
    "\n",
    "# # Convertir fecha en payments.csv\n",
    "# payments_df[\"paymentDate\"] = pd.to_datetime(payments_df[\"paymentDate\"],\n",
    "# errors='coerce')\n",
    "\n",
    "# missing_dates_sales = sales_df[date_columns_sales].isnull().sum()\n",
    "# missing_dates_payments = payments_df[\"paymentDate\"].isnull().sum()\n",
    "\n",
    "# missing_dates_sales, missing_dates_payments"
   ]
  },
  {
   "cell_type": "code",
   "execution_count": null,
   "metadata": {},
   "outputs": [],
   "source": [
    "# Evaluar unicidad de posibles claves primarias en cada dataset\n",
    "\n",
    "# Para sales.csv, posibles claves: orderNumber, orderLineNumber (combinación)\n",
    "sales_unique_order = sales_df[\"orderNumber\"].nunique()\n",
    "sales_total_rows = len(sales_df)\n",
    "sales_unique_combination = sales_df[[\"orderNumber\",\n",
    "\"orderLineNumber\"]].duplicated().sum() # Chequear duplicados\n",
    "\n",
    "# Para payments.csv, posibles claves: checkNumber (supuestamente única)\n",
    "payments_unique_check = payments_df[\"checkNumber\"].nunique()\n",
    "payments_total_rows = len(payments_df)\n",
    "payments_duplicated_checks = payments_total_rows - payments_unique_check\n",
    "\n",
    "print(sales_unique_order, sales_unique_combination, payments_unique_check,\n",
    "payments_duplicated_checks)"
   ]
  },
  {
   "cell_type": "code",
   "execution_count": null,
   "metadata": {},
   "outputs": [],
   "source": [
    "# Evaluar la relación entre sales y payments a través de customerNumber\n",
    "\n",
    "# Contar clientes únicos en cada dataset\n",
    "unique_customers_sales = sales_df[\"customerNumber\"].nunique()\n",
    "unique_customers_payments = payments_df[\"customerNumber\"].nunique()\n",
    "\n",
    "# Contar clientes comunes entre ambos datasets\n",
    "common_customers = len(set(sales_df[\"customerNumber\"]).intersection(set(payments_df[\"customerNumber\"])))\n",
    "unique_customers_sales, unique_customers_payments, common_customers"
   ]
  },
  {
   "cell_type": "code",
   "execution_count": null,
   "metadata": {},
   "outputs": [],
   "source": [
    "# Calcular estadísticas descriptivas en variables numéricas\n",
    "stats_sales = sales_df[[\"quantityOrdered\", \"priceEach\", \"sales_amount\"]].describe().T\n",
    "stats_payments = payments_df[[\"amount\"]].describe().T\n",
    "\n",
    "# Calcular varianza y desviación estándar\n",
    "variance_sales = sales_df[[\"quantityOrdered\", \"priceEach\", \"sales_amount\"]].var()\n",
    "std_dev_sales = sales_df[[\"quantityOrdered\", \"priceEach\", \"sales_amount\"]].std()\n",
    "variance_payments = payments_df[[\"amount\"]].var()\n",
    "std_dev_payments = payments_df[[\"amount\"]].std()\n",
    "\n",
    "# Calcular covarianza entre variables en sales.csv\n",
    "covariance_sales = sales_df[[\"quantityOrdered\", \"priceEach\", \"sales_amount\"]].cov()\n",
    "\n",
    "# Calcular correlación entre variables en sales.csv\n",
    "correlation_sales = sales_df[[\"quantityOrdered\", \"priceEach\", \"sales_amount\"]].corr()\n",
    "\n",
    "# Mostrar los resultados en consola usando print\n",
    "print(\"=== Estadísticas de Sales ===\")\n",
    "print(stats_sales)\n",
    "print(\"\\n=== Estadísticas de Payments ===\")\n",
    "print(stats_payments)\n",
    "print(\"\\n=== Covarianza en Sales ===\")\n",
    "print(covariance_sales)\n",
    "print(\"\\n=== Correlación en Sales ===\")\n",
    "print(correlation_sales)"
   ]
  },
  {
   "cell_type": "code",
   "execution_count": null,
   "metadata": {},
   "outputs": [],
   "source": [
    "Aclean_sales_rows = len(sales_df)\n",
    "Alean_payments_rows = len(payments_df)\n",
    "Aclean_sales_rows, Alean_payments_rows"
   ]
  },
  {
   "cell_type": "code",
   "execution_count": null,
   "metadata": {},
   "outputs": [],
   "source": [
    "# **Corrección de calidad de datos**\n",
    "\n",
    "# 1. Eliminar duplicados en sales.csv (basado en orderNumber + orderLineNumber)\n",
    "sales_df = sales_df.drop_duplicates(subset=[\"orderNumber\", \"orderLineNumber\"])\n",
    "\n",
    "# 2. Eliminar duplicados en payments.csv (basado en checkNumber)\n",
    "payments_df = payments_df.drop_duplicates(subset=[\"checkNumber\"])\n",
    "\n",
    "# 3. Manejar valores nulos en las fechas de sales.csv\n",
    "# - Se pueden eliminar registros con fechas nulas o imputarlas con una estrategia adecuada\n",
    "sales_df = sales_df.dropna(subset=[\"orderDate\", \"shippedDate\", \"requiredDate\"])\n",
    "\n",
    "# Verificar nuevamente la cantidad de datos después de la limpieza\n",
    "clean_sales_rows = len(sales_df)\n",
    "clean_payments_rows = len(payments_df)\n",
    "clean_sales_rows, clean_payments_rows"
   ]
  },
  {
   "cell_type": "code",
   "execution_count": null,
   "metadata": {},
   "outputs": [],
   "source": [
    "sales_df"
   ]
  },
  {
   "cell_type": "code",
   "execution_count": null,
   "metadata": {},
   "outputs": [],
   "source": [
    "payments_df"
   ]
  }
 ],
 "metadata": {
  "kernelspec": {
   "display_name": "Python 3",
   "language": "python",
   "name": "python3"
  },
  "language_info": {
   "codemirror_mode": {
    "name": "ipython",
    "version": 3
   },
   "file_extension": ".py",
   "mimetype": "text/x-python",
   "name": "python",
   "nbconvert_exporter": "python",
   "pygments_lexer": "ipython3",
   "version": "3.13.1"
  }
 },
 "nbformat": 4,
 "nbformat_minor": 2
}
