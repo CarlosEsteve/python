{
 "cells": [
  {
   "cell_type": "markdown",
   "metadata": {},
   "source": [
    "# Ejercicio Data Quality - Perfilado\n",
    "## Evaluar la calidad de datos de las ventas de productos"
   ]
  },
  {
   "cell_type": "markdown",
   "metadata": {},
   "source": [
    "Se quiere hacer una evaluación de calidad de datos sobre las ventas (sales) y pagos (payments). Para ello se requiere hacer un análisis de los siguientes puntos:\n",
    "- Calidad de los datos\n",
    "- Selección de clave principal\n",
    "- Identificación de cardinalidad\n",
    "- Obtener media, varianza y desviacion Estandar, covarianza, correlacion\n",
    "- Mejorar la calidad.\n",
    "\n",
    "**Referencia**: “Estadística Descriptiva con Python y Pandas”: https://coderhook.github.io/Descriptive%20Statistics\n",
    "\n",
    "- Columnas sales:, orderNumber, orderLineNumber, orderDate, shippedDate, requiredDate, customerNumber, employeeNumber, productCode, status, comments, quantityOrdered, priceEach, sales_amount, origin\n",
    "\n",
    "- Columnas payments:, customerNumber, checkNumber, paymentDate, amount"
   ]
  },
  {
   "cell_type": "code",
   "execution_count": 6,
   "metadata": {},
   "outputs": [],
   "source": [
    "import pandas as pd\n",
    "import numpy as np\n",
    "import os\n",
    "from tabulate import tabulate\n",
    "import warnings\n",
    "warnings.filterwarnings('ignore')"
   ]
  },
  {
   "cell_type": "markdown",
   "metadata": {},
   "source": [
    "## Cargar archivos"
   ]
  },
  {
   "cell_type": "code",
   "execution_count": 7,
   "metadata": {},
   "outputs": [],
   "source": [
    "sales_df = pd.read_csv('../Pandas/datos/company_sales/sales.csv')"
   ]
  },
  {
   "cell_type": "code",
   "execution_count": 8,
   "metadata": {},
   "outputs": [],
   "source": [
    "payments_df = pd.read_csv('../Pandas/datos/company_sales/payments.csv')"
   ]
  },
  {
   "cell_type": "code",
   "execution_count": 9,
   "metadata": {},
   "outputs": [
    {
     "data": {
      "text/plain": [
       "(       0  0.1  0000-00-00 0000-00-00.1 0000-00-00.2  0.2   0.3 productCode  \\\n",
       " 0  10100    1  0000-00-00   0000-00-00   0000-00-00  363  1216    S24_3969   \n",
       " 1  10100    2  0000-00-00   0000-00-00   0000-00-00  363  1216    S18_2248   \n",
       " 2  10100    3  0000-00-00   0000-00-00   0000-00-00  363  1216    S18_1749   \n",
       " 3  10100    4  0000-00-00   0000-00-00   0000-00-00  363  1216    S18_4409   \n",
       " 4  10101    1  0000-00-00   0000-00-00   0000-00-00  128  1504    S18_2795   \n",
       " \n",
       "     status                comments  0.4    0.00   0.00.1 origin  \n",
       " 0  Shipped                     NaN   49   35.29  1729.21  spain  \n",
       " 1  Shipped                     NaN   50   55.09  2754.50  spain  \n",
       " 2  Shipped                     NaN   30  136.00  4080.00  spain  \n",
       " 3  Shipped                     NaN   22   75.46  1660.12  spain  \n",
       " 4  Shipped  Check on availability.   26  167.06  4343.56  spain  ,\n",
       "      0 checkNumber  0000-00-00      0.00\n",
       " 0  103    HQ336336  2004-10-19   6066.78\n",
       " 1  103    JM555205  2003-06-05  14571.44\n",
       " 2  103    OM314933  2004-12-18   1676.14\n",
       " 3  112    BO864823  2004-12-17  14191.12\n",
       " 4  112     HQ55022  2003-06-06  32641.98)"
      ]
     },
     "execution_count": 9,
     "metadata": {},
     "output_type": "execute_result"
    }
   ],
   "source": [
    "# Mostrar las primeras filas de cada dataset\n",
    "sales_df.head(), payments_df.head()"
   ]
  },
  {
   "cell_type": "code",
   "execution_count": 11,
   "metadata": {},
   "outputs": [
    {
     "data": {
      "text/plain": [
       "(   orderNumber  orderLineNumber   orderDate shippedDate requiredDate  \\\n",
       " 0        10100                1  0000-00-00  0000-00-00   0000-00-00   \n",
       " 1        10100                2  0000-00-00  0000-00-00   0000-00-00   \n",
       " 2        10100                3  0000-00-00  0000-00-00   0000-00-00   \n",
       " 3        10100                4  0000-00-00  0000-00-00   0000-00-00   \n",
       " 4        10101                1  0000-00-00  0000-00-00   0000-00-00   \n",
       " \n",
       "    customerNumber  EmployeeNumber productCode   status  \\\n",
       " 0             363            1216    S24_3969  Shipped   \n",
       " 1             363            1216    S18_2248  Shipped   \n",
       " 2             363            1216    S18_1749  Shipped   \n",
       " 3             363            1216    S18_4409  Shipped   \n",
       " 4             128            1504    S18_2795  Shipped   \n",
       " \n",
       "                  comments  quantityOrdered  priceEach  sales_amount origin  \n",
       " 0                     NaN               49      35.29       1729.21  spain  \n",
       " 1                     NaN               50      55.09       2754.50  spain  \n",
       " 2                     NaN               30     136.00       4080.00  spain  \n",
       " 3                     NaN               22      75.46       1660.12  spain  \n",
       " 4  Check on availability.               26     167.06       4343.56  spain  ,\n",
       "    customerNumber checkNumber paymentDate    amount\n",
       " 0             103    HQ336336  2004-10-19   6066.78\n",
       " 1             103    JM555205  2003-06-05  14571.44\n",
       " 2             103    OM314933  2004-12-18   1676.14\n",
       " 3             112    BO864823  2004-12-17  14191.12\n",
       " 4             112     HQ55022  2003-06-06  32641.98)"
      ]
     },
     "execution_count": 11,
     "metadata": {},
     "output_type": "execute_result"
    }
   ],
   "source": [
    "# Renombrar columnas con nombres más adecuados para sales.csv\n",
    "sales_df.columns = [\n",
    "\"orderNumber\", \"orderLineNumber\", \"orderDate\", \"shippedDate\", \"requiredDate\",\n",
    "\"customerNumber\", \"EmployeeNumber\", \"productCode\", \"status\", \"comments\",\n",
    "\"quantityOrdered\", \"priceEach\", \"sales_amount\", \"origin\"\n",
    "]\n",
    "# Renombrar columnas para payments.csv\n",
    "payments_df.columns = [\"customerNumber\", \"checkNumber\", \"paymentDate\", \"amount\"]\n",
    "\n",
    "sales_df.head(), payments_df.head()"
   ]
  },
  {
   "cell_type": "code",
   "execution_count": 12,
   "metadata": {},
   "outputs": [
    {
     "data": {
      "text/plain": [
       "(orderNumber          int64\n",
       " orderLineNumber      int64\n",
       " orderDate           object\n",
       " shippedDate         object\n",
       " requiredDate        object\n",
       " customerNumber       int64\n",
       " EmployeeNumber       int64\n",
       " productCode         object\n",
       " status              object\n",
       " comments            object\n",
       " quantityOrdered      int64\n",
       " priceEach          float64\n",
       " sales_amount       float64\n",
       " origin              object\n",
       " dtype: object,\n",
       " customerNumber      int64\n",
       " checkNumber        object\n",
       " paymentDate        object\n",
       " amount            float64\n",
       " dtype: object)"
      ]
     },
     "execution_count": 12,
     "metadata": {},
     "output_type": "execute_result"
    }
   ],
   "source": [
    "# Revisar tipos de datos\n",
    "sales_info = sales_df.dtypes\n",
    "payments_info = payments_df.dtypes\n",
    "sales_info, payments_info"
   ]
  },
  {
   "cell_type": "code",
   "execution_count": 14,
   "metadata": {},
   "outputs": [
    {
     "name": "stdout",
     "output_type": "stream",
     "text": [
      "Datos vacios en sales.csv\n",
      " orderNumber           0\n",
      "orderLineNumber       0\n",
      "orderDate             0\n",
      "shippedDate         142\n",
      "requiredDate          0\n",
      "customerNumber        0\n",
      "EmployeeNumber        0\n",
      "productCode           0\n",
      "status                0\n",
      "comments           2242\n",
      "quantityOrdered       0\n",
      "priceEach             0\n",
      "sales_amount          0\n",
      "origin                0\n",
      "dtype: int64\n",
      "\n",
      "Datos vacios en payments.csv\n",
      " customerNumber    0\n",
      "checkNumber       0\n",
      "paymentDate       0\n",
      "amount            0\n",
      "dtype: int64\n"
     ]
    }
   ],
   "source": [
    "# Datos vacios\n",
    "print('Datos vacios en sales.csv\\n',sales_df.isna().sum())\n",
    "print('\\nDatos vacios en payments.csv\\n',payments_df.isna().sum())"
   ]
  },
  {
   "cell_type": "code",
   "execution_count": 15,
   "metadata": {},
   "outputs": [
    {
     "name": "stdout",
     "output_type": "stream",
     "text": [
      "\n",
      "orderDate: ['0000-00-00' '2038-09-00']\n",
      "\n",
      "shippedDate: ['0000-00-00' nan '2038-00-06' '2038-09-07']\n",
      "\n",
      "requiredDate: ['0000-00-00' '2038-00-08' '2038-09-07']\n"
     ]
    }
   ],
   "source": [
    "# Verificamos fechas únicas en sales\n",
    "print('\\norderDate:',sales_df['orderDate'].unique())\n",
    "print('\\nshippedDate:',sales_df['shippedDate'].unique())\n",
    "print('\\nrequiredDate:',sales_df['requiredDate'].unique())"
   ]
  },
  {
   "cell_type": "code",
   "execution_count": 16,
   "metadata": {},
   "outputs": [
    {
     "name": "stdout",
     "output_type": "stream",
     "text": [
      "orderDate: orderDate\n",
      "0000-00-00    2998\n",
      "2038-09-00       3\n",
      "Name: count, dtype: int64\n",
      "\n",
      "shippedDate: shippedDate\n",
      "0000-00-00    2839\n",
      "2038-00-06      17\n",
      "2038-09-07       3\n",
      "Name: count, dtype: int64\n",
      "\n",
      "requiredDate: requiredDate\n",
      "0000-00-00    2981\n",
      "2038-00-08      17\n",
      "2038-09-07       3\n",
      "Name: count, dtype: int64\n"
     ]
    }
   ],
   "source": [
    "# Contamos cuantas fechas hay de cada fecha única\n",
    "print('orderDate:', sales_df['orderDate'].value_counts())\n",
    "print('\\nshippedDate:', sales_df['shippedDate'].value_counts())\n",
    "print('\\nrequiredDate:', sales_df['requiredDate'].value_counts())"
   ]
  },
  {
   "cell_type": "code",
   "execution_count": null,
   "metadata": {},
   "outputs": [],
   "source": [
    "# Verificamos comments únicos en sales\n",
    "print('\\ncomments:',sales_df['comments'].unique())"
   ]
  },
  {
   "cell_type": "code",
   "execution_count": null,
   "metadata": {},
   "outputs": [],
   "source": [
    "# Contamos comments hay de cada comments único\n",
    "print('comments:', sales_df['comments'].value_counts())"
   ]
  },
  {
   "cell_type": "code",
   "execution_count": 19,
   "metadata": {},
   "outputs": [
    {
     "name": "stdout",
     "output_type": "stream",
     "text": [
      "<class 'pandas.core.frame.DataFrame'>\n",
      "RangeIndex: 3001 entries, 0 to 3000\n",
      "Data columns (total 10 columns):\n",
      " #   Column           Non-Null Count  Dtype  \n",
      "---  ------           --------------  -----  \n",
      " 0   orderNumber      3001 non-null   int64  \n",
      " 1   orderLineNumber  3001 non-null   int64  \n",
      " 2   customerNumber   3001 non-null   int64  \n",
      " 3   EmployeeNumber   3001 non-null   int64  \n",
      " 4   productCode      3001 non-null   object \n",
      " 5   status           3001 non-null   object \n",
      " 6   quantityOrdered  3001 non-null   int64  \n",
      " 7   priceEach        3001 non-null   float64\n",
      " 8   sales_amount     3001 non-null   float64\n",
      " 9   origin           3001 non-null   object \n",
      "dtypes: float64(2), int64(5), object(3)\n",
      "memory usage: 234.6+ KB\n"
     ]
    }
   ],
   "source": [
    "# Elimino en sales.csv columnas de fecha y comments ya que no tienen sentido\n",
    "\n",
    "sales_df_clean = sales_df.drop(columns=['orderDate', 'shippedDate', 'requiredDate', 'comments'])\n",
    "sales_df_clean.info()"
   ]
  },
  {
   "cell_type": "code",
   "execution_count": 20,
   "metadata": {},
   "outputs": [
    {
     "data": {
      "text/plain": [
       "orderNumber        0\n",
       "orderLineNumber    0\n",
       "customerNumber     0\n",
       "EmployeeNumber     0\n",
       "productCode        0\n",
       "status             0\n",
       "quantityOrdered    0\n",
       "priceEach          0\n",
       "sales_amount       0\n",
       "origin             0\n",
       "dtype: int64"
      ]
     },
     "execution_count": 20,
     "metadata": {},
     "output_type": "execute_result"
    }
   ],
   "source": [
    "# Comprobamos valores nulos en sales_df_clean\n",
    "sales_df_clean.isna().sum()"
   ]
  },
  {
   "cell_type": "code",
   "execution_count": 32,
   "metadata": {},
   "outputs": [
    {
     "name": "stdout",
     "output_type": "stream",
     "text": [
      "<class 'pandas.core.frame.DataFrame'>\n",
      "RangeIndex: 3001 entries, 0 to 3000\n",
      "Data columns (total 10 columns):\n",
      " #   Column           Non-Null Count  Dtype  \n",
      "---  ------           --------------  -----  \n",
      " 0   orderNumber      3001 non-null   int64  \n",
      " 1   orderLineNumber  3001 non-null   int64  \n",
      " 2   customerNumber   3001 non-null   int64  \n",
      " 3   EmployeeNumber   3001 non-null   int64  \n",
      " 4   productCode      3001 non-null   object \n",
      " 5   status           3001 non-null   object \n",
      " 6   quantityOrdered  3001 non-null   int64  \n",
      " 7   priceEach        3001 non-null   float64\n",
      " 8   sales_amount     3001 non-null   float64\n",
      " 9   origin           3001 non-null   object \n",
      "dtypes: float64(2), int64(5), object(3)\n",
      "memory usage: 234.6+ KB\n",
      "<class 'pandas.core.frame.DataFrame'>\n",
      "RangeIndex: 278 entries, 0 to 277\n",
      "Data columns (total 4 columns):\n",
      " #   Column          Non-Null Count  Dtype         \n",
      "---  ------          --------------  -----         \n",
      " 0   customerNumber  278 non-null    int64         \n",
      " 1   checkNumber     278 non-null    object        \n",
      " 2   paymentDate     278 non-null    datetime64[ns]\n",
      " 3   amount          278 non-null    float64       \n",
      "dtypes: datetime64[ns](1), float64(1), int64(1), object(1)\n",
      "memory usage: 8.8+ KB\n"
     ]
    },
    {
     "data": {
      "text/plain": [
       "(None, None)"
      ]
     },
     "execution_count": 32,
     "metadata": {},
     "output_type": "execute_result"
    }
   ],
   "source": [
    "# Convertir las columnas numéricas y fechas al tipo correcto categoricas\n",
    "sales_df_clean[\"orderNumber\"] = pd.to_numeric(sales_df_clean[\"orderNumber\"], errors=\"coerce\")\n",
    "sales_df_clean[\"orderLineNumber\"] = pd.to_numeric(sales_df_clean[\"orderLineNumber\"], errors=\"coerce\")\n",
    "sales_df_clean[\"customerNumber\"] = pd.to_numeric(sales_df_clean[\"customerNumber\"], errors=\"coerce\")\n",
    "sales_df_clean[\"EmployeeNumber\"] = pd.to_numeric(sales_df_clean[\"EmployeeNumber\"], errors=\"coerce\")\n",
    "sales_df_clean[\"quantityOrdered\"] = pd.to_numeric(sales_df_clean[\"quantityOrdered\"], errors=\"coerce\")\n",
    "sales_df_clean[\"priceEach\"] = pd.to_numeric(sales_df_clean[\"priceEach\"], errors=\"coerce\")\n",
    "sales_df_clean[\"sales_amount\"] = pd.to_numeric(sales_df_clean[\"sales_amount\"], errors=\"coerce\")\n",
    "\n",
    "# sales_df_clean[\"orderDate\"] = pd.to_datetime(sales_df_clean[\"orderDate\"], errors=\"coerce\")\n",
    "# sales_df_clean[\"requiredDate\"] = pd.to_datetime(sales_df_clean[\"requiredDate\"], errors=\"coerce\")\n",
    "# sales_df_clean[\"shippedDate\"] = pd.to_datetime(sales_df_clean[\"shippedDate\"], errors=\"coerce\")\n",
    "\n",
    "payments_df[\"customerNumber\"] = pd.to_numeric(payments_df[\"customerNumber\"], errors=\"coerce\")\n",
    "payments_df[\"amount\"] = pd.to_numeric(payments_df[\"amount\"], errors=\"coerce\")\n",
    "payments_df[\"paymentDate\"] = pd.to_datetime(payments_df[\"paymentDate\"], errors=\"coerce\")\n",
    "\n",
    "# Mostrar la información corregida\n",
    "sales_df_clean.info(), payments_df.info()"
   ]
  },
  {
   "cell_type": "code",
   "execution_count": 21,
   "metadata": {},
   "outputs": [
    {
     "name": "stdout",
     "output_type": "stream",
     "text": [
      "\n",
      "Fechas nulas en payments: 0\n"
     ]
    }
   ],
   "source": [
    "# # Convertir fechas en sales.csv\n",
    "# date_columns_sales = [\"orderDate\", \"shippedDate\", \"requiredDate\"]\n",
    "# for col in date_columns_sales:\n",
    "#     sales_df[col] = pd.to_datetime(sales_df[col], errors='coerce') # Convierte y pone NaT en valores inválidos\n",
    "\n",
    "# Convertir fecha en payments.csv\n",
    "# payments_df[\"paymentDate\"] = pd.to_datetime(payments_df[\"paymentDate\"], errors='coerce')\n",
    "\n",
    "# Verificamos si hay alguna fecha nula\n",
    "# missing_dates_sales = sales_df[date_columns_sales].isnull().sum()\n",
    "missing_dates_payments = payments_df[\"paymentDate\"].isnull().sum()\n",
    "\n",
    "# missing_dates_sales, missing_dates_payments\n",
    "\n",
    "print('\\nFechas nulas en payments:',missing_dates_payments)"
   ]
  },
  {
   "cell_type": "code",
   "execution_count": null,
   "metadata": {},
   "outputs": [],
   "source": [
    "# Valores atípicos con z-scores"
   ]
  },
  {
   "cell_type": "code",
   "execution_count": 22,
   "metadata": {},
   "outputs": [
    {
     "name": "stdout",
     "output_type": "stream",
     "text": [
      "\n",
      "Sumatorio duplicados en sales 5\n"
     ]
    },
    {
     "data": {
      "text/html": [
       "<div>\n",
       "<style scoped>\n",
       "    .dataframe tbody tr th:only-of-type {\n",
       "        vertical-align: middle;\n",
       "    }\n",
       "\n",
       "    .dataframe tbody tr th {\n",
       "        vertical-align: top;\n",
       "    }\n",
       "\n",
       "    .dataframe thead th {\n",
       "        text-align: right;\n",
       "    }\n",
       "</style>\n",
       "<table border=\"1\" class=\"dataframe\">\n",
       "  <thead>\n",
       "    <tr style=\"text-align: right;\">\n",
       "      <th></th>\n",
       "      <th>orderNumber</th>\n",
       "      <th>orderLineNumber</th>\n",
       "      <th>customerNumber</th>\n",
       "      <th>EmployeeNumber</th>\n",
       "      <th>productCode</th>\n",
       "      <th>status</th>\n",
       "      <th>quantityOrdered</th>\n",
       "      <th>priceEach</th>\n",
       "      <th>sales_amount</th>\n",
       "      <th>origin</th>\n",
       "    </tr>\n",
       "  </thead>\n",
       "  <tbody>\n",
       "    <tr>\n",
       "      <th>27</th>\n",
       "      <td>10104</td>\n",
       "      <td>2</td>\n",
       "      <td>141</td>\n",
       "      <td>1370</td>\n",
       "      <td>S50_1514</td>\n",
       "      <td>Shipped</td>\n",
       "      <td>32</td>\n",
       "      <td>53.31</td>\n",
       "      <td>1705.92</td>\n",
       "      <td>spain</td>\n",
       "    </tr>\n",
       "    <tr>\n",
       "      <th>28</th>\n",
       "      <td>10104</td>\n",
       "      <td>2</td>\n",
       "      <td>141</td>\n",
       "      <td>1370</td>\n",
       "      <td>S50_1514</td>\n",
       "      <td>Shipped</td>\n",
       "      <td>32</td>\n",
       "      <td>53.31</td>\n",
       "      <td>1705.92</td>\n",
       "      <td>spain</td>\n",
       "    </tr>\n",
       "    <tr>\n",
       "      <th>2860</th>\n",
       "      <td>10410</td>\n",
       "      <td>2</td>\n",
       "      <td>357</td>\n",
       "      <td>1612</td>\n",
       "      <td>S18_3136</td>\n",
       "      <td>Shipped</td>\n",
       "      <td>34</td>\n",
       "      <td>84.82</td>\n",
       "      <td>2883.88</td>\n",
       "      <td>spain</td>\n",
       "    </tr>\n",
       "    <tr>\n",
       "      <th>2861</th>\n",
       "      <td>10410</td>\n",
       "      <td>2</td>\n",
       "      <td>357</td>\n",
       "      <td>1612</td>\n",
       "      <td>S18_3136</td>\n",
       "      <td>Shipped</td>\n",
       "      <td>34</td>\n",
       "      <td>84.82</td>\n",
       "      <td>2883.88</td>\n",
       "      <td>spain</td>\n",
       "    </tr>\n",
       "    <tr>\n",
       "      <th>2894</th>\n",
       "      <td>10413</td>\n",
       "      <td>6</td>\n",
       "      <td>175</td>\n",
       "      <td>1323</td>\n",
       "      <td>S32_3207</td>\n",
       "      <td>Shipped</td>\n",
       "      <td>24</td>\n",
       "      <td>56.55</td>\n",
       "      <td>1357.20</td>\n",
       "      <td>spain</td>\n",
       "    </tr>\n",
       "    <tr>\n",
       "      <th>2895</th>\n",
       "      <td>10413</td>\n",
       "      <td>6</td>\n",
       "      <td>175</td>\n",
       "      <td>1323</td>\n",
       "      <td>S32_3207</td>\n",
       "      <td>Shipped</td>\n",
       "      <td>24</td>\n",
       "      <td>56.55</td>\n",
       "      <td>1357.20</td>\n",
       "      <td>spain</td>\n",
       "    </tr>\n",
       "    <tr>\n",
       "      <th>2944</th>\n",
       "      <td>10419</td>\n",
       "      <td>1</td>\n",
       "      <td>382</td>\n",
       "      <td>1401</td>\n",
       "      <td>S18_1589</td>\n",
       "      <td>Shipped</td>\n",
       "      <td>37</td>\n",
       "      <td>100.80</td>\n",
       "      <td>3729.60</td>\n",
       "      <td>spain</td>\n",
       "    </tr>\n",
       "    <tr>\n",
       "      <th>2945</th>\n",
       "      <td>10419</td>\n",
       "      <td>1</td>\n",
       "      <td>382</td>\n",
       "      <td>1401</td>\n",
       "      <td>S18_1589</td>\n",
       "      <td>Shipped</td>\n",
       "      <td>37</td>\n",
       "      <td>100.80</td>\n",
       "      <td>3729.60</td>\n",
       "      <td>spain</td>\n",
       "    </tr>\n",
       "    <tr>\n",
       "      <th>2989</th>\n",
       "      <td>10425</td>\n",
       "      <td>3</td>\n",
       "      <td>119</td>\n",
       "      <td>1370</td>\n",
       "      <td>S18_2238</td>\n",
       "      <td>In Process</td>\n",
       "      <td>28</td>\n",
       "      <td>147.36</td>\n",
       "      <td>4126.08</td>\n",
       "      <td>spain</td>\n",
       "    </tr>\n",
       "    <tr>\n",
       "      <th>2990</th>\n",
       "      <td>10425</td>\n",
       "      <td>3</td>\n",
       "      <td>119</td>\n",
       "      <td>1370</td>\n",
       "      <td>S18_2238</td>\n",
       "      <td>In Process</td>\n",
       "      <td>28</td>\n",
       "      <td>147.36</td>\n",
       "      <td>4126.08</td>\n",
       "      <td>spain</td>\n",
       "    </tr>\n",
       "  </tbody>\n",
       "</table>\n",
       "</div>"
      ],
      "text/plain": [
       "      orderNumber  orderLineNumber  customerNumber  EmployeeNumber  \\\n",
       "27          10104                2             141            1370   \n",
       "28          10104                2             141            1370   \n",
       "2860        10410                2             357            1612   \n",
       "2861        10410                2             357            1612   \n",
       "2894        10413                6             175            1323   \n",
       "2895        10413                6             175            1323   \n",
       "2944        10419                1             382            1401   \n",
       "2945        10419                1             382            1401   \n",
       "2989        10425                3             119            1370   \n",
       "2990        10425                3             119            1370   \n",
       "\n",
       "     productCode      status  quantityOrdered  priceEach  sales_amount origin  \n",
       "27      S50_1514     Shipped               32      53.31       1705.92  spain  \n",
       "28      S50_1514     Shipped               32      53.31       1705.92  spain  \n",
       "2860    S18_3136     Shipped               34      84.82       2883.88  spain  \n",
       "2861    S18_3136     Shipped               34      84.82       2883.88  spain  \n",
       "2894    S32_3207     Shipped               24      56.55       1357.20  spain  \n",
       "2895    S32_3207     Shipped               24      56.55       1357.20  spain  \n",
       "2944    S18_1589     Shipped               37     100.80       3729.60  spain  \n",
       "2945    S18_1589     Shipped               37     100.80       3729.60  spain  \n",
       "2989    S18_2238  In Process               28     147.36       4126.08  spain  \n",
       "2990    S18_2238  In Process               28     147.36       4126.08  spain  "
      ]
     },
     "execution_count": 22,
     "metadata": {},
     "output_type": "execute_result"
    }
   ],
   "source": [
    "# Mostrar todas las filas duplicadas en sales_df_clean\n",
    "print('\\nSumatorio duplicados en sales', sales_df_clean.duplicated().sum())\n",
    "sales_df_clean[sales_df_clean.duplicated(keep=False)]\n"
   ]
  },
  {
   "cell_type": "code",
   "execution_count": 31,
   "metadata": {},
   "outputs": [],
   "source": [
    "# Generar una columna  con orderNumber y orderLineNumber"
   ]
  },
  {
   "cell_type": "code",
   "execution_count": 23,
   "metadata": {},
   "outputs": [
    {
     "name": "stdout",
     "output_type": "stream",
     "text": [
      "\n",
      "Sumatorio duplicados en payments 5\n"
     ]
    },
    {
     "data": {
      "text/html": [
       "<div>\n",
       "<style scoped>\n",
       "    .dataframe tbody tr th:only-of-type {\n",
       "        vertical-align: middle;\n",
       "    }\n",
       "\n",
       "    .dataframe tbody tr th {\n",
       "        vertical-align: top;\n",
       "    }\n",
       "\n",
       "    .dataframe thead th {\n",
       "        text-align: right;\n",
       "    }\n",
       "</style>\n",
       "<table border=\"1\" class=\"dataframe\">\n",
       "  <thead>\n",
       "    <tr style=\"text-align: right;\">\n",
       "      <th></th>\n",
       "      <th>customerNumber</th>\n",
       "      <th>checkNumber</th>\n",
       "      <th>paymentDate</th>\n",
       "      <th>amount</th>\n",
       "    </tr>\n",
       "  </thead>\n",
       "  <tbody>\n",
       "    <tr>\n",
       "      <th>31</th>\n",
       "      <td>129</td>\n",
       "      <td>ID449593</td>\n",
       "      <td>2003-12-11</td>\n",
       "      <td>13923.93</td>\n",
       "    </tr>\n",
       "    <tr>\n",
       "      <th>32</th>\n",
       "      <td>129</td>\n",
       "      <td>ID449593</td>\n",
       "      <td>2003-12-11</td>\n",
       "      <td>13923.93</td>\n",
       "    </tr>\n",
       "    <tr>\n",
       "      <th>85</th>\n",
       "      <td>175</td>\n",
       "      <td>CITI3434344</td>\n",
       "      <td>2005-05-19</td>\n",
       "      <td>14500.78</td>\n",
       "    </tr>\n",
       "    <tr>\n",
       "      <th>86</th>\n",
       "      <td>175</td>\n",
       "      <td>CITI3434344</td>\n",
       "      <td>2005-05-19</td>\n",
       "      <td>14500.78</td>\n",
       "    </tr>\n",
       "    <tr>\n",
       "      <th>143</th>\n",
       "      <td>260</td>\n",
       "      <td>IO164641</td>\n",
       "      <td>2004-08-30</td>\n",
       "      <td>13527.58</td>\n",
       "    </tr>\n",
       "    <tr>\n",
       "      <th>144</th>\n",
       "      <td>260</td>\n",
       "      <td>IO164641</td>\n",
       "      <td>2004-08-30</td>\n",
       "      <td>13527.58</td>\n",
       "    </tr>\n",
       "    <tr>\n",
       "      <th>214</th>\n",
       "      <td>381</td>\n",
       "      <td>GB117430</td>\n",
       "      <td>2005-02-03</td>\n",
       "      <td>7379.90</td>\n",
       "    </tr>\n",
       "    <tr>\n",
       "      <th>215</th>\n",
       "      <td>381</td>\n",
       "      <td>GB117430</td>\n",
       "      <td>2005-02-03</td>\n",
       "      <td>7379.90</td>\n",
       "    </tr>\n",
       "    <tr>\n",
       "      <th>268</th>\n",
       "      <td>487</td>\n",
       "      <td>AH612904</td>\n",
       "      <td>2003-09-28</td>\n",
       "      <td>14997.09</td>\n",
       "    </tr>\n",
       "    <tr>\n",
       "      <th>269</th>\n",
       "      <td>487</td>\n",
       "      <td>AH612904</td>\n",
       "      <td>2003-09-28</td>\n",
       "      <td>14997.09</td>\n",
       "    </tr>\n",
       "  </tbody>\n",
       "</table>\n",
       "</div>"
      ],
      "text/plain": [
       "     customerNumber  checkNumber paymentDate    amount\n",
       "31              129     ID449593  2003-12-11  13923.93\n",
       "32              129     ID449593  2003-12-11  13923.93\n",
       "85              175  CITI3434344  2005-05-19  14500.78\n",
       "86              175  CITI3434344  2005-05-19  14500.78\n",
       "143             260     IO164641  2004-08-30  13527.58\n",
       "144             260     IO164641  2004-08-30  13527.58\n",
       "214             381     GB117430  2005-02-03   7379.90\n",
       "215             381     GB117430  2005-02-03   7379.90\n",
       "268             487     AH612904  2003-09-28  14997.09\n",
       "269             487     AH612904  2003-09-28  14997.09"
      ]
     },
     "execution_count": 23,
     "metadata": {},
     "output_type": "execute_result"
    }
   ],
   "source": [
    "# Mostrar todas las filas duplicadas en payments_df\n",
    "print('\\nSumatorio duplicados en payments', payments_df.duplicated().sum())\n",
    "payments_df[payments_df.duplicated(keep=False)]"
   ]
  },
  {
   "cell_type": "code",
   "execution_count": 25,
   "metadata": {},
   "outputs": [
    {
     "name": "stdout",
     "output_type": "stream",
     "text": [
      "\n",
      "Sumatorio duplicados en sales_df_cleaned 0\n",
      "\n",
      "Sumatorio duplicados en payments_df_cleaned 0\n"
     ]
    }
   ],
   "source": [
    "# Elimino filas duplicadas en sales_df_clean y payments dejando la primera que aparece\n",
    "\n",
    "sales_df_cleaned = sales_df_clean.drop_duplicates(keep='last')\n",
    "payments_df_cleaned = payments_df.drop_duplicates(keep='last')\n",
    "\n",
    "print('\\nSumatorio duplicados en sales_df_cleaned', sales_df_cleaned.duplicated().sum())\n",
    "print('\\nSumatorio duplicados en payments_df_cleaned', payments_df_cleaned.duplicated().sum())"
   ]
  },
  {
   "cell_type": "code",
   "execution_count": 26,
   "metadata": {},
   "outputs": [
    {
     "name": "stdout",
     "output_type": "stream",
     "text": [
      "<class 'pandas.core.frame.DataFrame'>\n",
      "Index: 2996 entries, 0 to 3000\n",
      "Data columns (total 10 columns):\n",
      " #   Column           Non-Null Count  Dtype  \n",
      "---  ------           --------------  -----  \n",
      " 0   orderNumber      2996 non-null   int64  \n",
      " 1   orderLineNumber  2996 non-null   int64  \n",
      " 2   customerNumber   2996 non-null   int64  \n",
      " 3   EmployeeNumber   2996 non-null   int64  \n",
      " 4   productCode      2996 non-null   object \n",
      " 5   status           2996 non-null   object \n",
      " 6   quantityOrdered  2996 non-null   int64  \n",
      " 7   priceEach        2996 non-null   float64\n",
      " 8   sales_amount     2996 non-null   float64\n",
      " 9   origin           2996 non-null   object \n",
      "dtypes: float64(2), int64(5), object(3)\n",
      "memory usage: 257.5+ KB\n",
      "<class 'pandas.core.frame.DataFrame'>\n",
      "Index: 273 entries, 0 to 277\n",
      "Data columns (total 4 columns):\n",
      " #   Column          Non-Null Count  Dtype  \n",
      "---  ------          --------------  -----  \n",
      " 0   customerNumber  273 non-null    int64  \n",
      " 1   checkNumber     273 non-null    object \n",
      " 2   paymentDate     273 non-null    object \n",
      " 3   amount          273 non-null    float64\n",
      "dtypes: float64(1), int64(1), object(2)\n",
      "memory usage: 10.7+ KB\n"
     ]
    },
    {
     "data": {
      "text/plain": [
       "(None, None)"
      ]
     },
     "execution_count": 26,
     "metadata": {},
     "output_type": "execute_result"
    }
   ],
   "source": [
    "# Muestro la información de los df limpios\n",
    "\n",
    "sales_df_cleaned.info(), payments_df_cleaned.info()"
   ]
  },
  {
   "cell_type": "markdown",
   "metadata": {},
   "source": [
    "### Cardinalidad"
   ]
  },
  {
   "cell_type": "code",
   "execution_count": 27,
   "metadata": {},
   "outputs": [
    {
     "name": "stdout",
     "output_type": "stream",
     "text": [
      "                 Sumatorio de valores  Sumatorio de valores únicos\n",
      "orderNumber                      2996                          326\n",
      "orderLineNumber                  2996                           18\n",
      "customerNumber                   2996                           98\n",
      "EmployeeNumber                   2996                           15\n",
      "productCode                      2996                          109\n",
      "status                           2996                            6\n",
      "quantityOrdered                  2996                           61\n",
      "priceEach                        2996                         1573\n",
      "sales_amount                     2996                         2885\n",
      "origin                           2996                            2\n"
     ]
    }
   ],
   "source": [
    "# Calcular el sumatorio de valores para cada columna\n",
    "sum_values_sales = sales_df_cleaned.count()\n",
    "\n",
    "# Calcular el sumatorio de valores únicos para cada columna\n",
    "unique_sum_sales = sales_df_cleaned.nunique()\n",
    "\n",
    "# Crear un nuevo DataFrame para mostrar ambos sumatorios\n",
    "result_df_sales = pd.DataFrame({\n",
    "    'Sumatorio de valores': sum_values_sales,\n",
    "    'Sumatorio de valores únicos': unique_sum_sales\n",
    "})\n",
    "\n",
    "print(result_df_sales)"
   ]
  },
  {
   "cell_type": "code",
   "execution_count": 28,
   "metadata": {},
   "outputs": [
    {
     "name": "stdout",
     "output_type": "stream",
     "text": [
      "                Sumatorio de valores  Sumatorio de valores únicos\n",
      "customerNumber                   273                           98\n",
      "checkNumber                      273                          273\n",
      "paymentDate                      273                          232\n",
      "amount                           273                          273\n"
     ]
    }
   ],
   "source": [
    "# Calcular el sumatorio de valores para cada columna\n",
    "sum_values_pay = payments_df_cleaned.count()\n",
    "\n",
    "# Calcular el sumatorio de valores únicos para cada columna\n",
    "unique_sum_pay = payments_df_cleaned.nunique()\n",
    "\n",
    "# Crear un nuevo DataFrame para mostrar ambos sumatorios\n",
    "result_df_pay = pd.DataFrame({\n",
    "    'Sumatorio de valores': sum_values_pay,\n",
    "    'Sumatorio de valores únicos': unique_sum_pay\n",
    "})\n",
    "\n",
    "print(result_df_pay)"
   ]
  },
  {
   "cell_type": "code",
   "execution_count": null,
   "metadata": {},
   "outputs": [],
   "source": [
    "# # Evaluar unicidad de posibles claves primarias en cada dataset\n",
    "\n",
    "# # Para sales.csv, posibles claves: orderNumber, orderLineNumber (combinación)\n",
    "# sales_unique_order = sales_df_cleaned[\"orderNumber\"].nunique()\n",
    "# sales_total_rows = len(sales_df_cleaned)\n",
    "# sales_unique_combination = sales_df_cleaned[[\"orderNumber\", \"orderLineNumber\"]].duplicated().sum() # Chequear duplicados\n",
    "\n",
    "# # Para payments.csv, posibles claves: checkNumber (supuestamente única)\n",
    "# payments_unique_check = payments_df_cleaned[\"checkNumber\"].nunique()\n",
    "# payments_total_rows = len(payments_df_cleaned)\n",
    "# payments_duplicated_checks = payments_total_rows - payments_unique_check\n",
    "\n",
    "# print(sales_unique_order, sales_unique_combination, payments_unique_check,\n",
    "# payments_duplicated_checks)"
   ]
  },
  {
   "cell_type": "code",
   "execution_count": 33,
   "metadata": {},
   "outputs": [
    {
     "name": "stdout",
     "output_type": "stream",
     "text": [
      "Posibles claves primarias en sales_df_cleaned:\n",
      "[]\n"
     ]
    }
   ],
   "source": [
    "# Evaluar la unicidad de posibles claves primarias\n",
    "\n",
    "# Crear una lista para almacenar los resultados\n",
    "unique_keys_sales = []\n",
    "\n",
    "# Iterar sobre cada columna del DataFrame\n",
    "for column in sales_df_cleaned.columns:\n",
    "    # Verificar si la columna tiene valores únicos\n",
    "    if sales_df_cleaned[column].is_unique:\n",
    "        unique_keys_sales.append(column)\n",
    "\n",
    "# Mostrar las posibles claves primarias\n",
    "print(\"Posibles claves primarias en sales_df_cleaned:\")\n",
    "print(unique_keys_sales)"
   ]
  },
  {
   "cell_type": "code",
   "execution_count": 34,
   "metadata": {},
   "outputs": [
    {
     "name": "stdout",
     "output_type": "stream",
     "text": [
      "Posibles claves primarias en payments_df_cleaned:\n",
      "['checkNumber', 'amount']\n"
     ]
    }
   ],
   "source": [
    "# Evaluar la unicidad de posibles claves primarias\n",
    "\n",
    "# Crear una lista para almacenar los resultados\n",
    "unique_keys_pay = []\n",
    "\n",
    "# Iterar sobre cada columna del DataFrame\n",
    "for column in payments_df_cleaned.columns:\n",
    "    # Verificar si la columna tiene valores únicos\n",
    "    if payments_df_cleaned[column].is_unique:\n",
    "        unique_keys_pay.append(column)\n",
    "\n",
    "# Mostrar las posibles claves primarias\n",
    "print(\"Posibles claves primarias en payments_df_cleaned:\")\n",
    "print(unique_keys_pay)"
   ]
  },
  {
   "cell_type": "code",
   "execution_count": 35,
   "metadata": {},
   "outputs": [
    {
     "data": {
      "text/plain": [
       "(98, 98, 98)"
      ]
     },
     "execution_count": 35,
     "metadata": {},
     "output_type": "execute_result"
    }
   ],
   "source": [
    "# Evaluar la relación entre sales y payments a través de customerNumber\n",
    "\n",
    "# Contar clientes únicos en cada dataset\n",
    "unique_customers_sales = sales_df_cleaned[\"customerNumber\"].nunique()\n",
    "unique_customers_payments = payments_df_cleaned[\"customerNumber\"].nunique()\n",
    "\n",
    "# Contar clientes comunes entre ambos datasets\n",
    "common_customers = len(set(sales_df_cleaned[\"customerNumber\"]).intersection(set(payments_df_cleaned[\"customerNumber\"])))\n",
    "unique_customers_sales, unique_customers_payments, common_customers"
   ]
  },
  {
   "cell_type": "code",
   "execution_count": 36,
   "metadata": {},
   "outputs": [
    {
     "name": "stdout",
     "output_type": "stream",
     "text": [
      "DataFrame resultante del merge entre sales_df_cleaned y payments_df_cleaned:\n",
      "       orderNumber  orderLineNumber  customerNumber  EmployeeNumber  \\\n",
      "0            10100                1             363            1216   \n",
      "1            10100                1             363            1216   \n",
      "2            10100                1             363            1216   \n",
      "3            10100                2             363            1216   \n",
      "4            10100                2             363            1216   \n",
      "...            ...              ...             ...             ...   \n",
      "12010        10425               12             119            1370   \n",
      "12011        10425               12             119            1370   \n",
      "12012        10425               13             119            1370   \n",
      "12013        10425               13             119            1370   \n",
      "12014        10425               13             119            1370   \n",
      "\n",
      "      productCode      status  quantityOrdered  priceEach  sales_amount  \\\n",
      "0        S24_3969     Shipped               49      35.29       1729.21   \n",
      "1        S24_3969     Shipped               49      35.29       1729.21   \n",
      "2        S24_3969     Shipped               49      35.29       1729.21   \n",
      "3        S18_2248     Shipped               50      55.09       2754.50   \n",
      "4        S18_2248     Shipped               50      55.09       2754.50   \n",
      "...           ...         ...              ...        ...           ...   \n",
      "12010    S10_4962  In Process               38     131.49       4996.62   \n",
      "12011    S10_4962  In Process               38     131.49       4996.62   \n",
      "12012    S18_4600  In Process               38     107.76       4094.88   \n",
      "12013    S18_4600  In Process               38     107.76       4094.88   \n",
      "12014    S18_4600  In Process               38     107.76       4094.88   \n",
      "\n",
      "      origin checkNumber paymentDate    amount  \n",
      "0      spain    HL575273  2004-11-17  50799.69  \n",
      "1      spain    IS232033  2003-01-16  10223.83  \n",
      "2      spain    PN238558  2003-12-05  55425.77  \n",
      "3      spain    HL575273  2004-11-17  50799.69  \n",
      "4      spain    IS232033  2003-01-16  10223.83  \n",
      "...      ...         ...         ...       ...  \n",
      "12010  spain    LN373447  2004-08-08  47924.19  \n",
      "12011  spain     NG94694  2005-02-22  49523.67  \n",
      "12012  spain    DB933704  2004-11-14  19501.82  \n",
      "12013  spain    LN373447  2004-08-08  47924.19  \n",
      "12014  spain     NG94694  2005-02-22  49523.67  \n",
      "\n",
      "[12015 rows x 13 columns]\n"
     ]
    }
   ],
   "source": [
    "# Evaluar la relación entre sales_df_cleaned y payments_df_cleaned a través de customerNumber\n",
    "\n",
    "# Verificar si customerNumber es una columna en ambos DataFrames\n",
    "if 'customerNumber' in sales_df_cleaned.columns and 'customerNumber' in payments_df_cleaned.columns:\n",
    "    # Realizar un merge (join) entre ambos DataFrames usando customerNumber como clave\n",
    "    merged_df = pd.merge(sales_df_cleaned, payments_df_cleaned, on='customerNumber', how='inner')\n",
    "    \n",
    "    # Mostrar el DataFrame resultante del merge\n",
    "    print(\"DataFrame resultante del merge entre sales_df_cleaned y payments_df_cleaned:\")\n",
    "    print(merged_df)\n",
    "else:\n",
    "    print(\"La columna 'customerNumber' no está presente en uno o ambos DataFrames.\")"
   ]
  },
  {
   "cell_type": "code",
   "execution_count": null,
   "metadata": {},
   "outputs": [],
   "source": [
    "# Datos vacios\n",
    "print('Datos vacios\\n',merged_df.isna().sum())"
   ]
  },
  {
   "cell_type": "code",
   "execution_count": null,
   "metadata": {},
   "outputs": [],
   "source": [
    "merged_df.info()"
   ]
  },
  {
   "cell_type": "code",
   "execution_count": null,
   "metadata": {},
   "outputs": [],
   "source": [
    "# Calcular estadísticas descriptivas en variables numéricas\n",
    "stats_sales = sales_df_cleaned.describe().T\n",
    "stats_payments = payments_df_cleaned[[\"checkNumber\", \"amount\"]].describe().T\n",
    "\n",
    "# Calcular varianza y desviación estándar\n",
    "variance_sales = sales_df_cleaned[[\"quantityOrdered\", \"priceEach\", \"sales_amount\"]].var()\n",
    "std_dev_sales = sales_df_cleaned[[\"quantityOrdered\", \"priceEach\", \"sales_amount\"]].std()\n",
    "variance_payments = payments_df_cleaned[[\"amount\"]].var()\n",
    "std_dev_payments = payments_df_cleaned[[\"amount\"]].std()\n",
    "\n",
    "# Calcular covarianza entre variables en sales.csv\n",
    "covariance_sales = sales_df_cleaned[[\"quantityOrdered\", \"priceEach\", \"sales_amount\"]].cov()\n",
    "\n",
    "# Calcular correlación entre variables en sales.csv\n",
    "correlation_sales = sales_df_cleaned[[\"quantityOrdered\", \"priceEach\", \"sales_amount\"]].corr()\n",
    "\n",
    "# Mostrar los resultados en consola usando print\n",
    "print(\"=== Estadísticas de Sales ===\")\n",
    "print(stats_sales)\n",
    "print(\"\\n=== Estadísticas de Payments ===\")\n",
    "print(stats_payments)\n",
    "print(\"\\n=== Covarianza en Sales ===\")\n",
    "print(covariance_sales)\n",
    "print(\"\\n=== Correlación en Sales ===\")\n",
    "print(correlation_sales)"
   ]
  },
  {
   "cell_type": "code",
   "execution_count": null,
   "metadata": {},
   "outputs": [],
   "source": [
    "# Longitud de filas\n",
    "\n",
    "Aclean_sales_rows = len(sales_df_cleaned)\n",
    "Alean_payments_rows = len(payments_df_cleaned)\n",
    "Alean_merge_rows = len(merged_df)\n",
    "Aclean_sales_rows, Alean_payments_rows, Alean_merge_rows"
   ]
  },
  {
   "cell_type": "code",
   "execution_count": null,
   "metadata": {},
   "outputs": [],
   "source": [
    "# Obtener la ruta del directorio actual\n",
    "current_directory = os.getcwd()\n",
    "\n",
    "print(\"La ruta del directorio actual es:\", current_directory)"
   ]
  },
  {
   "cell_type": "code",
   "execution_count": null,
   "metadata": {},
   "outputs": [],
   "source": [
    "# Extraer los DataFrame a un archivo CSV\n",
    "\n",
    "sales_df_cleaned.to_csv('../Pandas/datos/company_sales/sales_df_cleaned.csv', index=False)\n",
    "payments_df_cleaned.to_csv('../Pandas/datos/company_sales/payments_df_cleaned.csv', index=False)\n",
    "merged_df.to_csv('../Pandas/datos/company_sales/merged_df.csv', index=False)\n",
    "\n",
    "print(\"El DataFrame sales_df_cleaned, payments_df_cleaned y merged_df se ha extraído a *.csv\")"
   ]
  },
  {
   "cell_type": "code",
   "execution_count": null,
   "metadata": {},
   "outputs": [],
   "source": [
    "# Crear un archivo Excel con cada DataFrame en hojas distintas y con carácter de tabulación \",\"\n",
    "\n",
    "# Crear un objeto ExcelWriter\n",
    "with pd.ExcelWriter('../Pandas/datos/company_sales/dataframes.xlsx', engine='xlsxwriter') as writer:\n",
    "    # Escribir cada DataFrame en una hoja distinta\n",
    "    sales_df.to_excel(writer, sheet_name='sales_df', index=False)\n",
    "    payments_df.to_excel(writer, sheet_name='payments_df', index=False)\n",
    "    sales_df_cleaned.to_excel(writer, sheet_name='sales_df_cleaned', index=False)\n",
    "    payments_df_cleaned.to_excel(writer, sheet_name='payments_df_cleaned', index=False)\n",
    "    merged_df.to_excel(writer, sheet_name='merged_df_cleaned', index=False)\n",
    "\n",
    "print(\"Los DataFrames se han extraído a 'dataframes.xlsx' con cada DataFrame en hojas distintas.\")"
   ]
  }
 ],
 "metadata": {
  "kernelspec": {
   "display_name": "Python 3",
   "language": "python",
   "name": "python3"
  },
  "language_info": {
   "codemirror_mode": {
    "name": "ipython",
    "version": 3
   },
   "file_extension": ".py",
   "mimetype": "text/x-python",
   "name": "python",
   "nbconvert_exporter": "python",
   "pygments_lexer": "ipython3",
   "version": "3.13.1"
  }
 },
 "nbformat": 4,
 "nbformat_minor": 2
}
