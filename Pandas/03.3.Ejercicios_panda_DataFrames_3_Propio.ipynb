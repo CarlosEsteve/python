{
 "cells": [
  {
   "cell_type": "markdown",
   "metadata": {},
   "source": [
    "# Ejercicios Pandas DataFrames 03"
   ]
  },
  {
   "cell_type": "markdown",
   "metadata": {},
   "source": [
    "Carga el dataset del titanic"
   ]
  },
  {
   "cell_type": "markdown",
   "metadata": {},
   "source": [
    "1. Escribe un programa Pandas para dividir los pasajeros en cuatro categorías según su edad: (0, 10), (10, 30), (30, 60), (60, 80)"
   ]
  },
  {
   "cell_type": "code",
   "execution_count": 20,
   "metadata": {},
   "outputs": [
    {
     "data": {
      "text/html": [
       "<div>\n",
       "<style scoped>\n",
       "    .dataframe tbody tr th:only-of-type {\n",
       "        vertical-align: middle;\n",
       "    }\n",
       "\n",
       "    .dataframe tbody tr th {\n",
       "        vertical-align: top;\n",
       "    }\n",
       "\n",
       "    .dataframe thead th {\n",
       "        text-align: right;\n",
       "    }\n",
       "</style>\n",
       "<table border=\"1\" class=\"dataframe\">\n",
       "  <thead>\n",
       "    <tr style=\"text-align: right;\">\n",
       "      <th></th>\n",
       "      <th>survived</th>\n",
       "      <th>pclass</th>\n",
       "      <th>sex</th>\n",
       "      <th>age</th>\n",
       "      <th>sibsp</th>\n",
       "      <th>parch</th>\n",
       "      <th>fare</th>\n",
       "      <th>embarked</th>\n",
       "      <th>class</th>\n",
       "      <th>who</th>\n",
       "      <th>adult_male</th>\n",
       "      <th>deck</th>\n",
       "      <th>embark_town</th>\n",
       "      <th>alive</th>\n",
       "      <th>alone</th>\n",
       "      <th>Unnamed: 15</th>\n",
       "    </tr>\n",
       "  </thead>\n",
       "  <tbody>\n",
       "    <tr>\n",
       "      <th>0</th>\n",
       "      <td>0</td>\n",
       "      <td>3</td>\n",
       "      <td>male</td>\n",
       "      <td>22.0</td>\n",
       "      <td>1</td>\n",
       "      <td>0</td>\n",
       "      <td>7.2500</td>\n",
       "      <td>S</td>\n",
       "      <td>Third</td>\n",
       "      <td>man</td>\n",
       "      <td>True</td>\n",
       "      <td>NaN</td>\n",
       "      <td>Southampton</td>\n",
       "      <td>no</td>\n",
       "      <td>False</td>\n",
       "      <td>NaN</td>\n",
       "    </tr>\n",
       "    <tr>\n",
       "      <th>1</th>\n",
       "      <td>1</td>\n",
       "      <td>1</td>\n",
       "      <td>female</td>\n",
       "      <td>38.0</td>\n",
       "      <td>1</td>\n",
       "      <td>0</td>\n",
       "      <td>71.2833</td>\n",
       "      <td>C</td>\n",
       "      <td>First</td>\n",
       "      <td>woman</td>\n",
       "      <td>False</td>\n",
       "      <td>C</td>\n",
       "      <td>Cherbourg</td>\n",
       "      <td>yes</td>\n",
       "      <td>False</td>\n",
       "      <td>NaN</td>\n",
       "    </tr>\n",
       "    <tr>\n",
       "      <th>2</th>\n",
       "      <td>1</td>\n",
       "      <td>3</td>\n",
       "      <td>female</td>\n",
       "      <td>26.0</td>\n",
       "      <td>0</td>\n",
       "      <td>0</td>\n",
       "      <td>7.9250</td>\n",
       "      <td>S</td>\n",
       "      <td>Third</td>\n",
       "      <td>woman</td>\n",
       "      <td>False</td>\n",
       "      <td>NaN</td>\n",
       "      <td>Southampton</td>\n",
       "      <td>yes</td>\n",
       "      <td>True</td>\n",
       "      <td>NaN</td>\n",
       "    </tr>\n",
       "    <tr>\n",
       "      <th>3</th>\n",
       "      <td>1</td>\n",
       "      <td>1</td>\n",
       "      <td>female</td>\n",
       "      <td>35.0</td>\n",
       "      <td>1</td>\n",
       "      <td>0</td>\n",
       "      <td>53.1000</td>\n",
       "      <td>S</td>\n",
       "      <td>First</td>\n",
       "      <td>woman</td>\n",
       "      <td>False</td>\n",
       "      <td>C</td>\n",
       "      <td>Southampton</td>\n",
       "      <td>yes</td>\n",
       "      <td>False</td>\n",
       "      <td>NaN</td>\n",
       "    </tr>\n",
       "    <tr>\n",
       "      <th>4</th>\n",
       "      <td>0</td>\n",
       "      <td>3</td>\n",
       "      <td>male</td>\n",
       "      <td>35.0</td>\n",
       "      <td>0</td>\n",
       "      <td>0</td>\n",
       "      <td>8.0500</td>\n",
       "      <td>S</td>\n",
       "      <td>Third</td>\n",
       "      <td>man</td>\n",
       "      <td>True</td>\n",
       "      <td>NaN</td>\n",
       "      <td>Southampton</td>\n",
       "      <td>no</td>\n",
       "      <td>True</td>\n",
       "      <td>NaN</td>\n",
       "    </tr>\n",
       "  </tbody>\n",
       "</table>\n",
       "</div>"
      ],
      "text/plain": [
       "   survived  pclass     sex   age  sibsp  parch     fare embarked  class  \\\n",
       "0         0       3    male  22.0      1      0   7.2500        S  Third   \n",
       "1         1       1  female  38.0      1      0  71.2833        C  First   \n",
       "2         1       3  female  26.0      0      0   7.9250        S  Third   \n",
       "3         1       1  female  35.0      1      0  53.1000        S  First   \n",
       "4         0       3    male  35.0      0      0   8.0500        S  Third   \n",
       "\n",
       "     who  adult_male deck  embark_town alive  alone  Unnamed: 15  \n",
       "0    man        True  NaN  Southampton    no  False          NaN  \n",
       "1  woman       False    C    Cherbourg   yes  False          NaN  \n",
       "2  woman       False  NaN  Southampton   yes   True          NaN  \n",
       "3  woman       False    C  Southampton   yes  False          NaN  \n",
       "4    man        True  NaN  Southampton    no   True          NaN  "
      ]
     },
     "execution_count": 20,
     "metadata": {},
     "output_type": "execute_result"
    }
   ],
   "source": [
    "import pandas as pd\n",
    "\n",
    "df = pd.read_csv(\"./datos/titanic.csv\")\n",
    "df.head()"
   ]
  },
  {
   "cell_type": "markdown",
   "metadata": {},
   "source": [
    "2. Escribe un programa Pandas para contar la supervivencia por género, categorías y edad de varias clases. Siendo las categorías de edad: (0, 10), (10, 30), (30, 60), (60, 80)"
   ]
  },
  {
   "cell_type": "code",
   "execution_count": 15,
   "metadata": {},
   "outputs": [
    {
     "name": "stdout",
     "output_type": "stream",
     "text": [
      "       sex  pclass age_category  survival_count\n",
      "0   female       1         0-10               0\n",
      "1   female       1        10-30              28\n",
      "2   female       1        30-60              51\n",
      "3   female       1        60-80               3\n",
      "4   female       2         0-10               8\n",
      "5   female       2        10-30              30\n",
      "6   female       2        30-60              30\n",
      "7   female       2        60-80               0\n",
      "8   female       3         0-10              11\n",
      "9   female       3        10-30              28\n",
      "10  female       3        30-60               7\n",
      "11  female       3        60-80               1\n",
      "12    male       1         0-10               2\n",
      "13    male       1        10-30              11\n",
      "14    male       1        30-60              25\n",
      "15    male       1        60-80               1\n",
      "16    male       2         0-10               9\n",
      "17    male       2        10-30               1\n",
      "18    male       2        30-60               4\n",
      "19    male       2        60-80               1\n",
      "20    male       3         0-10               8\n",
      "21    male       3        10-30              20\n",
      "22    male       3        30-60              10\n",
      "23    male       3        60-80               0\n"
     ]
    }
   ],
   "source": [
    "# Definir las categorías de edad\n",
    "age_bins = [0, 10, 30, 60, 80]\n",
    "age_labels = ['0-10', '10-30', '30-60', '60-80']\n",
    "\n",
    "# Crear una nueva columna 'age_category' basada en las categorías de edad\n",
    "df['age_category'] = pd.cut(df['age'], bins=age_bins, labels=age_labels, right=False)\n",
    "\n",
    "# Agrupar por 'sex', 'pclass' y 'age_category' y contar el número de supervivientes\n",
    "survival_counts = df[df['survived'] == 1].groupby(['sex', 'pclass', 'age_category']).size().reset_index(name='survival_count')\n",
    "\n",
    "print(survival_counts)"
   ]
  },
  {
   "cell_type": "markdown",
   "metadata": {},
   "source": [
    "3. Escribe un programa Pandas para encontrar la tasa de supervivencia por género y edad de las diferentes categorías de varias clases. \n",
    "Agregar la tarifa como una dimensión de columnas y dividir la columna de tarifa en 2 categorías según los valores presentes en las columnas de tarifa."
   ]
  },
  {
   "cell_type": "code",
   "execution_count": 16,
   "metadata": {},
   "outputs": [
    {
     "name": "stdout",
     "output_type": "stream",
     "text": [
      "       sex  pclass age_category fare_category  survived\n",
      "0   female       1         0-10      Low Fare       NaN\n",
      "1   female       1         0-10     High Fare  0.000000\n",
      "2   female       1        10-30      Low Fare       NaN\n",
      "3   female       1        10-30     High Fare  0.965517\n",
      "4   female       1        30-60      Low Fare       NaN\n",
      "5   female       1        30-60     High Fare  0.980769\n",
      "6   female       1        60-80      Low Fare       NaN\n",
      "7   female       1        60-80     High Fare  1.000000\n",
      "8   female       2         0-10      Low Fare       NaN\n",
      "9   female       2         0-10     High Fare  1.000000\n",
      "10  female       2        10-30      Low Fare  0.923077\n",
      "11  female       2        10-30     High Fare  0.900000\n",
      "12  female       2        30-60      Low Fare  0.866667\n",
      "13  female       2        30-60     High Fare  0.944444\n",
      "14  female       2        60-80      Low Fare       NaN\n",
      "15  female       2        60-80     High Fare       NaN\n",
      "16  female       3         0-10      Low Fare  0.800000\n",
      "17  female       3         0-10     High Fare  0.437500\n",
      "18  female       3        10-30      Low Fare  0.571429\n",
      "19  female       3        10-30     High Fare  0.307692\n",
      "20  female       3        30-60      Low Fare  0.222222\n",
      "21  female       3        30-60     High Fare  0.312500\n",
      "22  female       3        60-80      Low Fare  1.000000\n",
      "23  female       3        60-80     High Fare       NaN\n",
      "24    male       1         0-10      Low Fare       NaN\n",
      "25    male       1         0-10     High Fare  1.000000\n",
      "26    male       1        10-30      Low Fare       NaN\n",
      "27    male       1        10-30     High Fare  0.478261\n",
      "28    male       1        30-60      Low Fare  0.000000\n",
      "29    male       1        30-60     High Fare  0.431034\n",
      "30    male       1        60-80      Low Fare       NaN\n",
      "31    male       1        60-80     High Fare  0.076923\n",
      "32    male       2         0-10      Low Fare       NaN\n",
      "33    male       2         0-10     High Fare  1.000000\n",
      "34    male       2        10-30      Low Fare  0.040000\n",
      "35    male       2        10-30     High Fare  0.000000\n",
      "36    male       2        30-60      Low Fare  0.111111\n",
      "37    male       2        30-60     High Fare  0.047619\n",
      "38    male       2        60-80      Low Fare  0.333333\n",
      "39    male       2        60-80     High Fare  0.000000\n",
      "40    male       3         0-10      Low Fare  1.000000\n",
      "41    male       3         0-10     High Fare  0.277778\n",
      "42    male       3        10-30      Low Fare  0.140496\n",
      "43    male       3        10-30     High Fare  0.130435\n",
      "44    male       3        30-60      Low Fare  0.112676\n",
      "45    male       3        30-60     High Fare  0.153846\n",
      "46    male       3        60-80      Low Fare  0.000000\n",
      "47    male       3        60-80     High Fare       NaN\n"
     ]
    }
   ],
   "source": [
    "# Definir las categorías de edad\n",
    "age_bins = [0, 10, 30, 60, 80]\n",
    "age_labels = ['0-10', '10-30', '30-60', '60-80']\n",
    "\n",
    "# Crear una nueva columna 'age_category' basada en las categorías de edad\n",
    "df['age_category'] = pd.cut(df['age'], bins=age_bins, labels=age_labels, right=False)\n",
    "\n",
    "# Dividir la columna de tarifa en 2 categorías\n",
    "fare_median = df['fare'].median()\n",
    "df['fare_category'] = pd.cut(df['fare'], bins=[-1, fare_median, df['fare'].max()], labels=['Low Fare', 'High Fare'])\n",
    "\n",
    "# Calcular la tasa de supervivencia por género, clase, categoría de edad y categoría de tarifa\n",
    "survival_rate = df.groupby(['sex', 'pclass', 'age_category', 'fare_category'])['survived'].mean().reset_index()\n",
    "\n",
    "print(survival_rate)"
   ]
  },
  {
   "cell_type": "markdown",
   "metadata": {},
   "source": [
    "4. Escribe un programa Pandas para calcular la cantidad de mujeres y hombres que había en cada clase de cabina."
   ]
  },
  {
   "cell_type": "code",
   "execution_count": 17,
   "metadata": {},
   "outputs": [
    {
     "name": "stdout",
     "output_type": "stream",
     "text": [
      "   pclass     sex  count\n",
      "0       1  female     94\n",
      "1       1    male    122\n",
      "2       2  female     76\n",
      "3       2    male    108\n",
      "4       3  female    144\n",
      "5       3    male    347\n"
     ]
    }
   ],
   "source": [
    "# Calcular la cantidad de mujeres y hombres en cada clase de cabina\n",
    "gender_counts = df.groupby(['pclass', 'sex']).size().reset_index(name='count')\n",
    "\n",
    "print(gender_counts)"
   ]
  },
  {
   "cell_type": "markdown",
   "metadata": {},
   "source": [
    "5. Escribe un programa Pandas para separar el género según si viajaron solos o no y obtener la probabilidad de supervivencia."
   ]
  },
  {
   "cell_type": "code",
   "execution_count": 18,
   "metadata": {},
   "outputs": [
    {
     "name": "stdout",
     "output_type": "stream",
     "text": [
      "      sex     alone  survived\n",
      "0  female  Not Solo  0.712766\n",
      "1  female      Solo  0.785714\n",
      "2    male  Not Solo  0.271084\n",
      "3    male      Solo  0.155718\n"
     ]
    }
   ],
   "source": [
    "# Separar el género según si viajaron solos o no\n",
    "df['alone'] = df['alone'].map({True: 'Solo', False: 'Not Solo'})\n",
    "\n",
    "# Calcular la probabilidad de supervivencia por género y si viajaron solos o no\n",
    "survival_probability = df.groupby(['sex', 'alone'])['survived'].mean().reset_index()\n",
    "\n",
    "print(survival_probability)"
   ]
  },
  {
   "cell_type": "markdown",
   "metadata": {},
   "source": [
    "6. Escribe un programa Pandas para crear encontrar la probabilidad de supervivencia por clase, género, embarque en solitario y puerto de embarque."
   ]
  },
  {
   "cell_type": "code",
   "execution_count": 21,
   "metadata": {},
   "outputs": [
    {
     "name": "stdout",
     "output_type": "stream",
     "text": [
      "    pclass     sex     alone embarked  survived\n",
      "0        1  female  Not Solo        C  1.000000\n",
      "1        1  female  Not Solo        Q  1.000000\n",
      "2        1  female  Not Solo        S  0.941176\n",
      "3        1  female      Solo        C  0.944444\n",
      "4        1  female      Solo        S  1.000000\n",
      "5        1    male  Not Solo        C  0.473684\n",
      "6        1    male  Not Solo        Q  0.000000\n",
      "7        1    male  Not Solo        S  0.407407\n",
      "8        1    male      Solo        C  0.347826\n",
      "9        1    male      Solo        S  0.326923\n",
      "10       2  female  Not Solo        C  1.000000\n",
      "11       2  female  Not Solo        S  0.923077\n",
      "12       2  female      Solo        C  1.000000\n",
      "13       2  female      Solo        Q  1.000000\n",
      "14       2  female      Solo        S  0.892857\n",
      "15       2    male  Not Solo        C  0.166667\n",
      "16       2    male  Not Solo        S  0.300000\n",
      "17       2    male      Solo        C  0.250000\n",
      "18       2    male      Solo        Q  0.000000\n",
      "19       2    male      Solo        S  0.089552\n",
      "20       3  female  Not Solo        C  0.611111\n",
      "21       3  female  Not Solo        Q  0.625000\n",
      "22       3  female  Not Solo        S  0.327586\n",
      "23       3  female      Solo        C  0.800000\n",
      "24       3  female      Solo        Q  0.760000\n",
      "25       3  female      Solo        S  0.466667\n",
      "26       3    male  Not Solo        C  0.500000\n",
      "27       3    male  Not Solo        Q  0.100000\n",
      "28       3    male  Not Solo        S  0.142857\n",
      "29       3    male      Solo        C  0.151515\n",
      "30       3    male      Solo        Q  0.068966\n",
      "31       3    male      Solo        S  0.123762\n"
     ]
    }
   ],
   "source": [
    "# Mapea la columna 'alone' para indicar si una persona viajó sola ('Solo') o no ('Not Solo')\n",
    "df['alone'] = df['alone'].map({True: 'Solo', False: 'Not Solo'})\n",
    "\n",
    "# Asegurarse de que no haya valores nulos en las columnas utilizadas para el agrupamiento\n",
    "df = df.dropna(subset=['pclass', 'sex', 'alone', 'embarked', 'survived'])\n",
    "\n",
    "# Calcular la probabilidad de supervivencia por clase, género, embarque en solitario y puerto de embarque\n",
    "survival_probability = df.groupby(['pclass', 'sex', 'alone', 'embarked'])['survived'].mean().reset_index()\n",
    "\n",
    "print(survival_probability)"
   ]
  }
 ],
 "metadata": {
  "kernelspec": {
   "display_name": "Python 3.8 - AzureML",
   "language": "python",
   "name": "python38-azureml"
  },
  "language_info": {
   "codemirror_mode": {
    "name": "ipython",
    "version": 3
   },
   "file_extension": ".py",
   "mimetype": "text/x-python",
   "name": "python",
   "nbconvert_exporter": "python",
   "pygments_lexer": "ipython3",
   "version": "3.10.11"
  }
 },
 "nbformat": 4,
 "nbformat_minor": 2
}
