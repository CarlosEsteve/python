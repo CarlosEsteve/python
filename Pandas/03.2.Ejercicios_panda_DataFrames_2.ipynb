{
 "cells": [
  {
   "cell_type": "markdown",
   "metadata": {},
   "source": [
    "# Ejercicios Pandas DataFrames 02"
   ]
  },
  {
   "cell_type": "markdown",
   "metadata": {},
   "source": [
    "Carga el dataset de vuelos \"flights14.csv\""
   ]
  },
  {
   "cell_type": "code",
   "execution_count": 22,
   "metadata": {},
   "outputs": [
    {
     "data": {
      "text/html": [
       "<div>\n",
       "<style scoped>\n",
       "    .dataframe tbody tr th:only-of-type {\n",
       "        vertical-align: middle;\n",
       "    }\n",
       "\n",
       "    .dataframe tbody tr th {\n",
       "        vertical-align: top;\n",
       "    }\n",
       "\n",
       "    .dataframe thead th {\n",
       "        text-align: right;\n",
       "    }\n",
       "</style>\n",
       "<table border=\"1\" class=\"dataframe\">\n",
       "  <thead>\n",
       "    <tr style=\"text-align: right;\">\n",
       "      <th></th>\n",
       "      <th>year</th>\n",
       "      <th>month</th>\n",
       "      <th>day</th>\n",
       "      <th>dep_delay</th>\n",
       "      <th>arr_delay</th>\n",
       "      <th>carrier</th>\n",
       "      <th>origin</th>\n",
       "      <th>dest</th>\n",
       "      <th>air_time</th>\n",
       "      <th>distance</th>\n",
       "      <th>hour</th>\n",
       "    </tr>\n",
       "  </thead>\n",
       "  <tbody>\n",
       "    <tr>\n",
       "      <th>1</th>\n",
       "      <td>2014</td>\n",
       "      <td>1</td>\n",
       "      <td>1</td>\n",
       "      <td>14</td>\n",
       "      <td>13</td>\n",
       "      <td>AA</td>\n",
       "      <td>JFK</td>\n",
       "      <td>LAX</td>\n",
       "      <td>359</td>\n",
       "      <td>2475</td>\n",
       "      <td>9</td>\n",
       "    </tr>\n",
       "    <tr>\n",
       "      <th>2</th>\n",
       "      <td>2014</td>\n",
       "      <td>1</td>\n",
       "      <td>1</td>\n",
       "      <td>-3</td>\n",
       "      <td>13</td>\n",
       "      <td>AA</td>\n",
       "      <td>JFK</td>\n",
       "      <td>LAX</td>\n",
       "      <td>363</td>\n",
       "      <td>2475</td>\n",
       "      <td>11</td>\n",
       "    </tr>\n",
       "    <tr>\n",
       "      <th>3</th>\n",
       "      <td>2014</td>\n",
       "      <td>1</td>\n",
       "      <td>1</td>\n",
       "      <td>2</td>\n",
       "      <td>9</td>\n",
       "      <td>AA</td>\n",
       "      <td>JFK</td>\n",
       "      <td>LAX</td>\n",
       "      <td>351</td>\n",
       "      <td>2475</td>\n",
       "      <td>19</td>\n",
       "    </tr>\n",
       "    <tr>\n",
       "      <th>4</th>\n",
       "      <td>2014</td>\n",
       "      <td>1</td>\n",
       "      <td>1</td>\n",
       "      <td>-8</td>\n",
       "      <td>-26</td>\n",
       "      <td>AA</td>\n",
       "      <td>LGA</td>\n",
       "      <td>PBI</td>\n",
       "      <td>157</td>\n",
       "      <td>1035</td>\n",
       "      <td>7</td>\n",
       "    </tr>\n",
       "    <tr>\n",
       "      <th>5</th>\n",
       "      <td>2014</td>\n",
       "      <td>1</td>\n",
       "      <td>1</td>\n",
       "      <td>2</td>\n",
       "      <td>1</td>\n",
       "      <td>AA</td>\n",
       "      <td>JFK</td>\n",
       "      <td>LAX</td>\n",
       "      <td>350</td>\n",
       "      <td>2475</td>\n",
       "      <td>13</td>\n",
       "    </tr>\n",
       "  </tbody>\n",
       "</table>\n",
       "</div>"
      ],
      "text/plain": [
       "   year  month  day  dep_delay  arr_delay carrier origin dest  air_time  \\\n",
       "1  2014      1    1         14         13      AA    JFK  LAX       359   \n",
       "2  2014      1    1         -3         13      AA    JFK  LAX       363   \n",
       "3  2014      1    1          2          9      AA    JFK  LAX       351   \n",
       "4  2014      1    1         -8        -26      AA    LGA  PBI       157   \n",
       "5  2014      1    1          2          1      AA    JFK  LAX       350   \n",
       "\n",
       "   distance  hour  \n",
       "1      2475     9  \n",
       "2      2475    11  \n",
       "3      2475    19  \n",
       "4      1035     7  \n",
       "5      2475    13  "
      ]
     },
     "execution_count": 22,
     "metadata": {},
     "output_type": "execute_result"
    }
   ],
   "source": [
    "import pandas as pd\n",
    "\n",
    "df = pd.read_csv('../data/flights14.csv', index_col=0)\n",
    "df.head()"
   ]
  },
  {
   "cell_type": "code",
   "execution_count": null,
   "metadata": {},
   "outputs": [],
   "source": [
    "df.info()"
   ]
  },
  {
   "cell_type": "markdown",
   "metadata": {},
   "source": [
    "1. Escribe un programa Pandas para dividir los datos basados en origen y destino. Muestra cada grupo y el número de elementos por grupo"
   ]
  },
  {
   "cell_type": "code",
   "execution_count": null,
   "metadata": {},
   "outputs": [],
   "source": [
    "gdf = df.groupby(['origin','dest'])\n",
    "\n",
    "for g, vals in gdf.groups.items():\n",
    "    print(g, len(vals))"
   ]
  },
  {
   "cell_type": "code",
   "execution_count": null,
   "metadata": {},
   "outputs": [],
   "source": [
    "gdf.agg({'year':'count'}).rename(columns={'year':'num'})"
   ]
  },
  {
   "cell_type": "markdown",
   "metadata": {},
   "source": [
    "2. Escribe un programa Pandas para calcula la media, desviación estándar, min y max del retraso total de cada orgige-destino."
   ]
  },
  {
   "cell_type": "code",
   "execution_count": 27,
   "metadata": {},
   "outputs": [
    {
     "name": "stdout",
     "output_type": "stream",
     "text": [
      "            total_delay                      \n",
      "                   mean         std min   max\n",
      "origin dest                                  \n",
      "EWR    ALB    35.230769   92.478247 -36   618\n",
      "       ANC    15.307692   43.453777 -30   121\n",
      "       ATL    32.235533  114.946191 -47  2177\n",
      "       AUS     5.871479   63.006811 -62   539\n",
      "       AVL    24.903448   82.071727 -33   625\n",
      "...                 ...         ...  ..   ...\n",
      "LGA    SYR    23.346386   88.091602 -54   844\n",
      "       TPA    15.267279   80.570698 -57   964\n",
      "       TVC    71.500000  183.741200 -41   765\n",
      "       TYS    17.305389   57.004937 -44   291\n",
      "       XNA     6.911565   53.977890 -64   320\n",
      "\n",
      "[221 rows x 4 columns]\n"
     ]
    }
   ],
   "source": [
    "df['total_delay'] = df['dep_delay']+df['arr_delay']\n",
    "gdf = df.groupby(['origin','dest'])\n",
    "# gdf.first()\n",
    "\n",
    "agdf = gdf.agg({'total_delay':['mean','std','min','max']})\n",
    "print(agdf)"
   ]
  },
  {
   "cell_type": "markdown",
   "metadata": {},
   "source": [
    "3. Escribe un programa Pandas para dividir un conjunto de datos y agruparlos por dos columnas, y luego ordenar los resultados agregados dentro de los grupos.\n",
    "\n",
    "En el siguiente conjunto de datos de vuelos, agrupar \"date\" (fecha completa) y \"carrier\". Luego ordenar la suma de 'total_delay' dentro de los grupos."
   ]
  },
  {
   "cell_type": "code",
   "execution_count": 35,
   "metadata": {},
   "outputs": [
    {
     "data": {
      "text/plain": [
       "date        carrier\n",
       "2014-01-01  B6         9383\n",
       "            UA         5897\n",
       "            EV         4675\n",
       "            MQ         3122\n",
       "            WN         2744\n",
       "                       ... \n",
       "2014-10-31  UA         4862\n",
       "            AA         3090\n",
       "            VX           14\n",
       "            HA           -4\n",
       "            F9          -20\n",
       "Name: total_delay, Length: 1520, dtype: int64"
      ]
     },
     "execution_count": 35,
     "metadata": {},
     "output_type": "execute_result"
    }
   ],
   "source": [
    "df['date'] = pd.to_datetime(df[['year', 'month', 'day']])\n",
    "# df.info()\n",
    "\n",
    "gdf = df.groupby(['date', 'carrier']).agg({\"total_delay\": sum})\n",
    "gdf[\"total_delay\"].groupby(level=0, group_keys=False).nlargest()"
   ]
  },
  {
   "cell_type": "markdown",
   "metadata": {},
   "source": [
    "4. Escribe un programa Pandas para contar el múmero de retrasos de salida por mes y origen."
   ]
  },
  {
   "cell_type": "code",
   "execution_count": null,
   "metadata": {},
   "outputs": [],
   "source": []
  },
  {
   "cell_type": "markdown",
   "metadata": {},
   "source": [
    "5. Escribe un programa Pandas para cargar los datos de productos y ventas del archivo FoodMarket.xlsx y mézclalos en un solo dataframe."
   ]
  },
  {
   "cell_type": "code",
   "execution_count": 22,
   "metadata": {},
   "outputs": [
    {
     "name": "stdout",
     "output_type": "stream",
     "text": [
      "<class 'pandas.core.frame.DataFrame'>\n",
      "Int64Index: 70 entries, 10 to 60\n",
      "Data columns (total 4 columns):\n",
      " #   Column    Non-Null Count  Dtype  \n",
      "---  ------    --------------  -----  \n",
      " 0   Product   70 non-null     int64  \n",
      " 1   Name.x    70 non-null     object \n",
      " 2   provider  70 non-null     int64  \n",
      " 3   Price     70 non-null     float64\n",
      "dtypes: float64(1), int64(2), object(1)\n",
      "memory usage: 2.7+ KB\n",
      "    Product                                   Name.x  provider      Price\n",
      "10        1                         American cheeses         1   8.913593\n",
      "12        2  Appellation d'Origine Contrôlée cheeses         1  10.705655\n",
      "55        3                          Apple cultivars         1  11.280984\n",
      "58        4                             Bacon dishes         1  10.144121\n",
      "54        5                        Bacon substitutes         1  11.089174\n",
      "    Product             Name.x  provider      Price\n",
      "61       66     Turkish dishes         4  41.352309\n",
      "20       67  Twice-baked foods         4  41.740085\n",
      "6        68     Vegetable oils         4  35.583480\n",
      "64       69         Vegetables         4  37.070492\n",
      "60       70             Vodkas         4  40.404487\n"
     ]
    },
    {
     "data": {
      "text/html": [
       "<div>\n",
       "<style scoped>\n",
       "    .dataframe tbody tr th:only-of-type {\n",
       "        vertical-align: middle;\n",
       "    }\n",
       "\n",
       "    .dataframe tbody tr th {\n",
       "        vertical-align: top;\n",
       "    }\n",
       "\n",
       "    .dataframe thead th {\n",
       "        text-align: right;\n",
       "    }\n",
       "</style>\n",
       "<table border=\"1\" class=\"dataframe\">\n",
       "  <thead>\n",
       "    <tr style=\"text-align: right;\">\n",
       "      <th></th>\n",
       "      <th>Product</th>\n",
       "      <th>provider</th>\n",
       "      <th>Price</th>\n",
       "    </tr>\n",
       "  </thead>\n",
       "  <tbody>\n",
       "    <tr>\n",
       "      <th>count</th>\n",
       "      <td>70.000000</td>\n",
       "      <td>70.000000</td>\n",
       "      <td>70.000000</td>\n",
       "    </tr>\n",
       "    <tr>\n",
       "      <th>mean</th>\n",
       "      <td>35.500000</td>\n",
       "      <td>1.828571</td>\n",
       "      <td>18.309713</td>\n",
       "    </tr>\n",
       "    <tr>\n",
       "      <th>std</th>\n",
       "      <td>20.351085</td>\n",
       "      <td>1.049105</td>\n",
       "      <td>10.454415</td>\n",
       "    </tr>\n",
       "    <tr>\n",
       "      <th>min</th>\n",
       "      <td>1.000000</td>\n",
       "      <td>1.000000</td>\n",
       "      <td>8.236004</td>\n",
       "    </tr>\n",
       "    <tr>\n",
       "      <th>25%</th>\n",
       "      <td>18.250000</td>\n",
       "      <td>1.000000</td>\n",
       "      <td>9.990970</td>\n",
       "    </tr>\n",
       "    <tr>\n",
       "      <th>50%</th>\n",
       "      <td>35.500000</td>\n",
       "      <td>1.000000</td>\n",
       "      <td>11.158073</td>\n",
       "    </tr>\n",
       "    <tr>\n",
       "      <th>75%</th>\n",
       "      <td>52.750000</td>\n",
       "      <td>3.000000</td>\n",
       "      <td>29.619032</td>\n",
       "    </tr>\n",
       "    <tr>\n",
       "      <th>max</th>\n",
       "      <td>70.000000</td>\n",
       "      <td>4.000000</td>\n",
       "      <td>41.740085</td>\n",
       "    </tr>\n",
       "  </tbody>\n",
       "</table>\n",
       "</div>"
      ],
      "text/plain": [
       "         Product   provider      Price\n",
       "count  70.000000  70.000000  70.000000\n",
       "mean   35.500000   1.828571  18.309713\n",
       "std    20.351085   1.049105  10.454415\n",
       "min     1.000000   1.000000   8.236004\n",
       "25%    18.250000   1.000000   9.990970\n",
       "50%    35.500000   1.000000  11.158073\n",
       "75%    52.750000   3.000000  29.619032\n",
       "max    70.000000   4.000000  41.740085"
      ]
     },
     "execution_count": 22,
     "metadata": {},
     "output_type": "execute_result"
    }
   ],
   "source": [
    "import pandas as pd\n",
    "file_path = './datos/FoodMarket.xlsx'\n",
    "df_prods = pd.read_excel(file_path, sheet_name='Products', engine='openpyxl')\n",
    "df_prods.sort_values(['Product'], ascending=True, inplace=True)\n",
    "df_prods.info()\n",
    "print(df_prods.head())\n",
    "print(df_prods.tail())\n",
    "df_prods.describe()"
   ]
  },
  {
   "cell_type": "code",
   "execution_count": 23,
   "metadata": {},
   "outputs": [
    {
     "name": "stdout",
     "output_type": "stream",
     "text": [
      "<class 'pandas.core.frame.DataFrame'>\n",
      "RangeIndex: 58 entries, 0 to 57\n",
      "Data columns (total 5 columns):\n",
      " #   Column   Non-Null Count  Dtype  \n",
      "---  ------   --------------  -----  \n",
      " 0   Seller   58 non-null     int64  \n",
      " 1   Name     58 non-null     object \n",
      " 2   Lat      58 non-null     float64\n",
      " 3   Long     58 non-null     float64\n",
      " 4   Country  58 non-null     object \n",
      "dtypes: float64(2), int64(1), object(2)\n",
      "memory usage: 2.4+ KB\n",
      "   Seller        Name        Lat       Long   Country\n",
      "0       1    Food Inc  39.181453  -7.693541  Portugal\n",
      "1       2  MercaCheap  40.926250  12.561204     Italy\n",
      "2       3    Good4you  41.073917  12.724559     Italy\n",
      "3       4    Fresh&co  41.117701  13.057334     Italy\n",
      "4       5     Farmeez  40.844856  -3.670121     Spain\n",
      "    Seller                 Name        Lat       Long   Country\n",
      "53      54  Fresh Grown Grocery  39.365830  -8.333285  Portugal\n",
      "54      55           Gro And Go  41.461026  12.207095     Italy\n",
      "55      56      Steps To Saving  41.082845  12.415254     Italy\n",
      "56      57       Save And Savor  41.384304  12.541864     Italy\n",
      "57      58       Shop And Savor  41.569221  12.902040     Italy\n"
     ]
    },
    {
     "data": {
      "text/html": [
       "<div>\n",
       "<style scoped>\n",
       "    .dataframe tbody tr th:only-of-type {\n",
       "        vertical-align: middle;\n",
       "    }\n",
       "\n",
       "    .dataframe tbody tr th {\n",
       "        vertical-align: top;\n",
       "    }\n",
       "\n",
       "    .dataframe thead th {\n",
       "        text-align: right;\n",
       "    }\n",
       "</style>\n",
       "<table border=\"1\" class=\"dataframe\">\n",
       "  <thead>\n",
       "    <tr style=\"text-align: right;\">\n",
       "      <th></th>\n",
       "      <th>Seller</th>\n",
       "      <th>Lat</th>\n",
       "      <th>Long</th>\n",
       "    </tr>\n",
       "  </thead>\n",
       "  <tbody>\n",
       "    <tr>\n",
       "      <th>count</th>\n",
       "      <td>58.000000</td>\n",
       "      <td>58.000000</td>\n",
       "      <td>58.000000</td>\n",
       "    </tr>\n",
       "    <tr>\n",
       "      <th>mean</th>\n",
       "      <td>29.500000</td>\n",
       "      <td>40.347428</td>\n",
       "      <td>5.672696</td>\n",
       "    </tr>\n",
       "    <tr>\n",
       "      <th>std</th>\n",
       "      <td>16.886879</td>\n",
       "      <td>0.927661</td>\n",
       "      <td>11.279037</td>\n",
       "    </tr>\n",
       "    <tr>\n",
       "      <th>min</th>\n",
       "      <td>1.000000</td>\n",
       "      <td>38.812984</td>\n",
       "      <td>-8.910791</td>\n",
       "    </tr>\n",
       "    <tr>\n",
       "      <th>25%</th>\n",
       "      <td>15.250000</td>\n",
       "      <td>39.371341</td>\n",
       "      <td>-4.436926</td>\n",
       "    </tr>\n",
       "    <tr>\n",
       "      <th>50%</th>\n",
       "      <td>29.500000</td>\n",
       "      <td>40.750194</td>\n",
       "      <td>12.181332</td>\n",
       "    </tr>\n",
       "    <tr>\n",
       "      <th>75%</th>\n",
       "      <td>43.750000</td>\n",
       "      <td>41.088068</td>\n",
       "      <td>12.794747</td>\n",
       "    </tr>\n",
       "    <tr>\n",
       "      <th>max</th>\n",
       "      <td>58.000000</td>\n",
       "      <td>41.589359</td>\n",
       "      <td>22.812035</td>\n",
       "    </tr>\n",
       "  </tbody>\n",
       "</table>\n",
       "</div>"
      ],
      "text/plain": [
       "          Seller        Lat       Long\n",
       "count  58.000000  58.000000  58.000000\n",
       "mean   29.500000  40.347428   5.672696\n",
       "std    16.886879   0.927661  11.279037\n",
       "min     1.000000  38.812984  -8.910791\n",
       "25%    15.250000  39.371341  -4.436926\n",
       "50%    29.500000  40.750194  12.181332\n",
       "75%    43.750000  41.088068  12.794747\n",
       "max    58.000000  41.589359  22.812035"
      ]
     },
     "execution_count": 23,
     "metadata": {},
     "output_type": "execute_result"
    }
   ],
   "source": [
    "df_purch = pd.read_excel(file_path, sheet_name='Sellers', engine='openpyxl')\n",
    "df_purch.info()\n",
    "print(df_purch.head())\n",
    "print(df_purch.tail())\n",
    "df_purch.describe()"
   ]
  },
  {
   "cell_type": "code",
   "execution_count": 7,
   "metadata": {},
   "outputs": [
    {
     "name": "stdout",
     "output_type": "stream",
     "text": [
      "Requirement already satisfied: tabulate in /anaconda/envs/azureml_py38/lib/python3.10/site-packages (0.9.0)\n"
     ]
    }
   ],
   "source": [
    "!pip install tabulate"
   ]
  },
  {
   "cell_type": "code",
   "execution_count": null,
   "metadata": {},
   "outputs": [],
   "source": [
    "from tabulate import tabulate\n",
    "\n",
    "# Combinando\n",
    "\n",
    "df = pd.merge(df_purch, df_prods, on=\"Product\", how='inner')\n",
    "df.rename(columns={'Name.x': 'ProductName'}, inplace=True)\n",
    "df.info()\n",
    "df.describe()\n",
    "print('\\n')\n",
    "print(tabulate(df.head(), headers='keys'))\n",
    "print('\\n')\n",
    "print(tabulate(df.tail(), headers='keys'))"
   ]
  },
  {
   "cell_type": "markdown",
   "metadata": {},
   "source": [
    "6. Escribe un programa Pandas para extraer información sobre el número de compras totales y el monto total por nombre de producto y año. "
   ]
  },
  {
   "cell_type": "code",
   "execution_count": null,
   "metadata": {},
   "outputs": [],
   "source": [
    "gdf = df.groupby(['ProductName', df['Fecha'].dt.year]\n",
    "                 ).agg({'Quantity': sum})\n",
    "gdf"
   ]
  }
 ],
 "metadata": {
  "kernelspec": {
   "display_name": "Python 3.8 - AzureML",
   "language": "python",
   "name": "python38-azureml"
  },
  "language_info": {
   "codemirror_mode": {
    "name": "ipython",
    "version": 3
   },
   "file_extension": ".py",
   "mimetype": "text/x-python",
   "name": "python",
   "nbconvert_exporter": "python",
   "pygments_lexer": "ipython3",
   "version": "3.10.11"
  }
 },
 "nbformat": 4,
 "nbformat_minor": 2
}
