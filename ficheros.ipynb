{
 "cells": [
  {
   "cell_type": "code",
   "execution_count": null,
   "metadata": {},
   "outputs": [],
   "source": [
    "import os\n",
    "base_path = os.getcwd()\n",
    "raiz = '/home/azureuser/cloudfiles/code/Users/cesteves.netmind/python/ficheros/'"
   ]
  },
  {
   "cell_type": "code",
   "execution_count": 15,
   "metadata": {},
   "outputs": [],
   "source": [
    "texto = \"\"\"Este es una prueba222\n",
    "y sigue\n",
    "y siguemas\"\"\"\n",
    "\n",
    "\n",
    "try:\n",
    "    f_out = open(raiz + \"sample.txt\", 'w')\n",
    "    f_out.write(texto)\n",
    "    f_out.close()\n",
    "except Error as err:\n",
    "    print('Problemasssssss', err)\n",
    "\n"
   ]
  },
  {
   "cell_type": "code",
   "execution_count": 16,
   "metadata": {},
   "outputs": [
    {
     "name": "stdout",
     "output_type": "stream",
     "text": [
      "Este es una prueba222\n",
      "\n",
      "y sigue\n",
      "\n",
      "y siguemas\n"
     ]
    }
   ],
   "source": [
    "try:\n",
    "    f_in = open(raiz + \"sample.txt\")\n",
    "    \n",
    "    for line in f_in:\n",
    "        print(line)\n",
    "\n",
    "    f_in.close()\n",
    "\n",
    "except Error as err:\n",
    "    print('Problemasssssss', err)\n"
   ]
  }
 ],
 "metadata": {
  "kernelspec": {
   "display_name": "Python 3 (ipykernel)",
   "language": "python",
   "name": "python3"
  },
  "language_info": {
   "codemirror_mode": {
    "name": "ipython",
    "version": 3
   },
   "file_extension": ".py",
   "mimetype": "text/x-python",
   "name": "python",
   "nbconvert_exporter": "python",
   "pygments_lexer": "ipython3",
   "version": "3.10.11"
  }
 },
 "nbformat": 4,
 "nbformat_minor": 2
}
