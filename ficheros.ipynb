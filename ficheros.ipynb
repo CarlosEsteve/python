{
 "cells": [
  {
   "cell_type": "markdown",
   "metadata": {},
   "source": [
    "####   FICHEROS"
   ]
  },
  {
   "cell_type": "code",
   "execution_count": null,
   "metadata": {},
   "outputs": [],
   "source": [
    "import os\n",
    "base_path = os.getcwd()\n",
    "raiz = '/home/azureuser/cloudfiles/code/Users/cesteves.netmind/python/ficheros/'"
   ]
  },
  {
   "cell_type": "code",
   "execution_count": 43,
   "metadata": {},
   "outputs": [],
   "source": [
    "texto = \"\"\"Este es una prueba222\n",
    "y sigue\n",
    "y siguemas\n",
    "y mas\"\"\"\n",
    "\n",
    "\n",
    "try:\n",
    "    f_out = open(raiz + \"sample.txt\", 'w')\n",
    "    f_out.write(texto)\n",
    "    f_out.close()\n",
    "except Error as err:\n",
    "    print('Problemasssssss', err)\n",
    "\n"
   ]
  },
  {
   "cell_type": "code",
   "execution_count": 18,
   "metadata": {},
   "outputs": [
    {
     "name": "stdout",
     "output_type": "stream",
     "text": [
      "Este es una prueba222\n",
      "\n",
      "y sigue\n",
      "\n",
      "y siguemas\n",
      "\n",
      "y mas\n"
     ]
    }
   ],
   "source": [
    "try:\n",
    "    f_in = open(raiz + \"sample.txt\")\n",
    "    \n",
    "    for line in f_in:\n",
    "        print(line)\n",
    "\n",
    "    f_in.close()\n",
    "\n",
    "except Error as err:\n",
    "    print('Problemasssssss', err)\n"
   ]
  },
  {
   "cell_type": "code",
   "execution_count": 19,
   "metadata": {},
   "outputs": [
    {
     "name": "stdout",
     "output_type": "stream",
     "text": [
      "Este es una prueba222\n",
      "y sigue\n",
      "y siguemas\n",
      "y mas\n"
     ]
    }
   ],
   "source": [
    "try:\n",
    "    f_in = open(raiz + \"sample.txt\")\n",
    "    \n",
    "    for line in f_in:\n",
    "        print(line.rstrip())        ## elimina los saltos de línea\n",
    "\n",
    "    f_in.close()\n",
    "\n",
    "except Error as err:\n",
    "    print('Problemasssssss', err)"
   ]
  },
  {
   "cell_type": "code",
   "execution_count": 30,
   "metadata": {},
   "outputs": [
    {
     "name": "stdout",
     "output_type": "stream",
     "text": [
      "['Este es una prueba222\\n', 'y sigue\\n', 'y siguemas\\n', 'y mas']\n",
      "['Este es una prueba222', 'y sigue', 'y siguemas', 'y mas']\n"
     ]
    }
   ],
   "source": [
    "try:\n",
    "    lista = open(raiz + \"sample.txt\", 'r').readlines()\n",
    "    lista_limpia = list(map(lambda l: l.rstrip(),lista))\n",
    "    print(lista)                ## tiene basurilla\n",
    "    print(lista_limpia)         ## no tiene basurilla\n",
    "\n",
    "    \n",
    "except Error as err:\n",
    "    print('Problemasssssss', err)"
   ]
  },
  {
   "cell_type": "code",
   "execution_count": 26,
   "metadata": {},
   "outputs": [
    {
     "name": "stdout",
     "output_type": "stream",
     "text": [
      "Este es una prueba222\n",
      "y sigue\n",
      "y siguemas\n",
      "y mas\n"
     ]
    }
   ],
   "source": [
    "try:\n",
    "    lista = open(raiz + \"sample.txt\", 'r').read()\n",
    "    print(lista)                \n",
    " \n",
    "except Error as err:\n",
    "    print('Problemasssssss', err)"
   ]
  },
  {
   "cell_type": "code",
   "execution_count": 44,
   "metadata": {},
   "outputs": [
    {
     "name": "stdout",
     "output_type": "stream",
     "text": [
      "Seguro que quieres eliminar:\n",
      " /home/azureuser/cloudfiles/code/Users/cesteves.netmind/python/ficheros/sample.txt y/n:\n",
      "Salimos\n"
     ]
    }
   ],
   "source": [
    "## os.remove()\n",
    "## os.rmdir()\n",
    "\n",
    "f_path = raiz + \"sample.txt\"\n",
    "isOk = os.path.isfile(f_path)\n",
    "\n",
    "if isOk:\n",
    "    print('Seguro que quieres eliminar:\\n', f_path, 'y/n:')\n",
    "    confirm = input()\n",
    "    if confirm == 'y':\n",
    "        os.remove(f_path)\n",
    "        print('Fichero', f_path, 'eliminado')\n",
    "    else:\n",
    "        print('Salimos')\n",
    "    \n",
    "\n",
    "else:\n",
    "    print('No existe el fichero')\n"
   ]
  }
 ],
 "metadata": {
  "kernelspec": {
   "display_name": "Python 3 (ipykernel)",
   "language": "python",
   "name": "python3"
  },
  "language_info": {
   "codemirror_mode": {
    "name": "ipython",
    "version": 3
   },
   "file_extension": ".py",
   "mimetype": "text/x-python",
   "name": "python",
   "nbconvert_exporter": "python",
   "pygments_lexer": "ipython3",
   "version": "3.10.11"
  }
 },
 "nbformat": 4,
 "nbformat_minor": 2
}
