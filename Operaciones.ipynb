{
 "cells": [
  {
   "cell_type": "code",
   "execution_count": null,
   "metadata": {},
   "outputs": [
    {
     "name": "stdout",
     "output_type": "stream",
     "text": [
      "HOLA\n"
     ]
    },
    {
     "name": "stdout",
     "output_type": "stream",
     "text": [
      "HOLA\n"
     ]
    }
   ],
   "source": [
    "print(\"HOLA\")"
   ]
  },
  {
   "cell_type": "code",
   "execution_count": null,
   "metadata": {},
   "outputs": [
    {
     "name": "stdout",
     "output_type": "stream",
     "text": [
      "-2 2\n"
     ]
    }
   ],
   "source": [
    "m = 2\n",
    "n = 4\n",
    "r = (m-n) * 3\n",
    "r\n",
    "rr = r/4\n",
    "rr\n",
    "c = r//4\n",
    "resto = r % 4\n",
    "print(c, resto)"
   ]
  },
  {
   "cell_type": "code",
   "execution_count": null,
   "metadata": {},
   "outputs": [
    {
     "data": {
      "text/plain": [
       "False"
      ]
     },
     "execution_count": 3,
     "metadata": {},
     "output_type": "execute_result"
    }
   ],
   "source": [
    "\"data\" in \"Hola Data mundo\""
   ]
  },
  {
   "cell_type": "code",
   "execution_count": null,
   "metadata": {},
   "outputs": [
    {
     "data": {
      "text/plain": [
       "False"
      ]
     },
     "execution_count": 4,
     "metadata": {},
     "output_type": "execute_result"
    }
   ],
   "source": [
    "l1 = [1,2,3]\n",
    "4 in l1"
   ]
  },
  {
   "cell_type": "code",
   "execution_count": null,
   "metadata": {},
   "outputs": [
    {
     "data": {
      "text/plain": [
       "'Hxla mundx'"
      ]
     },
     "execution_count": 5,
     "metadata": {},
     "output_type": "execute_result"
    }
   ],
   "source": [
    "\"Hola mundo\" .replace(\"o\",\"x\")\n"
   ]
  },
  {
   "cell_type": "code",
   "execution_count": null,
   "metadata": {},
   "outputs": [
    {
     "name": "stdout",
     "output_type": "stream",
     "text": [
      "['Hola', 'Mundo!', 'Hola']\n"
     ]
    },
    {
     "data": {
      "text/plain": [
       "'Hola_Mundo!_Hola'"
      ]
     },
     "execution_count": 6,
     "metadata": {},
     "output_type": "execute_result"
    }
   ],
   "source": [
    "str = \"Hola Mundo! Hola\"\n",
    "l1 = str.split(\" \")\n",
    "print(l1)\n",
    "\"_\".join(l1)\n",
    "\"_\".join(str.split())\n"
   ]
  },
  {
   "cell_type": "code",
   "execution_count": null,
   "metadata": {},
   "outputs": [
    {
     "data": {
      "text/plain": [
       "2"
      ]
     },
     "execution_count": 7,
     "metadata": {},
     "output_type": "execute_result"
    }
   ],
   "source": [
    "l1=str.split(\" \").count(\"Hola\")\n",
    "l1\n"
   ]
  },
  {
   "cell_type": "code",
   "execution_count": null,
   "metadata": {},
   "outputs": [
    {
     "name": "stdout",
     "output_type": "stream",
     "text": [
      "1 10\n"
     ]
    },
    {
     "data": {
      "text/plain": [
       "[2, 4, 6, 8, 10]"
      ]
     },
     "execution_count": 8,
     "metadata": {},
     "output_type": "execute_result"
    }
   ],
   "source": [
    "l1 = [1,2,3,4,5,6,7,8,9,10]\n",
    "prim = l1[0]\n",
    "ult = l1[len(l1)-1]\n",
    "print(prim, ult)\n",
    "l1[1::2]\n",
    "#l1[ind_init:ind:final:salto]"
   ]
  },
  {
   "cell_type": "code",
   "execution_count": null,
   "metadata": {},
   "outputs": [
    {
     "data": {
      "text/plain": [
       "[1, 'a', 'b', 4, 5, 6, 7, 8, 9, 10]"
      ]
     },
     "execution_count": 9,
     "metadata": {},
     "output_type": "execute_result"
    }
   ],
   "source": [
    "l1[1:3]=['a','b']\n",
    "l1"
   ]
  },
  {
   "cell_type": "code",
   "execution_count": null,
   "metadata": {},
   "outputs": [
    {
     "data": {
      "text/plain": [
       "[1, 'a', 'b', 4, 5, 6, 7, 8, 9, 10, 4]"
      ]
     },
     "execution_count": 10,
     "metadata": {},
     "output_type": "execute_result"
    }
   ],
   "source": [
    "l1.append(4)\n",
    "l1"
   ]
  },
  {
   "cell_type": "code",
   "execution_count": null,
   "metadata": {},
   "outputs": [
    {
     "data": {
      "text/plain": [
       "[1, 2, 3, 4, 5, 6, 7, 8, 9, 10]"
      ]
     },
     "execution_count": 11,
     "metadata": {},
     "output_type": "execute_result"
    }
   ],
   "source": [
    "l1 = [1,2,3,4,5,6,7,8,9,10]\n",
    "l1"
   ]
  },
  {
   "cell_type": "code",
   "execution_count": null,
   "metadata": {},
   "outputs": [
    {
     "data": {
      "text/plain": [
       "[1, 2, 3, 4, 5, 6, 7, 8, 9, 10, 'Hola']"
      ]
     },
     "execution_count": 12,
     "metadata": {},
     "output_type": "execute_result"
    }
   ],
   "source": [
    "l1.insert(len(l1),'Hola')\n",
    "l1"
   ]
  },
  {
   "cell_type": "code",
   "execution_count": null,
   "metadata": {},
   "outputs": [
    {
     "data": {
      "text/plain": [
       "3"
      ]
     },
     "execution_count": 13,
     "metadata": {},
     "output_type": "execute_result"
    }
   ],
   "source": [
    "l1 = [1,2,3,4,5,6,7,8,9,10]\n",
    "e1 = l1.pop(2)\n",
    "e1"
   ]
  },
  {
   "cell_type": "code",
   "execution_count": null,
   "metadata": {},
   "outputs": [
    {
     "name": "stdout",
     "output_type": "stream",
     "text": [
      "Error!!!\n",
      "Continua\n"
     ]
    }
   ],
   "source": [
    "l1 = [1,2,3]\n",
    "l2 = ['a','b','c']\n",
    "\n",
    "try:\n",
    "    l1 > l2\n",
    "except:\n",
    "    print('Error!!!')\n",
    "\n",
    "print('Continua')"
   ]
  },
  {
   "cell_type": "code",
   "execution_count": null,
   "metadata": {},
   "outputs": [
    {
     "name": "stdout",
     "output_type": "stream",
     "text": [
      "1\n",
      "10\n"
     ]
    }
   ],
   "source": [
    "l1 = [1,2,3,4,5,6,7,8,9,10]\n",
    "print(min(l1))\n",
    "print(max(l1))"
   ]
  },
  {
   "cell_type": "code",
   "execution_count": null,
   "metadata": {},
   "outputs": [
    {
     "data": {
      "text/plain": [
       "2"
      ]
     },
     "execution_count": 16,
     "metadata": {},
     "output_type": "execute_result"
    }
   ],
   "source": [
    "l1 = [1,2,3,4,5,6,7,8,9,10]\n",
    "l1.index(3,1)"
   ]
  },
  {
   "cell_type": "code",
   "execution_count": null,
   "metadata": {},
   "outputs": [
    {
     "data": {
      "text/plain": [
       "tuple"
      ]
     },
     "execution_count": 1,
     "metadata": {},
     "output_type": "execute_result"
    }
   ],
   "source": [
    "t1 = (1,2,3)\n",
    "t1\n",
    "type(t1)"
   ]
  },
  {
   "cell_type": "code",
   "execution_count": null,
   "metadata": {},
   "outputs": [
    {
     "data": {
      "text/plain": [
       "['lunes', 'martes', 'miercoles']"
      ]
     },
     "execution_count": 18,
     "metadata": {},
     "output_type": "execute_result"
    }
   ],
   "source": [
    "dict1 = {'lunes':1, 'martes':2, 'miercoles':3}\n",
    "l1 = list(dict1.keys())\n",
    "l1"
   ]
  },
  {
   "cell_type": "code",
   "execution_count": null,
   "metadata": {},
   "outputs": [
    {
     "data": {
      "text/plain": [
       "{1, 2, 3}"
      ]
     },
     "execution_count": 19,
     "metadata": {},
     "output_type": "execute_result"
    }
   ],
   "source": [
    "vals = set(dict1.values())\n",
    "vals"
   ]
  },
  {
   "cell_type": "code",
   "execution_count": null,
   "metadata": {},
   "outputs": [
    {
     "data": {
      "text/plain": [
       "False"
      ]
     },
     "execution_count": 20,
     "metadata": {},
     "output_type": "execute_result"
    }
   ],
   "source": [
    "'martes' in dict1.values()"
   ]
  },
  {
   "cell_type": "code",
   "execution_count": null,
   "metadata": {},
   "outputs": [
    {
     "data": {
      "text/plain": [
       "True"
      ]
     },
     "execution_count": 21,
     "metadata": {},
     "output_type": "execute_result"
    }
   ],
   "source": [
    "'martes' in dict1.keys()"
   ]
  },
  {
   "cell_type": "code",
   "execution_count": null,
   "metadata": {},
   "outputs": [
    {
     "data": {
      "text/plain": [
       "{'lunes': 'primero', 'martes': 2, 'miercoles': 3}"
      ]
     },
     "execution_count": 22,
     "metadata": {},
     "output_type": "execute_result"
    }
   ],
   "source": [
    "dict1['lunes'] = 'primero'\n",
    "dict1\n",
    "\n"
   ]
  },
  {
   "cell_type": "code",
   "execution_count": null,
   "metadata": {},
   "outputs": [
    {
     "data": {
      "text/plain": [
       "'No existe'"
      ]
     },
     "execution_count": 23,
     "metadata": {},
     "output_type": "execute_result"
    }
   ],
   "source": [
    "dict1.get('viernes','No existe')"
   ]
  },
  {
   "cell_type": "code",
   "execution_count": null,
   "metadata": {},
   "outputs": [
    {
     "name": "stdout",
     "output_type": "stream",
     "text": [
      "('1', '2', '3', '4')\n"
     ]
    },
    {
     "data": {
      "text/plain": [
       "False"
      ]
     },
     "execution_count": 24,
     "metadata": {},
     "output_type": "execute_result"
    }
   ],
   "source": [
    "Lista1 = (input(\"Num1\"), input(\"Num2\"), input(\"Num3\"), input(\"Num4\"))\n",
    "print(Lista1)\n",
    "numero = input()\n",
    "numero in Lista1\n"
   ]
  },
  {
   "cell_type": "code",
   "execution_count": null,
   "metadata": {},
   "outputs": [
    {
     "data": {
      "text/plain": [
       "18576.0"
      ]
     },
     "execution_count": 25,
     "metadata": {},
     "output_type": "execute_result"
    }
   ],
   "source": [
    "horas = int(input('Horas trabajadas'))\n",
    "precio = float(input('Precio/hora'))\n",
    "sueldo = horas * precio\n",
    "sueldo"
   ]
  },
  {
   "cell_type": "code",
   "execution_count": null,
   "metadata": {},
   "outputs": [
    {
     "name": "stdout",
     "output_type": "stream",
     "text": [
      "Número de elementos diferentes: 11\n"
     ]
    }
   ],
   "source": [
    "l1 = [1,2,3,4,5,6,7,8,9,10,3,8,18]\n",
    "s1 = set(l1)\n",
    "print('Número de elementos diferentes:',len(s1))\n"
   ]
  },
  {
   "cell_type": "code",
   "execution_count": null,
   "metadata": {},
   "outputs": [
    {
     "name": "stdout",
     "output_type": "stream",
     "text": [
      "Debe ser un número!\n"
     ]
    }
   ],
   "source": [
    "# Número en lista\n",
    "list1 = [1,2,3,4,5]\n",
    "try:\n",
    "    val = int(input(\"num:\"))\n",
    "    print('Está:',val in list1)\n",
    "except:\n",
    "    print('Debe ser un número!')"
   ]
  },
  {
   "cell_type": "code",
   "execution_count": null,
   "metadata": {},
   "outputs": [
    {
     "name": "stdout",
     "output_type": "stream",
     "text": [
      "Sueldo medio mensual: 4125.0\n"
     ]
    }
   ],
   "source": [
    "4# Suledo medio\n",
    "try:\n",
    "    horas = int(input('Horas:'))\n",
    "    pph = float(input('pph:'))\n",
    "    sa = horas * pph\n",
    "    smm = sa / 12\n",
    "    print('Sueldo medio mensual:', smm)\n",
    "except:\n",
    "    print('Deben ser números!')"
   ]
  },
  {
   "cell_type": "code",
   "execution_count": null,
   "metadata": {},
   "outputs": [
    {
     "name": "stdout",
     "output_type": "stream",
     "text": [
      "El mayor es: 3\n"
     ]
    }
   ],
   "source": [
    "# Número mayor\n",
    "txtlista =input('lista separada por \",\":')\n",
    "lista = txtlista.split(',')\n",
    "print('El mayor es:',max(lista))"
   ]
  },
  {
   "cell_type": "code",
   "execution_count": null,
   "metadata": {},
   "outputs": [
    {
     "name": "stdout",
     "output_type": "stream",
     "text": [
      "Número de elementos diferentes: 5\n"
     ]
    },
    {
     "data": {
      "text/plain": [
       "{1, 2, 3, 4, 5}"
      ]
     },
     "execution_count": 48,
     "metadata": {},
     "output_type": "execute_result"
    }
   ],
   "source": [
    "# Num valores únicos\n",
    "lista = [1, 2, 3, 4, 5, 4, 3, 2, 1]\n",
    "s1 = set(lista)\n",
    "print('Número de elementos diferentes:',len(s1))\n",
    "s1"
   ]
  },
  {
   "cell_type": "code",
   "execution_count": null,
   "metadata": {},
   "outputs": [
    {
     "name": "stdout",
     "output_type": "stream",
     "text": [
      "El segundo: 5\n"
     ]
    }
   ],
   "source": [
    "# Valor 2º posicion\n",
    "unDict = {'primero':1, 'segundo': 5, 'tercero':3}\n",
    "claves = list(unDict.keys());\n",
    "segundo = unDict.get(claves[1])\n",
    "print('El segundo:',segundo)"
   ]
  },
  {
   "cell_type": "code",
   "execution_count": null,
   "metadata": {},
   "outputs": [
    {
     "data": {
      "text/plain": [
       "{'Carlos': 8, 'Ramon': 6, 'Laura': 7}"
      ]
     },
     "execution_count": 21,
     "metadata": {},
     "output_type": "execute_result"
    }
   ],
   "source": [
    "# EJERCICIO 3\n",
    "Alumnos = ('Carlos','Ramon','Laura')\n",
    "Notas = (8,6,7)\n",
    "unDict = {Alumnos[0]:0, Alumnos[1]:1, Alumnos[1]:2}\n",
    "unDict[Alumnos[0]] = Notas[0]\n",
    "unDict[Alumnos[1]] = Notas[1]\n",
    "unDict[Alumnos[2]] = Notas[2]\n",
    "unDict\n",
    "\n"
   ]
  },
  {
   "cell_type": "code",
   "execution_count": null,
   "metadata": {},
   "outputs": [
    {
     "data": {
      "text/plain": [
       "{'Carlos': 8, 'Ramon': 6, 'Laura': 7}"
      ]
     },
     "execution_count": 3,
     "metadata": {},
     "output_type": "execute_result"
    }
   ],
   "source": [
    "# EJERCICIO 3\n",
    "Alumnos = ['Carlos','Ramon','Laura']\n",
    "Notas = [8,6,7]\n",
    "dict(zip(Alumnos, Notas))\n"
   ]
  },
  {
   "cell_type": "code",
   "execution_count": null,
   "metadata": {},
   "outputs": [
    {
     "data": {
      "text/plain": [
       "[('Ramon', 6), ('Laura', 7), ('Carlos', 8)]"
      ]
     },
     "execution_count": 14,
     "metadata": {},
     "output_type": "execute_result"
    }
   ],
   "source": [
    "# EJERCICIO 3 orden por values\n",
    "Alumnos = ['Carlos','Ramon','Laura']\n",
    "Notas = [8,6,7]\n",
    "Final = dict(zip(Alumnos, Notas))\n",
    "ls = sorted(Final.items(), key=lambda item: item[1])\n",
    "ls\n"
   ]
  },
  {
   "cell_type": "code",
   "execution_count": null,
   "metadata": {},
   "outputs": [
    {
     "data": {
      "text/plain": [
       "[('Carlos', 8), ('Laura', 7), ('Ramon', 6)]"
      ]
     },
     "execution_count": 13,
     "metadata": {},
     "output_type": "execute_result"
    }
   ],
   "source": [
    "# EJERCICIO 3 orden por keys\n",
    "Alumnos = ['Carlos','Ramon','Laura']\n",
    "Notas = [8,6,7]\n",
    "Final = dict(zip(Alumnos, Notas))\n",
    "ls = sorted(Final.items(), key=lambda item: item[0])\n",
    "ls"
   ]
  },
  {
   "cell_type": "code",
   "execution_count": null,
   "metadata": {},
   "outputs": [
    {
     "name": "stdout",
     "output_type": "stream",
     "text": [
      "Ramon 6\n",
      "Laura 7\n",
      "Carlos 8\n"
     ]
    }
   ],
   "source": [
    "clase = {'Carlos': 8, 'Ramon': 6, 'Laura': 7}\n",
    "for x in sorted(clase, key= lambda k: clase[k]):\n",
    "    print(x, clase[x])"
   ]
  },
  {
   "cell_type": "code",
   "execution_count": null,
   "metadata": {},
   "outputs": [
    {
     "name": "stdout",
     "output_type": "stream",
     "text": [
      "Ramon\n",
      "Laura\n",
      "Carlos\n"
     ]
    }
   ],
   "source": [
    "clase = {'Carlos': 8, 'Ramon': 6, 'Laura': 7}\n",
    "for x in sorted(clase, key=lambda k: clase[k]):\n",
    "    print(x)"
   ]
  },
  {
   "cell_type": "code",
   "execution_count": null,
   "metadata": {},
   "outputs": [
    {
     "name": "stdout",
     "output_type": "stream",
     "text": [
      "Ramon\n",
      "Carlos\n",
      "Laura\n"
     ]
    }
   ],
   "source": [
    "clase = {'Carlos': 8, 'Ramon': 6, 'Laura': 7}\n",
    "for x in sorted(clase, key=lambda k: k[2]):\n",
    "    print(x)"
   ]
  },
  {
   "cell_type": "code",
   "execution_count": null,
   "metadata": {},
   "outputs": [
    {
     "name": "stdout",
     "output_type": "stream",
     "text": [
      "Si es mayor o igual de 5\n"
     ]
    }
   ],
   "source": [
    "# IF, ELIF, ELSE\n",
    "n = int(input())\n",
    "if n>=2 and n < 5:\n",
    "    print('Si es mayor de 2')\n",
    "elif n >=5:\n",
    "    print('Si es mayor o igual de 5')\n",
    "else:\n",
    "    print('Es menor de 2')\n",
    "\n"
   ]
  },
  {
   "cell_type": "code",
   "execution_count": null,
   "metadata": {},
   "outputs": [
    {
     "name": "stdout",
     "output_type": "stream",
     "text": [
      "5 no está en la frase\n"
     ]
    }
   ],
   "source": [
    "# IF, ELIF, ELSE\n",
    "txt = input()\n",
    "\n",
    "if txt in 'Hola mundo':\n",
    "    print('hola está en la frase')\n",
    "else:\n",
    "    print(txt,'no está en la frase')\n"
   ]
  },
  {
   "cell_type": "code",
   "execution_count": null,
   "metadata": {},
   "outputs": [
    {
     "name": "stdout",
     "output_type": "stream",
     "text": [
      "1\n",
      "2\n",
      "3\n",
      "4\n",
      "6\n"
     ]
    }
   ],
   "source": [
    "# FOR IN\n",
    "l1 = [1,2,3,4,6]\n",
    "\n",
    "for num in l1:\n",
    "    print(num)\n"
   ]
  },
  {
   "cell_type": "code",
   "execution_count": null,
   "metadata": {},
   "outputs": [
    {
     "name": "stdout",
     "output_type": "stream",
     "text": [
      "a 1\n",
      "menor que 2\n",
      "b 2\n",
      "menor que 2\n",
      "c 3\n",
      "mayor que 2\n"
     ]
    }
   ],
   "source": [
    "# FOR IN break\n",
    "# l1 = [1,2,3,4,6]\n",
    "# t1 = [1,2,3,4,6]\n",
    "# s1 = [1,2,3,4,6]\n",
    "d1 = {'a':1,'b':2, 'c':3,}\n",
    "\n",
    "for key, val in d1.items():\n",
    "    print(key, val)\n",
    "    if val > 2:\n",
    "        print('mayor que 2')\n",
    "    else:\n",
    "        print('menor que 2')\n",
    "    if val == 0:\n",
    "        print('Salgo!!!')\n",
    "        break\n",
    "# break para salir del if o el while"
   ]
  },
  {
   "cell_type": "code",
   "execution_count": null,
   "metadata": {},
   "outputs": [
    {
     "name": "stdout",
     "output_type": "stream",
     "text": [
      "a 1\n",
      "menor que 2\n",
      "b 2\n",
      "menor que 2\n",
      "c 3\n",
      "mayor que 2\n"
     ]
    }
   ],
   "source": [
    "# FOR IN continue\n",
    "\n",
    "d1 = {'a':1,'b':2,'c':3,}\n",
    "\n",
    "for key, val in d1.items():\n",
    "    print(key, val)\n",
    "    if val > 2:\n",
    "        print('mayor que 2')\n",
    "        continue\n",
    "\n",
    "    else:\n",
    "        print('menor que 2')\n",
    "    if val == 0:\n",
    "        print('Salgo!!!')\n",
    "        break\n",
    "# break para salir del if o el while"
   ]
  },
  {
   "cell_type": "code",
   "execution_count": null,
   "metadata": {},
   "outputs": [
    {
     "name": "stdout",
     "output_type": "stream",
     "text": [
      "0\n",
      "1\n",
      "2\n",
      "3\n",
      "4\n",
      "5\n",
      "6\n",
      "7\n",
      "8\n",
      "9\n"
     ]
    }
   ],
   "source": [
    "# while\n",
    "\n",
    "contador = 0\n",
    "\n",
    "\n",
    "while contador < 10:\n",
    "    print(contador)\n",
    "    contador += 1   # contador = contador + 1\n"
   ]
  },
  {
   "cell_type": "code",
   "execution_count": null,
   "metadata": {},
   "outputs": [
    {
     "name": "stdout",
     "output_type": "stream",
     "text": [
      "1\n",
      "2\n",
      "3\n",
      "4\n",
      "5\n"
     ]
    }
   ],
   "source": [
    "l1 = [1, 2, 3, 4, 5]\n",
    "\n",
    "ind = 0\n",
    "\n",
    "while ind < len(l1):\n",
    "    print(l1[ind])\n",
    "    ind += 1\n",
    "\n",
    "# ctrl + d selecionas palabras iguales"
   ]
  },
  {
   "cell_type": "code",
   "execution_count": 101,
   "metadata": {},
   "outputs": [
    {
     "name": "stdout",
     "output_type": "stream",
     "text": [
      "a 1\n",
      "menor que 2\n",
      "b 2\n",
      "menor que 2\n",
      "z 0\n",
      "menor que 2\n",
      "Salgo!!!\n"
     ]
    }
   ],
   "source": [
    "d1 = {'a':1,'b':2,'z':0,'c':3, 'd':4}\n",
    "l1 = list(d1.items())\n",
    "\n",
    "idx = 0\n",
    "\n",
    "while idx < len(l1):\n",
    "    key, val = l1[idx]\n",
    "    idx += 1\n",
    "\n",
    "    print(key, val)\n",
    "\n",
    "    if val > 2:\n",
    "        print('mayor que 2')\n",
    "        continue\n",
    "\n",
    "    else:\n",
    "        print('menor que 2')\n",
    "    if val == 0:\n",
    "        print('Salgo!!!')\n",
    "        break\n"
   ]
  },
  {
   "cell_type": "code",
   "execution_count": null,
   "metadata": {},
   "outputs": [
    {
     "name": "stdout",
     "output_type": "stream",
     "text": [
      "has escogido: 4\n",
      "Salgo\n"
     ]
    }
   ],
   "source": [
    "opcion = 0\n",
    "\n",
    "while opcion != 4:\n",
    "    try:\n",
    "        opcion = int(input ('Escoge entre 1,2,3,4'))\n",
    "    except:\n",
    "        print('debe ser un número')\n",
    "        \n",
    "    print('has escogido:', opcion)\n",
    "    if opcion == 4:\n",
    "        print('Salgo')\n"
   ]
  },
  {
   "cell_type": "code",
   "execution_count": 113,
   "metadata": {},
   "outputs": [
    {
     "name": "stdout",
     "output_type": "stream",
     "text": [
      "('a', 1)\n",
      "a\n",
      "1\n",
      "('b', 2)\n",
      "b\n",
      "2\n",
      "('z', 0)\n",
      "z\n",
      "0\n",
      "('c', 3)\n",
      "c\n",
      "3\n",
      "('d', 4)\n",
      "d\n",
      "4\n"
     ]
    }
   ],
   "source": [
    "d1 = {'a':1,'b':2,'z':0,'c':3, 'd':4}\n",
    "l1 = list(d1.items())\n",
    "l1\n",
    "\n",
    "for file in l1:\n",
    "    print(file)\n",
    "\n",
    "    for col in file:\n",
    "        print(col)\n",
    "    \n"
   ]
  }
 ],
 "metadata": {
  "kernel_info": {
   "name": "python38-azureml"
  },
  "kernelspec": {
   "display_name": "Python 3 (ipykernel)",
   "language": "python",
   "name": "python3"
  },
  "language_info": {
   "codemirror_mode": {
    "name": "ipython",
    "version": 3
   },
   "file_extension": ".py",
   "mimetype": "text/x-python",
   "name": "python",
   "nbconvert_exporter": "python",
   "pygments_lexer": "ipython3",
   "version": "3.10.11"
  },
  "microsoft": {
   "ms_spell_check": {
    "ms_spell_check_language": "es"
   }
  },
  "nteract": {
   "version": "nteract-front-end@1.0.0"
  }
 },
 "nbformat": 4,
 "nbformat_minor": 2
}
